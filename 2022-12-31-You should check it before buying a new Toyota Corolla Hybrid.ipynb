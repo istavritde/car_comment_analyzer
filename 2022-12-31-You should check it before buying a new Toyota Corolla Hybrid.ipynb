{
 "cells": [
  {
   "cell_type": "markdown",
   "id": "15bb098d",
   "metadata": {},
   "source": [
    "# You should check it before buying a new Toyota Corolla Hybrid"
   ]
  },
  {
   "cell_type": "markdown",
   "id": "e587e557",
   "metadata": {},
   "source": [
    "![](ghtop_images/toyota_corolla_hybrid.jpeg)"
   ]
  },
  {
   "cell_type": "markdown",
   "id": "fc268baa",
   "metadata": {},
   "source": [
    "You decided to buy a brand new car, and you are really excited, afterall it is such a big thing to own a car here (%200 tax). But is it really gonna worth it ?\n",
    "If you decide to buy one, would it be a reliable, strong on the second hand and make you happy ?"
   ]
  },
  {
   "cell_type": "markdown",
   "id": "adb96613",
   "metadata": {},
   "source": [
    "These are some questions bugging my head when I decided to buy my first brand new car.  I already decided the car, it was Toyota Corolla Hybrid, it was looking reliable, fuel efficient and good size for trunk. Also it is exciting to try new tech so being hybrid was also influencing. It was the [third most selling car](https://www.arabam.com/blog/genel/2022-yili-turkiyede-en-cok-satilan-arabalar/) so it should be rather easy to sell it if I wanted to. As most people do, I’ve went and checked eksisozluk which would have an opinon as most of the things. Bu there were various ideas, some liked some not and decided to check for keywords about chronic problems etc.\n",
    "There were some listed and you can find it when you Google, but I was wondering if I could find users opion in summary.\n"
   ]
  },
  {
   "cell_type": "markdown",
   "id": "b3d7e637",
   "metadata": {},
   "source": [
    "So I decided to crawl some of the most used web sites for product reviews and complains."
   ]
  },
  {
   "cell_type": "markdown",
   "id": "4e027cb9",
   "metadata": {},
   "source": [
    "I aimed to answer these three questions:"
   ]
  },
  {
   "cell_type": "markdown",
   "id": "a9435cdd",
   "metadata": {},
   "source": [
    "1.\tCan I find a useful information among those opions so that data can help me on my decision process?\n",
    "2.\tCan I build something generic out of it so I can use for other products or maybe for other products also.\n",
    "3.\tCan I find additional chronic problems or issues other than blogposts or googled answers?"
   ]
  },
  {
   "cell_type": "markdown",
   "id": "c1809539",
   "metadata": {},
   "source": [
    "# 1.\tData"
   ]
  },
  {
   "cell_type": "markdown",
   "id": "2c2cc97c",
   "metadata": {},
   "source": [
    "I've created crawler for the eksisozluk.com and used a quick way to crawl complains from sikayetvar.com\n",
    "Toyota Corolla Hybrid has 236 comments on eksisozluk.com and 60 complaints on sikayetvar.com"
   ]
  },
  {
   "cell_type": "code",
   "execution_count": 15,
   "id": "40ab7741",
   "metadata": {},
   "outputs": [
    {
     "data": {
      "text/html": [
       "<div>\n",
       "<style scoped>\n",
       "    .dataframe tbody tr th:only-of-type {\n",
       "        vertical-align: middle;\n",
       "    }\n",
       "\n",
       "    .dataframe tbody tr th {\n",
       "        vertical-align: top;\n",
       "    }\n",
       "\n",
       "    .dataframe thead th {\n",
       "        text-align: right;\n",
       "    }\n",
       "</style>\n",
       "<table border=\"1\" class=\"dataframe\">\n",
       "  <thead>\n",
       "    <tr style=\"text-align: right;\">\n",
       "      <th></th>\n",
       "      <th>comment</th>\n",
       "      <th>date</th>\n",
       "      <th>date_modified</th>\n",
       "      <th>author</th>\n",
       "      <th>source</th>\n",
       "      <th>comments_cleaned</th>\n",
       "      <th>comment_length</th>\n",
       "      <th>word_count</th>\n",
       "      <th>sentiment</th>\n",
       "      <th>sentiment_rounded</th>\n",
       "      <th>comment_lenght_binned</th>\n",
       "      <th>comment_en</th>\n",
       "    </tr>\n",
       "  </thead>\n",
       "  <tbody>\n",
       "    <tr>\n",
       "      <th>0</th>\n",
       "      <td>türkiyede üretilecek otomobildir. kaynak</td>\n",
       "      <td>16.11.2018 23:45</td>\n",
       "      <td>NaN</td>\n",
       "      <td>sabir</td>\n",
       "      <td>toyota-corolla-hybrid</td>\n",
       "      <td>car produce turkey source</td>\n",
       "      <td>25</td>\n",
       "      <td>4</td>\n",
       "      <td>0.000000</td>\n",
       "      <td>0.0</td>\n",
       "      <td>(-0.001, 62.0]</td>\n",
       "      <td>It is a car to be produced in Turkey. source</td>\n",
       "    </tr>\n",
       "    <tr>\n",
       "      <th>1</th>\n",
       "      <td>bugün lansmanı yapılan araç. fiyat konusunda a...</td>\n",
       "      <td>13.02.2019 20:33</td>\n",
       "      <td>NaN</td>\n",
       "      <td>ayvadana</td>\n",
       "      <td>toyota-corolla-hybrid</td>\n",
       "      <td>launch today think crazy price</td>\n",
       "      <td>30</td>\n",
       "      <td>5</td>\n",
       "      <td>-0.600000</td>\n",
       "      <td>-0.6</td>\n",
       "      <td>(-0.001, 62.0]</td>\n",
       "      <td>vehicle launched today. I think they will go c...</td>\n",
       "    </tr>\n",
       "    <tr>\n",
       "      <th>2</th>\n",
       "      <td>toyota nın gösterip elletmediği yeni modelidir...</td>\n",
       "      <td>13.02.2019 22:14</td>\n",
       "      <td>NaN</td>\n",
       "      <td>thepcman</td>\n",
       "      <td>toyota-corolla-hybrid</td>\n",
       "      <td>new model show disclose obvious feature worldw...</td>\n",
       "      <td>98</td>\n",
       "      <td>14</td>\n",
       "      <td>0.045455</td>\n",
       "      <td>0.0</td>\n",
       "      <td>(62.0, 125.0]</td>\n",
       "      <td>It is a new model that Toyota has shown or not...</td>\n",
       "    </tr>\n",
       "    <tr>\n",
       "      <th>3</th>\n",
       "      <td>\"lansmana özel\" fiyatları açıklanmış modeldirh...</td>\n",
       "      <td>14.02.2019 10:08</td>\n",
       "      <td>10:09</td>\n",
       "      <td>aydgn</td>\n",
       "      <td>toyota-corolla-hybrid</td>\n",
       "      <td>model launch special price announce vision ecv...</td>\n",
       "      <td>163</td>\n",
       "      <td>29</td>\n",
       "      <td>0.357143</td>\n",
       "      <td>0.4</td>\n",
       "      <td>(125.0, 267.0]</td>\n",
       "      <td>Model with \"launch special\" prices announcedhy...</td>\n",
       "    </tr>\n",
       "    <tr>\n",
       "      <th>4</th>\n",
       "      <td>hadi suv'yi falan 1.8 motor getiriyorsun hybri...</td>\n",
       "      <td>14.02.2019 10:22</td>\n",
       "      <td>10:22</td>\n",
       "      <td>sycrone one</td>\n",
       "      <td>toyota-corolla-hybrid</td>\n",
       "      <td>come bring suv engine buyer different mean bri...</td>\n",
       "      <td>271</td>\n",
       "      <td>44</td>\n",
       "      <td>-0.209881</td>\n",
       "      <td>-0.2</td>\n",
       "      <td>(267.0, 3470.0]</td>\n",
       "      <td>Come on, you bring a SUV or something with a 1...</td>\n",
       "    </tr>\n",
       "  </tbody>\n",
       "</table>\n",
       "</div>"
      ],
      "text/plain": [
       "                                             comment               date  \\\n",
       "0           türkiyede üretilecek otomobildir. kaynak   16.11.2018 23:45   \n",
       "1  bugün lansmanı yapılan araç. fiyat konusunda a...   13.02.2019 20:33   \n",
       "2  toyota nın gösterip elletmediği yeni modelidir...   13.02.2019 22:14   \n",
       "3  \"lansmana özel\" fiyatları açıklanmış modeldirh...  14.02.2019 10:08    \n",
       "4  hadi suv'yi falan 1.8 motor getiriyorsun hybri...  14.02.2019 10:22    \n",
       "\n",
       "  date_modified       author                 source  \\\n",
       "0           NaN        sabir  toyota-corolla-hybrid   \n",
       "1           NaN     ayvadana  toyota-corolla-hybrid   \n",
       "2           NaN     thepcman  toyota-corolla-hybrid   \n",
       "3         10:09        aydgn  toyota-corolla-hybrid   \n",
       "4         10:22  sycrone one  toyota-corolla-hybrid   \n",
       "\n",
       "                                    comments_cleaned  comment_length  \\\n",
       "0                          car produce turkey source              25   \n",
       "1                     launch today think crazy price              30   \n",
       "2  new model show disclose obvious feature worldw...              98   \n",
       "3  model launch special price announce vision ecv...             163   \n",
       "4  come bring suv engine buyer different mean bri...             271   \n",
       "\n",
       "   word_count  sentiment  sentiment_rounded comment_lenght_binned  \\\n",
       "0           4   0.000000                0.0        (-0.001, 62.0]   \n",
       "1           5  -0.600000               -0.6        (-0.001, 62.0]   \n",
       "2          14   0.045455                0.0         (62.0, 125.0]   \n",
       "3          29   0.357143                0.4        (125.0, 267.0]   \n",
       "4          44  -0.209881               -0.2       (267.0, 3470.0]   \n",
       "\n",
       "                                          comment_en  \n",
       "0       It is a car to be produced in Turkey. source  \n",
       "1  vehicle launched today. I think they will go c...  \n",
       "2  It is a new model that Toyota has shown or not...  \n",
       "3  Model with \"launch special\" prices announcedhy...  \n",
       "4  Come on, you bring a SUV or something with a 1...  "
      ]
     },
     "execution_count": 15,
     "metadata": {},
     "output_type": "execute_result"
    }
   ],
   "source": [
    "eksi_toyota.head()"
   ]
  },
  {
   "cell_type": "code",
   "execution_count": 31,
   "id": "de960444",
   "metadata": {},
   "outputs": [
    {
     "data": {
      "text/html": [
       "<div>\n",
       "<style scoped>\n",
       "    .dataframe tbody tr th:only-of-type {\n",
       "        vertical-align: middle;\n",
       "    }\n",
       "\n",
       "    .dataframe tbody tr th {\n",
       "        vertical-align: top;\n",
       "    }\n",
       "\n",
       "    .dataframe thead th {\n",
       "        text-align: right;\n",
       "    }\n",
       "</style>\n",
       "<table border=\"1\" class=\"dataframe\">\n",
       "  <thead>\n",
       "    <tr style=\"text-align: right;\">\n",
       "      <th></th>\n",
       "      <th>comment</th>\n",
       "      <th>source</th>\n",
       "      <th>comment_en</th>\n",
       "      <th>comment_cleaned</th>\n",
       "      <th>comment_length</th>\n",
       "      <th>word_count</th>\n",
       "      <th>sentiment</th>\n",
       "      <th>sentiment_rounded</th>\n",
       "      <th>comment_lenght_binned</th>\n",
       "    </tr>\n",
       "  </thead>\n",
       "  <tbody>\n",
       "    <tr>\n",
       "      <th>0</th>\n",
       "      <td>Maalesef Toyota Efe Plazaya her gittiğimde ne...</td>\n",
       "      <td>https://www.sikayetvar.com</td>\n",
       "      <td>Unfortunately, every time I go to Toyota Efe P...</td>\n",
       "      <td>unfortunately time efe plaza ask sin commit bu...</td>\n",
       "      <td>658</td>\n",
       "      <td>110</td>\n",
       "      <td>-0.129167</td>\n",
       "      <td>-0.1</td>\n",
       "      <td>(501.0, 681.5]</td>\n",
       "    </tr>\n",
       "    <tr>\n",
       "      <th>1</th>\n",
       "      <td>5 yıldır Toyota CHR Hybrid araç sahibiyim ve ...</td>\n",
       "      <td>https://www.sikayetvar.com</td>\n",
       "      <td>I have owned a Toyota CHR Hybrid vehicle for 5...</td>\n",
       "      <td>own chr 5 year happy launch cross user learn s...</td>\n",
       "      <td>240</td>\n",
       "      <td>40</td>\n",
       "      <td>0.223810</td>\n",
       "      <td>0.2</td>\n",
       "      <td>(112.999, 251.25]</td>\n",
       "    </tr>\n",
       "    <tr>\n",
       "      <th>2</th>\n",
       "      <td>Toyota Corolla Cross hibrit satın almak istiy...</td>\n",
       "      <td>https://www.sikayetvar.com</td>\n",
       "      <td>I want to buy Toyota Corolla Cross hybrid, the...</td>\n",
       "      <td>want buy cross lot advertising sales mislead c...</td>\n",
       "      <td>125</td>\n",
       "      <td>17</td>\n",
       "      <td>0.011111</td>\n",
       "      <td>0.0</td>\n",
       "      <td>(112.999, 251.25]</td>\n",
       "    </tr>\n",
       "    <tr>\n",
       "      <th>3</th>\n",
       "      <td>Toyota Corolla hibrit aracım isletmesi fabrik...</td>\n",
       "      <td>https://www.sikayetvar.com</td>\n",
       "      <td>A screw was stuck in the tire of my Toyota Cor...</td>\n",
       "      <td>screw stick tire factoryoperated 11 08 2022 17...</td>\n",
       "      <td>531</td>\n",
       "      <td>86</td>\n",
       "      <td>0.037216</td>\n",
       "      <td>0.0</td>\n",
       "      <td>(501.0, 681.5]</td>\n",
       "    </tr>\n",
       "    <tr>\n",
       "      <th>4</th>\n",
       "      <td>2019 model Hybrid Corolla aracımın ön göğüste...</td>\n",
       "      <td>https://www.sikayetvar.com</td>\n",
       "      <td>My 2019 model Hybrid Corolla vehicle had scrat...</td>\n",
       "      <td>2019 model scratch discoloration dashboard kno...</td>\n",
       "      <td>255</td>\n",
       "      <td>39</td>\n",
       "      <td>-0.049660</td>\n",
       "      <td>-0.0</td>\n",
       "      <td>(251.25, 501.0]</td>\n",
       "    </tr>\n",
       "  </tbody>\n",
       "</table>\n",
       "</div>"
      ],
      "text/plain": [
       "                                             comment  \\\n",
       "0   Maalesef Toyota Efe Plazaya her gittiğimde ne...   \n",
       "1   5 yıldır Toyota CHR Hybrid araç sahibiyim ve ...   \n",
       "2   Toyota Corolla Cross hibrit satın almak istiy...   \n",
       "3   Toyota Corolla hibrit aracım isletmesi fabrik...   \n",
       "4   2019 model Hybrid Corolla aracımın ön göğüste...   \n",
       "\n",
       "                       source  \\\n",
       "0  https://www.sikayetvar.com   \n",
       "1  https://www.sikayetvar.com   \n",
       "2  https://www.sikayetvar.com   \n",
       "3  https://www.sikayetvar.com   \n",
       "4  https://www.sikayetvar.com   \n",
       "\n",
       "                                          comment_en  \\\n",
       "0  Unfortunately, every time I go to Toyota Efe P...   \n",
       "1  I have owned a Toyota CHR Hybrid vehicle for 5...   \n",
       "2  I want to buy Toyota Corolla Cross hybrid, the...   \n",
       "3  A screw was stuck in the tire of my Toyota Cor...   \n",
       "4  My 2019 model Hybrid Corolla vehicle had scrat...   \n",
       "\n",
       "                                     comment_cleaned  comment_length  \\\n",
       "0  unfortunately time efe plaza ask sin commit bu...             658   \n",
       "1  own chr 5 year happy launch cross user learn s...             240   \n",
       "2  want buy cross lot advertising sales mislead c...             125   \n",
       "3  screw stick tire factoryoperated 11 08 2022 17...             531   \n",
       "4  2019 model scratch discoloration dashboard kno...             255   \n",
       "\n",
       "   word_count  sentiment  sentiment_rounded comment_lenght_binned  \n",
       "0         110  -0.129167               -0.1        (501.0, 681.5]  \n",
       "1          40   0.223810                0.2     (112.999, 251.25]  \n",
       "2          17   0.011111                0.0     (112.999, 251.25]  \n",
       "3          86   0.037216                0.0        (501.0, 681.5]  \n",
       "4          39  -0.049660               -0.0       (251.25, 501.0]  "
      ]
     },
     "execution_count": 31,
     "metadata": {},
     "output_type": "execute_result"
    }
   ],
   "source": [
    "sikayetvar_toyota.head()"
   ]
  },
  {
   "cell_type": "markdown",
   "id": "7266155b",
   "metadata": {},
   "source": [
    "## 1.1 Cleaning"
   ]
  },
  {
   "cell_type": "markdown",
   "id": "60f93391",
   "metadata": {},
   "source": [
    "The raw data was bit dirty so I had to remove \\n, \\r and some special characters before working on it.\n",
    "Translated all comments from Turkish to English using Google Cloud Translate API."
   ]
  },
  {
   "cell_type": "markdown",
   "id": "9777abc6",
   "metadata": {},
   "source": [
    "## 1.2 Transformation"
   ]
  },
  {
   "cell_type": "markdown",
   "id": "ab5ad313",
   "metadata": {},
   "source": [
    "After cleaning, removed specific keywords like, toyota, vehicle and lemmatized words."
   ]
  },
  {
   "cell_type": "markdown",
   "id": "15749f69",
   "metadata": {},
   "source": [
    "## 1.3 Features"
   ]
  },
  {
   "cell_type": "markdown",
   "id": "0bfccd84",
   "metadata": {},
   "source": [
    "Computed comment_length, word_count for each comment. Then used Textblob to predict the sentiment of each comment."
   ]
  },
  {
   "cell_type": "markdown",
   "id": "e20f9cd1",
   "metadata": {},
   "source": [
    "## 1.4 Analysis"
   ]
  },
  {
   "cell_type": "markdown",
   "id": "80a75d59",
   "metadata": {},
   "source": [
    "![](ghtop_images/toyota_analysis_1.png)"
   ]
  },
  {
   "cell_type": "markdown",
   "id": "d64c6603",
   "metadata": {},
   "source": [
    "Since eksisozluk.com is a place where people can write good and bad experiences, we can see the balance from the sentiment distribution. Most of the comments are short."
   ]
  },
  {
   "cell_type": "markdown",
   "id": "e3487c98",
   "metadata": {},
   "source": [
    "![](ghtop_images/toyota_analysis_2.png)"
   ]
  },
  {
   "cell_type": "markdown",
   "id": "3e67f88e",
   "metadata": {},
   "source": [
    "On the other hand, people often visit sikayetvar.com when they experience some issue, so we can see that complaints length and sentiment are diverse."
   ]
  },
  {
   "cell_type": "markdown",
   "id": "705adb41",
   "metadata": {},
   "source": [
    "![](ghtop_images/toyota_analysis_3.png)"
   ]
  },
  {
   "cell_type": "markdown",
   "id": "f038d5c8",
   "metadata": {},
   "source": [
    "On eksisozluk.com, people tend to write longer comments if they like the car."
   ]
  },
  {
   "cell_type": "markdown",
   "id": "ade05f0b",
   "metadata": {},
   "source": [
    "![](ghtop_images/toyota_analysis_4.png)"
   ]
  },
  {
   "cell_type": "markdown",
   "id": "c31ba65b",
   "metadata": {},
   "source": [
    "On the other hand, on sikayetvar.com if users are frustrated or negative it looks like they write longer."
   ]
  },
  {
   "cell_type": "markdown",
   "id": "8053f6c0",
   "metadata": {},
   "source": [
    "![](ghtop_images/toyota_analysis_5.png)"
   ]
  },
  {
   "cell_type": "markdown",
   "id": "6b7eb10f",
   "metadata": {},
   "source": [
    "on eksisozluk.com, people are mostly talking about cars consumption and speed."
   ]
  },
  {
   "cell_type": "markdown",
   "id": "1076f893",
   "metadata": {},
   "source": [
    "![](ghtop_images/toyota_analysis_6.png)"
   ]
  },
  {
   "cell_type": "markdown",
   "id": "41b7fb5b",
   "metadata": {},
   "source": [
    "on sikayetvar.com, it seems like people complains more about service and warranty issues."
   ]
  },
  {
   "cell_type": "markdown",
   "id": "e001d3d1",
   "metadata": {},
   "source": [
    "# 2. Topic Modeling"
   ]
  },
  {
   "cell_type": "markdown",
   "id": "4a94424f",
   "metadata": {},
   "source": [
    "I've used several methods to find the topics, at the end, LDA was the best model among them. Lets see if we can divide those comments and complaints to 3 main topics."
   ]
  },
  {
   "cell_type": "markdown",
   "id": "ffd544c1",
   "metadata": {},
   "source": [
    "## 2.1 Eksisozluk Comments"
   ]
  },
  {
   "cell_type": "markdown",
   "id": "1b58eeab",
   "metadata": {},
   "source": [
    "Here is the formula of three topics:"
   ]
  },
  {
   "cell_type": "markdown",
   "id": "5fea7392",
   "metadata": {},
   "source": [
    "1. **Topic_0:** 0.023*\"km\" + 0.019*\"car\" + 0.013*\"engine\" + 0.009*\"liter\" + 0.009*\"fuel\" + 0.009*\"speed\" + 0.008*\"use\" + 0.007*\"drive\" + 0.007*\"consumption\" + 0.007*\"do\"\n",
    "\n",
    "2. **Topic_1:** 0.016*\"car\" + 0.011*\"engine\" + 0.010*\"km\" + 0.009*\"like\" + 0.007*\"drive\" + 0.007*\"electric\" + 0.007*\"use\" + 0.006*\"road\" + 0.006*\"gasoline\" + '0.006*\"fuel\"\n",
    "3. **Topic_2:** 0.023*\"car\" + 0.013*\"engine\" + 0.009*\"km\" + 0.009*\"city\" + 0.009*\"fuel\" + 0.008*\"use\" + 0.008*\"battery\" + 0.008*\"drive\" + 0.008*\"like\" + 0.007*\"consumption\""
   ]
  },
  {
   "cell_type": "markdown",
   "id": "ada84ee1",
   "metadata": {},
   "source": [
    "![](ghtop_images/lda_eksi.png)"
   ]
  },
  {
   "cell_type": "markdown",
   "id": "361dd630",
   "metadata": {},
   "source": [
    "Here we can see on eksisozluk.com topics are:"
   ]
  },
  {
   "cell_type": "markdown",
   "id": "904ec2fb",
   "metadata": {},
   "source": [
    "1. Cars consumption efficienty  \n",
    "2. Cars speed\n",
    "3. More or less similar as 1."
   ]
  },
  {
   "cell_type": "markdown",
   "id": "62800e56",
   "metadata": {},
   "source": [
    "## 2.2 Sikayetvar Complaints"
   ]
  },
  {
   "cell_type": "markdown",
   "id": "d7b1e356",
   "metadata": {},
   "source": [
    "Here is the formula of three topics:"
   ]
  },
  {
   "cell_type": "markdown",
   "id": "fdcb5047",
   "metadata": {},
   "source": [
    "1. **Topic 0:** 0.044*\"car\" + 0.033*\"km\" + 0.024*\"engine\" + 0.018*\"fuel\" + 0.017*\"battery\" + 0.015*\"consumption\" 0.014*\"like\" + 0.014*\"think\" + 0.014*\"use\" + 0.013*\"gasoline\"\n",
    "\n",
    "2. **Topic 1:** 0.038*\"km\" + 0.037*\"car\" + 0.021*\"drive\" + 0.021*\"city\" + 0.020*\"liter\" + 0.020*\"use\" + 0.017*\"fuel\" + 0.016*\"do\" + 0.016*\"engine\" + 0.015*\"burn\"\n",
    "\n",
    "3. **Topic 2:** 0.036*\"engine\" + 0.033*\"car\" + 0.019*\"km\" + 0.016*\"speed\" + 0.016*\"like\" + 0.016*\"battery\" + 0.015*\"electric\" + 0.013*\"buy\" + 0.013*\"fuel\" + 0.012*\"drive\""
   ]
  },
  {
   "cell_type": "markdown",
   "id": "9d30b943",
   "metadata": {},
   "source": [
    "These are the words and their weight on building the corresponding topics."
   ]
  },
  {
   "cell_type": "markdown",
   "id": "f38923f7",
   "metadata": {},
   "source": [
    "![](ghtop_images/lda_sikayet.png)"
   ]
  },
  {
   "cell_type": "markdown",
   "id": "10dc2a08",
   "metadata": {},
   "source": [
    "Here we can see on sikayetvar.com topics are:"
   ]
  },
  {
   "cell_type": "markdown",
   "id": "bfd20415",
   "metadata": {},
   "source": [
    "1. First topic is generally about engine.\n",
    "2. Second one is about consumption.\n",
    "3. Third one is similar to second but also about battery."
   ]
  },
  {
   "cell_type": "markdown",
   "id": "48fbd264",
   "metadata": {},
   "source": [
    "## 3. Conclusion"
   ]
  },
  {
   "cell_type": "markdown",
   "id": "dddf1e0c",
   "metadata": {},
   "source": [
    "It seems like I found answers to first two of my questions on beginning, so it seems like people liked the car and there are complaints about service and warranty.\n",
    "This approch can be transformed into a generic application so we can search for keywords and get a summary about products. However I could not find any chronic problem information on first glance. Maybe it can be derived with deeper analysis."
   ]
  },
  {
   "cell_type": "markdown",
   "id": "5f382e70",
   "metadata": {},
   "source": [
    "I've created a interactive dashboard using Streamlit and LDA with the top selling three cars of 2022 in Turkiye, so you can review from the application. You can get more information about the analysis from the [Github repository.](https://github.com/istavritde/car_comment_analyzer) "
   ]
  }
 ],
 "metadata": {
  "kernelspec": {
   "display_name": "Python 3 (ipykernel)",
   "language": "python",
   "name": "python3"
  },
  "language_info": {
   "codemirror_mode": {
    "name": "ipython",
    "version": 3
   },
   "file_extension": ".py",
   "mimetype": "text/x-python",
   "name": "python",
   "nbconvert_exporter": "python",
   "pygments_lexer": "ipython3",
   "version": "3.9.13"
  }
 },
 "nbformat": 4,
 "nbformat_minor": 5
}
