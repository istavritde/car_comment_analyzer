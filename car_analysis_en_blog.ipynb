{
 "cells": [
  {
   "cell_type": "code",
   "execution_count": 6,
   "metadata": {
    "id": "_4CzNWFxjiRi"
   },
   "outputs": [
    {
     "name": "stderr",
     "output_type": "stream",
     "text": [
      "/opt/anaconda3/lib/python3.9/site-packages/past/builtins/misc.py:45: DeprecationWarning: the imp module is deprecated in favour of importlib; see the module's documentation for alternative uses\n",
      "  from imp import reload\n"
     ]
    }
   ],
   "source": [
    "import pandas as pd\n",
    "import re\n",
    "import string\n",
    "from spacy.lang.en import stop_words\n",
    "import numpy as np\n",
    "import bertopic\n",
    "import simplemma\n",
    "from pandarallel import pandarallel\n",
    "import seaborn as sns\n",
    "import matplotlib.pyplot as plt\n",
    "import matplotlib\n",
    "from textblob import TextBlob, Word, Blobber\n",
    "from nltk.probability import FreqDist\n",
    "import gensim.corpora as corpora\n",
    "import gensim\n",
    "from gensim.models import CoherenceModel\n",
    "\n",
    "from pyLDAvis import gensim_models\n",
    "import pickle \n",
    "import pyLDAvis\n",
    "import os\n",
    "from sklearn.feature_extraction.text import CountVectorizer\n",
    "from sklearn.feature_extraction.text import TfidfVectorizer\n",
    "from sklearn.decomposition import LatentDirichletAllocation, NMF\n",
    "from pprint import pprint"
   ]
  },
  {
   "cell_type": "code",
   "execution_count": 3,
   "metadata": {
    "id": "n0Iyi0TfiWu8"
   },
   "outputs": [],
   "source": [
    "#import getpass\n",
    "#APIKEY = getpass.getpass()\n",
    "from googleapiclient.discovery import build\n",
    "np.random.seed(1)"
   ]
  },
  {
   "cell_type": "code",
   "execution_count": 19,
   "metadata": {
    "colab": {
     "base_uri": "https://localhost:8080/"
    },
    "id": "5FVks9ujnfh-",
    "outputId": "dd179f70-9b59-48b2-e821-7eda3fcf0662"
   },
   "outputs": [
    {
     "name": "stdout",
     "output_type": "stream",
     "text": [
      "INFO: Pandarallel will run on 8 workers.\n",
      "INFO: Pandarallel will use standard multiprocessing data transfer (pipe) to transfer data between the main process and workers.\n"
     ]
    }
   ],
   "source": [
    "pandarallel.initialize(progress_bar=True,nb_workers=8)"
   ]
  },
  {
   "cell_type": "markdown",
   "metadata": {
    "id": "JNfJPzZQVazv"
   },
   "source": [
    "## Functions"
   ]
  },
  {
   "cell_type": "code",
   "execution_count": 7,
   "metadata": {
    "id": "UQ_wMU-YVcOW"
   },
   "outputs": [],
   "source": [
    "def translator(input):\n",
    "  service = build('translate', 'v2', developerKey=APIKEY)\n",
    "  # use the service\n",
    "  inputs = [input.replace(\"\\n\",\"\").replace(\"\\r\",\"\").replace(\"\\t\",\"\").strip()]\n",
    "  outputs = service.translations().list(source='tr', target='en', q=inputs).execute()\n",
    "  return outputs['translations']\n",
    "\n",
    "def remove_stop_words(s):\n",
    "  filtered_words = [i for i in s.split(\" \") if i not in stop_words_list]\n",
    "  clean_text = ' '.join(filtered_words)\n",
    "  return clean_text\n",
    "\n",
    "def transform_lemma(s):\n",
    "  lang_data = simplemma.load_data(\"en\")\n",
    "  transformed_sent = []\n",
    "  for tmp_word in s.split():\n",
    "    cleaned = simplemma.lemmatize(tmp_word,lang_data)\n",
    "    transformed_sent.append(cleaned)\n",
    "\n",
    "  return \" \".join(transformed_sent)\n",
    "\n",
    "def clean_comments(s):\n",
    "    \"\"\"\n",
    "    :param s: string to be processed\n",
    "    :return: processed string: see comments in the source code for more info\n",
    "    \"\"\"\n",
    "    # normalization 1: xxxThis is a --> xxx. This is a (missing delimiter)\n",
    "    s = s.replace(\".\",\" \")\n",
    "    s = re.sub(r'([a-z])([A-Z])', r'\\1\\. \\2', s)  # before lower case\n",
    "    # normalization 2: lower case\n",
    "    s = s.lower()\n",
    "    s = s.replace(\"&#39;\",\"'\")\n",
    "\n",
    "    s = s.translate(str.maketrans('', '', string.punctuation))\n",
    "    \n",
    "\n",
    "    s = s.replace(\"kaynak\",\"\").replace(\"\\xa0\",\" \")\\\n",
    "    .replace(\"®\",\"\").replace(\"soure\",\"\")\n",
    "    s = s.replace(\"toyota\",\"\").replace(\"toyota\",\"\")\\\n",
    "    .replace(\"hybrid\",\"\").replace(\"vehicle\",\"\").replace(\"corolla\",\"\")\n",
    "    s= remove_stop_words(s)\n",
    "    s= transform_lemma(s)\n",
    "\n",
    "    return s.strip()\n",
    "    \n",
    "def find_lda_topic(x,id2word,corpus,lda_model,num_topics):\n",
    "    \n",
    "    bow = id2word.doc2bow(x.split())\n",
    "    transform_document = lda_model.get_document_topics(bow)\n",
    "    prediccted_topic = {i[0]:i[1] for i in transform_document}\n",
    "    return max(prediccted_topic, key=prediccted_topic.get)"
   ]
  },
  {
   "cell_type": "markdown",
   "metadata": {},
   "source": [
    "# 0. Business Understanding"
   ]
  },
  {
   "cell_type": "markdown",
   "metadata": {},
   "source": [
    "Aim of this analysis to create a generic application using a machine learning algorithm to provide information to potential car buyers from public data."
   ]
  },
  {
   "cell_type": "markdown",
   "metadata": {},
   "source": [
    "# 1. Data Understanding"
   ]
  },
  {
   "cell_type": "markdown",
   "metadata": {
    "id": "75PMP79qVPUF"
   },
   "source": [
    "## Read Data"
   ]
  },
  {
   "cell_type": "markdown",
   "metadata": {
    "id": "eQkjHVV_VWF4"
   },
   "source": [
    "Reading saved and translated data."
   ]
  },
  {
   "cell_type": "code",
   "execution_count": 12,
   "metadata": {
    "id": "wMFOKwtcLCyv"
   },
   "outputs": [],
   "source": [
    "eksi = pd.read_pickle(\"files/all_cars_en_cleaned_v3.pickle\")\n",
    "eksi_toyota = eksi[eksi.source=='toyota-corolla-hybrid']\n",
    "sikayet = pd.read_pickle(\"files/sikayet_en.pickle\")"
   ]
  },
  {
   "cell_type": "code",
   "execution_count": 13,
   "metadata": {
    "colab": {
     "base_uri": "https://localhost:8080/"
    },
    "id": "kGqLxpagjbG4",
    "outputId": "d95caf49-e7a4-475b-a84d-2727a2c26c74"
   },
   "outputs": [
    {
     "data": {
      "text/plain": [
       "(236, 12)"
      ]
     },
     "execution_count": 13,
     "metadata": {},
     "output_type": "execute_result"
    }
   ],
   "source": [
    "eksi_toyota.shape"
   ]
  },
  {
   "cell_type": "code",
   "execution_count": 23,
   "metadata": {
    "colab": {
     "base_uri": "https://localhost:8080/",
     "height": 617
    },
    "id": "D9GZ3xwlVrFb",
    "outputId": "312fafc8-67f0-4d23-e98d-0a46b1466b76"
   },
   "outputs": [
    {
     "data": {
      "text/html": [
       "\n",
       "  <div id=\"df-f7fe820a-0a05-4d1c-b60e-d33bfb41cd88\">\n",
       "    <div class=\"colab-df-container\">\n",
       "      <div>\n",
       "<style scoped>\n",
       "    .dataframe tbody tr th:only-of-type {\n",
       "        vertical-align: middle;\n",
       "    }\n",
       "\n",
       "    .dataframe tbody tr th {\n",
       "        vertical-align: top;\n",
       "    }\n",
       "\n",
       "    .dataframe thead th {\n",
       "        text-align: right;\n",
       "    }\n",
       "</style>\n",
       "<table border=\"1\" class=\"dataframe\">\n",
       "  <thead>\n",
       "    <tr style=\"text-align: right;\">\n",
       "      <th></th>\n",
       "      <th>comment</th>\n",
       "      <th>date</th>\n",
       "      <th>date_modified</th>\n",
       "      <th>author</th>\n",
       "      <th>source</th>\n",
       "      <th>comments_cleaned</th>\n",
       "      <th>comment_length</th>\n",
       "      <th>word_count</th>\n",
       "      <th>sentiment</th>\n",
       "      <th>sentiment_rounded</th>\n",
       "      <th>comment_lenght_binned</th>\n",
       "      <th>comment_en</th>\n",
       "    </tr>\n",
       "  </thead>\n",
       "  <tbody>\n",
       "    <tr>\n",
       "      <th>0</th>\n",
       "      <td>türkiyede üretilecek otomobildir. kaynak</td>\n",
       "      <td>16.11.2018 23:45</td>\n",
       "      <td>NaN</td>\n",
       "      <td>sabir</td>\n",
       "      <td>toyota-corolla-hybrid</td>\n",
       "      <td>car produce turkey source</td>\n",
       "      <td>25</td>\n",
       "      <td>4</td>\n",
       "      <td>0.000000</td>\n",
       "      <td>0.0</td>\n",
       "      <td>(-0.001, 62.0]</td>\n",
       "      <td>It is a car to be produced in Turkey. source</td>\n",
       "    </tr>\n",
       "    <tr>\n",
       "      <th>1</th>\n",
       "      <td>bugün lansmanı yapılan araç. fiyat konusunda a...</td>\n",
       "      <td>13.02.2019 20:33</td>\n",
       "      <td>NaN</td>\n",
       "      <td>ayvadana</td>\n",
       "      <td>toyota-corolla-hybrid</td>\n",
       "      <td>launch today think crazy price</td>\n",
       "      <td>30</td>\n",
       "      <td>5</td>\n",
       "      <td>-0.600000</td>\n",
       "      <td>-0.6</td>\n",
       "      <td>(-0.001, 62.0]</td>\n",
       "      <td>vehicle launched today. I think they will go c...</td>\n",
       "    </tr>\n",
       "    <tr>\n",
       "      <th>2</th>\n",
       "      <td>toyota nın gösterip elletmediği yeni modelidir...</td>\n",
       "      <td>13.02.2019 22:14</td>\n",
       "      <td>NaN</td>\n",
       "      <td>thepcman</td>\n",
       "      <td>toyota-corolla-hybrid</td>\n",
       "      <td>new model show disclose obvious feature worldw...</td>\n",
       "      <td>98</td>\n",
       "      <td>14</td>\n",
       "      <td>0.045455</td>\n",
       "      <td>0.0</td>\n",
       "      <td>(62.0, 125.0]</td>\n",
       "      <td>It is a new model that Toyota has shown or not...</td>\n",
       "    </tr>\n",
       "    <tr>\n",
       "      <th>3</th>\n",
       "      <td>\"lansmana özel\" fiyatları açıklanmış modeldirh...</td>\n",
       "      <td>14.02.2019 10:08</td>\n",
       "      <td>10:09</td>\n",
       "      <td>aydgn</td>\n",
       "      <td>toyota-corolla-hybrid</td>\n",
       "      <td>model launch special price announce vision ecv...</td>\n",
       "      <td>163</td>\n",
       "      <td>29</td>\n",
       "      <td>0.357143</td>\n",
       "      <td>0.4</td>\n",
       "      <td>(125.0, 267.0]</td>\n",
       "      <td>Model with \"launch special\" prices announcedhy...</td>\n",
       "    </tr>\n",
       "    <tr>\n",
       "      <th>4</th>\n",
       "      <td>hadi suv'yi falan 1.8 motor getiriyorsun hybri...</td>\n",
       "      <td>14.02.2019 10:22</td>\n",
       "      <td>10:22</td>\n",
       "      <td>sycrone one</td>\n",
       "      <td>toyota-corolla-hybrid</td>\n",
       "      <td>come bring suv engine buyer different mean bri...</td>\n",
       "      <td>271</td>\n",
       "      <td>44</td>\n",
       "      <td>-0.209881</td>\n",
       "      <td>-0.2</td>\n",
       "      <td>(267.0, 3470.0]</td>\n",
       "      <td>Come on, you bring a SUV or something with a 1...</td>\n",
       "    </tr>\n",
       "  </tbody>\n",
       "</table>\n",
       "</div>\n",
       "      <button class=\"colab-df-convert\" onclick=\"convertToInteractive('df-f7fe820a-0a05-4d1c-b60e-d33bfb41cd88')\"\n",
       "              title=\"Convert this dataframe to an interactive table.\"\n",
       "              style=\"display:none;\">\n",
       "        \n",
       "  <svg xmlns=\"http://www.w3.org/2000/svg\" height=\"24px\"viewBox=\"0 0 24 24\"\n",
       "       width=\"24px\">\n",
       "    <path d=\"M0 0h24v24H0V0z\" fill=\"none\"/>\n",
       "    <path d=\"M18.56 5.44l.94 2.06.94-2.06 2.06-.94-2.06-.94-.94-2.06-.94 2.06-2.06.94zm-11 1L8.5 8.5l.94-2.06 2.06-.94-2.06-.94L8.5 2.5l-.94 2.06-2.06.94zm10 10l.94 2.06.94-2.06 2.06-.94-2.06-.94-.94-2.06-.94 2.06-2.06.94z\"/><path d=\"M17.41 7.96l-1.37-1.37c-.4-.4-.92-.59-1.43-.59-.52 0-1.04.2-1.43.59L10.3 9.45l-7.72 7.72c-.78.78-.78 2.05 0 2.83L4 21.41c.39.39.9.59 1.41.59.51 0 1.02-.2 1.41-.59l7.78-7.78 2.81-2.81c.8-.78.8-2.07 0-2.86zM5.41 20L4 18.59l7.72-7.72 1.47 1.35L5.41 20z\"/>\n",
       "  </svg>\n",
       "      </button>\n",
       "      \n",
       "  <style>\n",
       "    .colab-df-container {\n",
       "      display:flex;\n",
       "      flex-wrap:wrap;\n",
       "      gap: 12px;\n",
       "    }\n",
       "\n",
       "    .colab-df-convert {\n",
       "      background-color: #E8F0FE;\n",
       "      border: none;\n",
       "      border-radius: 50%;\n",
       "      cursor: pointer;\n",
       "      display: none;\n",
       "      fill: #1967D2;\n",
       "      height: 32px;\n",
       "      padding: 0 0 0 0;\n",
       "      width: 32px;\n",
       "    }\n",
       "\n",
       "    .colab-df-convert:hover {\n",
       "      background-color: #E2EBFA;\n",
       "      box-shadow: 0px 1px 2px rgba(60, 64, 67, 0.3), 0px 1px 3px 1px rgba(60, 64, 67, 0.15);\n",
       "      fill: #174EA6;\n",
       "    }\n",
       "\n",
       "    [theme=dark] .colab-df-convert {\n",
       "      background-color: #3B4455;\n",
       "      fill: #D2E3FC;\n",
       "    }\n",
       "\n",
       "    [theme=dark] .colab-df-convert:hover {\n",
       "      background-color: #434B5C;\n",
       "      box-shadow: 0px 1px 3px 1px rgba(0, 0, 0, 0.15);\n",
       "      filter: drop-shadow(0px 1px 2px rgba(0, 0, 0, 0.3));\n",
       "      fill: #FFFFFF;\n",
       "    }\n",
       "  </style>\n",
       "\n",
       "      <script>\n",
       "        const buttonEl =\n",
       "          document.querySelector('#df-f7fe820a-0a05-4d1c-b60e-d33bfb41cd88 button.colab-df-convert');\n",
       "        buttonEl.style.display =\n",
       "          google.colab.kernel.accessAllowed ? 'block' : 'none';\n",
       "\n",
       "        async function convertToInteractive(key) {\n",
       "          const element = document.querySelector('#df-f7fe820a-0a05-4d1c-b60e-d33bfb41cd88');\n",
       "          const dataTable =\n",
       "            await google.colab.kernel.invokeFunction('convertToInteractive',\n",
       "                                                     [key], {});\n",
       "          if (!dataTable) return;\n",
       "\n",
       "          const docLinkHtml = 'Like what you see? Visit the ' +\n",
       "            '<a target=\"_blank\" href=https://colab.research.google.com/notebooks/data_table.ipynb>data table notebook</a>'\n",
       "            + ' to learn more about interactive tables.';\n",
       "          element.innerHTML = '';\n",
       "          dataTable['output_type'] = 'display_data';\n",
       "          await google.colab.output.renderOutput(dataTable, element);\n",
       "          const docLink = document.createElement('div');\n",
       "          docLink.innerHTML = docLinkHtml;\n",
       "          element.appendChild(docLink);\n",
       "        }\n",
       "      </script>\n",
       "    </div>\n",
       "  </div>\n",
       "  "
      ],
      "text/plain": [
       "                                             comment               date  \\\n",
       "0           türkiyede üretilecek otomobildir. kaynak   16.11.2018 23:45   \n",
       "1  bugün lansmanı yapılan araç. fiyat konusunda a...   13.02.2019 20:33   \n",
       "2  toyota nın gösterip elletmediği yeni modelidir...   13.02.2019 22:14   \n",
       "3  \"lansmana özel\" fiyatları açıklanmış modeldirh...  14.02.2019 10:08    \n",
       "4  hadi suv'yi falan 1.8 motor getiriyorsun hybri...  14.02.2019 10:22    \n",
       "\n",
       "  date_modified       author                 source  \\\n",
       "0           NaN        sabir  toyota-corolla-hybrid   \n",
       "1           NaN     ayvadana  toyota-corolla-hybrid   \n",
       "2           NaN     thepcman  toyota-corolla-hybrid   \n",
       "3         10:09        aydgn  toyota-corolla-hybrid   \n",
       "4         10:22  sycrone one  toyota-corolla-hybrid   \n",
       "\n",
       "                                    comments_cleaned  comment_length  \\\n",
       "0                          car produce turkey source              25   \n",
       "1                     launch today think crazy price              30   \n",
       "2  new model show disclose obvious feature worldw...              98   \n",
       "3  model launch special price announce vision ecv...             163   \n",
       "4  come bring suv engine buyer different mean bri...             271   \n",
       "\n",
       "   word_count  sentiment  sentiment_rounded comment_lenght_binned  \\\n",
       "0           4   0.000000                0.0        (-0.001, 62.0]   \n",
       "1           5  -0.600000               -0.6        (-0.001, 62.0]   \n",
       "2          14   0.045455                0.0         (62.0, 125.0]   \n",
       "3          29   0.357143                0.4        (125.0, 267.0]   \n",
       "4          44  -0.209881               -0.2       (267.0, 3470.0]   \n",
       "\n",
       "                                          comment_en  \n",
       "0       It is a car to be produced in Turkey. source  \n",
       "1  vehicle launched today. I think they will go c...  \n",
       "2  It is a new model that Toyota has shown or not...  \n",
       "3  Model with \"launch special\" prices announcedhy...  \n",
       "4  Come on, you bring a SUV or something with a 1...  "
      ]
     },
     "execution_count": 23,
     "metadata": {},
     "output_type": "execute_result"
    }
   ],
   "source": [
    "eksi_toyota.head()"
   ]
  },
  {
   "cell_type": "code",
   "execution_count": 14,
   "metadata": {
    "colab": {
     "base_uri": "https://localhost:8080/"
    },
    "id": "oUC1k-wqVpfc",
    "outputId": "2f550ca0-8f31-4679-d610-2b3aa36b6084"
   },
   "outputs": [
    {
     "data": {
      "text/plain": [
       "(60, 3)"
      ]
     },
     "execution_count": 14,
     "metadata": {},
     "output_type": "execute_result"
    }
   ],
   "source": [
    "sikayet.shape"
   ]
  },
  {
   "cell_type": "code",
   "execution_count": 11,
   "metadata": {
    "colab": {
     "base_uri": "https://localhost:8080/",
     "height": 206
    },
    "id": "qONiVZsdVsxj",
    "outputId": "422b1b87-7295-41c7-bdec-20e324d97dee"
   },
   "outputs": [
    {
     "data": {
      "text/html": [
       "\n",
       "  <div id=\"df-9fd8e573-4237-4f87-a596-52a18c6bc1de\">\n",
       "    <div class=\"colab-df-container\">\n",
       "      <div>\n",
       "<style scoped>\n",
       "    .dataframe tbody tr th:only-of-type {\n",
       "        vertical-align: middle;\n",
       "    }\n",
       "\n",
       "    .dataframe tbody tr th {\n",
       "        vertical-align: top;\n",
       "    }\n",
       "\n",
       "    .dataframe thead th {\n",
       "        text-align: right;\n",
       "    }\n",
       "</style>\n",
       "<table border=\"1\" class=\"dataframe\">\n",
       "  <thead>\n",
       "    <tr style=\"text-align: right;\">\n",
       "      <th></th>\n",
       "      <th>comment</th>\n",
       "      <th>source</th>\n",
       "      <th>comment_en</th>\n",
       "    </tr>\n",
       "  </thead>\n",
       "  <tbody>\n",
       "    <tr>\n",
       "      <th>0</th>\n",
       "      <td>Maalesef Toyota Efe Plazaya her gittiğimde ne...</td>\n",
       "      <td>https://www.sikayetvar.com</td>\n",
       "      <td>Unfortunately, every time I go to Toyota Efe P...</td>\n",
       "    </tr>\n",
       "    <tr>\n",
       "      <th>1</th>\n",
       "      <td>5 yıldır Toyota CHR Hybrid araç sahibiyim ve ...</td>\n",
       "      <td>https://www.sikayetvar.com</td>\n",
       "      <td>I have owned a Toyota CHR Hybrid vehicle for 5...</td>\n",
       "    </tr>\n",
       "    <tr>\n",
       "      <th>2</th>\n",
       "      <td>Toyota Corolla Cross hibrit satın almak istiy...</td>\n",
       "      <td>https://www.sikayetvar.com</td>\n",
       "      <td>I want to buy Toyota Corolla Cross hybrid, the...</td>\n",
       "    </tr>\n",
       "    <tr>\n",
       "      <th>3</th>\n",
       "      <td>Toyota Corolla hibrit aracım isletmesi fabrik...</td>\n",
       "      <td>https://www.sikayetvar.com</td>\n",
       "      <td>A screw was stuck in the tire of my Toyota Cor...</td>\n",
       "    </tr>\n",
       "    <tr>\n",
       "      <th>4</th>\n",
       "      <td>2019 model Hybrid Corolla aracımın ön göğüste...</td>\n",
       "      <td>https://www.sikayetvar.com</td>\n",
       "      <td>My 2019 model Hybrid Corolla vehicle had scrat...</td>\n",
       "    </tr>\n",
       "  </tbody>\n",
       "</table>\n",
       "</div>\n",
       "      <button class=\"colab-df-convert\" onclick=\"convertToInteractive('df-9fd8e573-4237-4f87-a596-52a18c6bc1de')\"\n",
       "              title=\"Convert this dataframe to an interactive table.\"\n",
       "              style=\"display:none;\">\n",
       "        \n",
       "  <svg xmlns=\"http://www.w3.org/2000/svg\" height=\"24px\"viewBox=\"0 0 24 24\"\n",
       "       width=\"24px\">\n",
       "    <path d=\"M0 0h24v24H0V0z\" fill=\"none\"/>\n",
       "    <path d=\"M18.56 5.44l.94 2.06.94-2.06 2.06-.94-2.06-.94-.94-2.06-.94 2.06-2.06.94zm-11 1L8.5 8.5l.94-2.06 2.06-.94-2.06-.94L8.5 2.5l-.94 2.06-2.06.94zm10 10l.94 2.06.94-2.06 2.06-.94-2.06-.94-.94-2.06-.94 2.06-2.06.94z\"/><path d=\"M17.41 7.96l-1.37-1.37c-.4-.4-.92-.59-1.43-.59-.52 0-1.04.2-1.43.59L10.3 9.45l-7.72 7.72c-.78.78-.78 2.05 0 2.83L4 21.41c.39.39.9.59 1.41.59.51 0 1.02-.2 1.41-.59l7.78-7.78 2.81-2.81c.8-.78.8-2.07 0-2.86zM5.41 20L4 18.59l7.72-7.72 1.47 1.35L5.41 20z\"/>\n",
       "  </svg>\n",
       "      </button>\n",
       "      \n",
       "  <style>\n",
       "    .colab-df-container {\n",
       "      display:flex;\n",
       "      flex-wrap:wrap;\n",
       "      gap: 12px;\n",
       "    }\n",
       "\n",
       "    .colab-df-convert {\n",
       "      background-color: #E8F0FE;\n",
       "      border: none;\n",
       "      border-radius: 50%;\n",
       "      cursor: pointer;\n",
       "      display: none;\n",
       "      fill: #1967D2;\n",
       "      height: 32px;\n",
       "      padding: 0 0 0 0;\n",
       "      width: 32px;\n",
       "    }\n",
       "\n",
       "    .colab-df-convert:hover {\n",
       "      background-color: #E2EBFA;\n",
       "      box-shadow: 0px 1px 2px rgba(60, 64, 67, 0.3), 0px 1px 3px 1px rgba(60, 64, 67, 0.15);\n",
       "      fill: #174EA6;\n",
       "    }\n",
       "\n",
       "    [theme=dark] .colab-df-convert {\n",
       "      background-color: #3B4455;\n",
       "      fill: #D2E3FC;\n",
       "    }\n",
       "\n",
       "    [theme=dark] .colab-df-convert:hover {\n",
       "      background-color: #434B5C;\n",
       "      box-shadow: 0px 1px 3px 1px rgba(0, 0, 0, 0.15);\n",
       "      filter: drop-shadow(0px 1px 2px rgba(0, 0, 0, 0.3));\n",
       "      fill: #FFFFFF;\n",
       "    }\n",
       "  </style>\n",
       "\n",
       "      <script>\n",
       "        const buttonEl =\n",
       "          document.querySelector('#df-9fd8e573-4237-4f87-a596-52a18c6bc1de button.colab-df-convert');\n",
       "        buttonEl.style.display =\n",
       "          google.colab.kernel.accessAllowed ? 'block' : 'none';\n",
       "\n",
       "        async function convertToInteractive(key) {\n",
       "          const element = document.querySelector('#df-9fd8e573-4237-4f87-a596-52a18c6bc1de');\n",
       "          const dataTable =\n",
       "            await google.colab.kernel.invokeFunction('convertToInteractive',\n",
       "                                                     [key], {});\n",
       "          if (!dataTable) return;\n",
       "\n",
       "          const docLinkHtml = 'Like what you see? Visit the ' +\n",
       "            '<a target=\"_blank\" href=https://colab.research.google.com/notebooks/data_table.ipynb>data table notebook</a>'\n",
       "            + ' to learn more about interactive tables.';\n",
       "          element.innerHTML = '';\n",
       "          dataTable['output_type'] = 'display_data';\n",
       "          await google.colab.output.renderOutput(dataTable, element);\n",
       "          const docLink = document.createElement('div');\n",
       "          docLink.innerHTML = docLinkHtml;\n",
       "          element.appendChild(docLink);\n",
       "        }\n",
       "      </script>\n",
       "    </div>\n",
       "  </div>\n",
       "  "
      ],
      "text/plain": [
       "                                             comment  \\\n",
       "0   Maalesef Toyota Efe Plazaya her gittiğimde ne...   \n",
       "1   5 yıldır Toyota CHR Hybrid araç sahibiyim ve ...   \n",
       "2   Toyota Corolla Cross hibrit satın almak istiy...   \n",
       "3   Toyota Corolla hibrit aracım isletmesi fabrik...   \n",
       "4   2019 model Hybrid Corolla aracımın ön göğüste...   \n",
       "\n",
       "                       source  \\\n",
       "0  https://www.sikayetvar.com   \n",
       "1  https://www.sikayetvar.com   \n",
       "2  https://www.sikayetvar.com   \n",
       "3  https://www.sikayetvar.com   \n",
       "4  https://www.sikayetvar.com   \n",
       "\n",
       "                                          comment_en  \n",
       "0  Unfortunately, every time I go to Toyota Efe P...  \n",
       "1  I have owned a Toyota CHR Hybrid vehicle for 5...  \n",
       "2  I want to buy Toyota Corolla Cross hybrid, the...  \n",
       "3  A screw was stuck in the tire of my Toyota Cor...  \n",
       "4  My 2019 model Hybrid Corolla vehicle had scrat...  "
      ]
     },
     "execution_count": 11,
     "metadata": {},
     "output_type": "execute_result"
    }
   ],
   "source": [
    "sikayet.head()"
   ]
  },
  {
   "cell_type": "markdown",
   "metadata": {
    "id": "Kg5D0OhN0yYU"
   },
   "source": [
    "### Translate Comments to English"
   ]
  },
  {
   "cell_type": "code",
   "execution_count": null,
   "metadata": {
    "id": "eEGUQfB7Xpw_"
   },
   "outputs": [],
   "source": [
    "eksi['comment_en'] = eksi['comment'].apply(lambda x:translator(x)[0]['translatedText'])\n",
    "sikayet['comment_en'] = sikayet['comment'].apply(lambda x:translator(x)[0]['translatedText'])"
   ]
  },
  {
   "cell_type": "code",
   "execution_count": null,
   "metadata": {
    "id": "kmvx3rU-XuLi"
   },
   "outputs": [],
   "source": [
    "# Save Turkish version\n",
    "eksi.to_pickle(\"files/eksi_en.pickle\")\n",
    "sikayet.to_pickle(\"files/sikayet_en.pickle\")\n",
    "# Save English version\n",
    "eksi = pd.read_pickle(\"files/eksi_en.pickle\")\n",
    "sikayet = pd.read_pickle(\"files/sikayet_en.pickle\")"
   ]
  },
  {
   "cell_type": "code",
   "execution_count": 16,
   "metadata": {
    "id": "S_uSgKP7cT7e"
   },
   "outputs": [],
   "source": [
    "stop_words_list = stop_words.STOP_WORDS"
   ]
  },
  {
   "cell_type": "code",
   "execution_count": 17,
   "metadata": {
    "colab": {
     "base_uri": "https://localhost:8080/",
     "height": 70
    },
    "id": "y3QIGhfaLuH_",
    "outputId": "ad84c2a8-a7dd-4fcc-c700-de63953cedae"
   },
   "outputs": [
    {
     "data": {
      "text/plain": [
       "'come bring suv 1 8 engine buyer different mean bring csegment 1 8 engine general user interest slice mtv crash market cry care people do prefer probably wont chance price high mtv issue disappointment cause previous case etc like disappointment horizon come hyundai ioniq'"
      ]
     },
     "execution_count": 17,
     "metadata": {},
     "output_type": "execute_result"
    }
   ],
   "source": [
    "transform_lemma(clean_comments(eksi_toyota.loc[4,'comment_en']))"
   ]
  },
  {
   "cell_type": "code",
   "execution_count": 20,
   "metadata": {
    "colab": {
     "base_uri": "https://localhost:8080/",
     "height": 273,
     "referenced_widgets": [
      "1ff3d221db0148778f4290384cd44dd0",
      "da9c30a7f3784a7b84613d9106751531",
      "a77347c6502a4bcb8a2caedc8f4c21da",
      "766dcb9434c944cbac489c30bb8b7f93",
      "807b2f370a3848f6bc1d615ff8efb361",
      "80cbbc0d611c42deaf1ac6470ddf7fd9",
      "fa8015dc3bd545d496daa8b79846c406",
      "942cabfe92d443899710a98415bdfbc7",
      "8ee4444829c14f2381fca3b80c01a1f3",
      "462c7efebaa64c1b8b4b1aa9c48b2194",
      "e2aa5c5dfc5d47a48e558d7c5b4ca393",
      "e3753ad211044fe3be53018d9ba7e37b",
      "e471409689e543bf8eeae096ff863941",
      "310eae09440d4205b469d0b32291ea8b",
      "f5514c5aa228429b86dc5ebec0db663e",
      "0f14a21e04fb49b6bc967943bb8c1620",
      "07ec3307de274a3caf6aa5f9971132ba",
      "515c78035447491e82e5db9cf6d9344b",
      "ed93a11fff0342738d9ef555370accd8",
      "49c67e3634774d3c9388614a1114554e",
      "092006c1b56a44c689804f5ae136dd27",
      "3e6dc8d22d9c4318a84eb3f7b3078e11",
      "e2ff759020d643fa844091929bf61bd6",
      "2024e9e4c1194d85915172ac3f6f06fe",
      "f058c58d2b36443f90d588ce3a63f7bb",
      "514077e889c7419cb3c8dac381971081",
      "8d4e097048684e828584287a03611130",
      "73f6006a236c4f098fe715978b22c959",
      "37b0bc36869a460ab547763541000381",
      "f909c0b0e2074c9aa30f3ea6559a2738",
      "6d49bb6b31f7497583ba166fb4498dd6",
      "68e297b8bf064cfaa901d052c41090a9",
      "0f24443558104e6a8e525c3b1ab68834",
      "61167a387cbf4531b5ae12fa4849f52c",
      "db1efcf67a764b73b71fdccf504d7d7e",
      "f521d9140e99472982db98c20b60f9b5",
      "57426efbf4b143a597ce54d1dc7b878e",
      "7cb63d8656a741b48bfe2d5c6ffe4229",
      "d7139f7e60754c00a435f3561c9689e9",
      "65f303ac13da418ea6055d339da75eb3",
      "1e86ec43aaed4e34b4c8f1c52a3e9b5b",
      "3a31c9406aa24f6789993d876ef2ab18",
      "d65c53f667304ba394535dea9a0ad390",
      "5ab9bc970b5b441caf9a1f84432ac95e",
      "32997dace398450eac710ce9457d0ef5",
      "13a70b1f072549cd8c6781b2017ba9a5",
      "d2f0eb8f72bf4cde99b2e9bc37d89787",
      "7af8b692a5b34ddba8cec6d152f8cb6d",
      "c18ca8dfbd704eb9b9c4e2315be8d5f6",
      "d6611c318ee048c3aa9d9ef672faca84",
      "dc5a668b1a8d4068abf94cf95059b9fd",
      "832153953e2b4cfa83da09abbb4020c3",
      "1f780a172d2c47e8aa8de2fda8fb1448",
      "3cf3b496a02541c79f8556e4786bbf3c",
      "00186f2551fb4cdbb44e3f6cc2f21dc6",
      "130bcec9f1314c9b96472cccae9cbad4",
      "ad5c8bbef90b4236ada7b9e52817b0a0",
      "7cee5d0ca5b846f9a33bccf044de0794",
      "b268a2d4d8d346aaa9411059011a39fe",
      "3cf4e3758d954fe5a52c1d1dba7d1621",
      "b51e6bf550574f57a64e4bee543bd259",
      "99b13f5239de43e38493d38ed8d0fa88",
      "8ddaf99fdcc04fa6a331dcfb5038ea33",
      "5376c54925c94ce69b4abe402208c3a5",
      "740369aca89746f2b0bc6b78a0a2d298",
      "dfe31d78ab8646afb2ee5666f8030336"
     ]
    },
    "id": "Iyx3CRwCLC1X",
    "outputId": "95291df4-1fbd-4d11-c2c2-f52e4b5f82af"
   },
   "outputs": [
    {
     "data": {
      "application/vnd.jupyter.widget-view+json": {
       "model_id": "a671b45fed7143e69a78b46684efe9ce",
       "version_major": 2,
       "version_minor": 0
      },
      "text/plain": [
       "VBox(children=(HBox(children=(IntProgress(value=0, description='0.00%', max=8), Label(value='0 / 8'))), HBox(c…"
      ]
     },
     "metadata": {},
     "output_type": "display_data"
    }
   ],
   "source": [
    "eksi_toyota['comment_cleaned'] = eksi['comment_en'].parallel_apply(lambda x: clean_comments(x))\n",
    "sikayet['comment_cleaned'] = sikayet['comment_en'].parallel_apply(lambda x: clean_comments(x))"
   ]
  },
  {
   "cell_type": "markdown",
   "metadata": {
    "id": "fz3Pc01QWvzR"
   },
   "source": [
    "Computing comment length and word counts"
   ]
  },
  {
   "cell_type": "code",
   "execution_count": 21,
   "metadata": {
    "id": "JULjKZ3yEdoV"
   },
   "outputs": [],
   "source": [
    "eksi_toyota['comment_length'] = eksi_toyota['comment_cleaned'].astype(str).apply(len)\n",
    "eksi_toyota['word_count'] = eksi_toyota['comment_cleaned'].apply(lambda x: len(str(x).split()))\n",
    "\n",
    "sikayet['comment_length'] = sikayet['comment_cleaned'].astype(str).apply(len)\n",
    "sikayet['word_count'] = sikayet['comment_cleaned'].apply(lambda x: len(str(x).split()))"
   ]
  },
  {
   "cell_type": "markdown",
   "metadata": {
    "id": "Fb9WdJmMWzZs"
   },
   "source": [
    "Computing each comment and compliant"
   ]
  },
  {
   "cell_type": "code",
   "execution_count": 22,
   "metadata": {
    "id": "BRCcxaQlEdrA"
   },
   "outputs": [],
   "source": [
    "eksi_toyota['sentiment'] = eksi_toyota['comment_cleaned'].map(lambda text: TextBlob(text).sentiment.polarity)\n",
    "sikayet['sentiment'] = sikayet['comment_cleaned'].map(lambda text: TextBlob(text).sentiment.polarity)\n"
   ]
  },
  {
   "cell_type": "code",
   "execution_count": 25,
   "metadata": {
    "colab": {
     "base_uri": "https://localhost:8080/",
     "height": 695
    },
    "id": "y38zqrRdEdt1",
    "outputId": "79e37766-f562-4c43-dfb6-d5fd8e385f0f"
   },
   "outputs": [
    {
     "data": {
      "text/plain": [
       "array([[<matplotlib.axes._subplots.AxesSubplot object at 0x7fb61ffab5e0>,\n",
       "        <matplotlib.axes._subplots.AxesSubplot object at 0x7fb61ff15970>],\n",
       "       [<matplotlib.axes._subplots.AxesSubplot object at 0x7fb61ff33d90>,\n",
       "        <matplotlib.axes._subplots.AxesSubplot object at 0x7fb61fed41f0>]],\n",
       "      dtype=object)"
      ]
     },
     "execution_count": 25,
     "metadata": {},
     "output_type": "execute_result"
    },
    {
     "data": {
      "image/png": "[encoded data removed]",
      "text/plain": [
       "<Figure size 1080x720 with 4 Axes>"
      ]
     },
     "metadata": {
      "needs_background": "light"
     },
     "output_type": "display_data"
    }
   ],
   "source": [
    "eksi_toyota[[\"comment_length\", \"word_count\", \"sentiment\"]].hist(bins=20, figsize=(15, 10))\n"
   ]
  },
  {
   "cell_type": "code",
   "execution_count": 43,
   "metadata": {
    "colab": {
     "base_uri": "https://localhost:8080/",
     "height": 695
    },
    "id": "0-bbgxNlcBTb",
    "outputId": "7ce6ace2-e3c2-4d81-fbe3-6047aaac7c1f"
   },
   "outputs": [
    {
     "data": {
      "text/plain": [
       "array([[<matplotlib.axes._subplots.AxesSubplot object at 0x7fb619c9ab80>,\n",
       "        <matplotlib.axes._subplots.AxesSubplot object at 0x7fb619ca5b20>],\n",
       "       [<matplotlib.axes._subplots.AxesSubplot object at 0x7fb619cd2f40>,\n",
       "        <matplotlib.axes._subplots.AxesSubplot object at 0x7fb619c8b340>]],\n",
       "      dtype=object)"
      ]
     },
     "execution_count": 43,
     "metadata": {},
     "output_type": "execute_result"
    },
    {
     "data": {
      "image/png": "[encoded data removed]",
      "text/plain": [
       "<Figure size 1080x720 with 4 Axes>"
      ]
     },
     "metadata": {
      "needs_background": "light"
     },
     "output_type": "display_data"
    }
   ],
   "source": [
    "sikayet[[\"comment_length\", \"word_count\", \"sentiment\"]].hist(bins=20, figsize=(15, 10))"
   ]
  },
  {
   "cell_type": "code",
   "execution_count": 23,
   "metadata": {
    "id": "8ryDjPGsczKU"
   },
   "outputs": [],
   "source": [
    "eksi_toyota['sentiment_rounded']= eksi_toyota.sentiment.round(1)\n",
    "sikayet['sentiment_rounded'] = sikayet.sentiment.round(1)"
   ]
  },
  {
   "cell_type": "code",
   "execution_count": null,
   "metadata": {
    "id": "IvWiN3QQd-uE"
   },
   "outputs": [],
   "source": [
    "eksi_toyota['comment_lenght_binned']= pd.qcut(eksi_toyota['comment_lenght'],q=[0, .25, .5, .75, 1.] )"
   ]
  },
  {
   "cell_type": "code",
   "execution_count": 24,
   "metadata": {
    "id": "4tIq_5uIfeVn"
   },
   "outputs": [],
   "source": [
    "sikayet['comment_lenght_binned']= pd.qcut(sikayet['comment_length'],q=[0, .25, .5, .75, 1.] )"
   ]
  },
  {
   "cell_type": "code",
   "execution_count": 46,
   "metadata": {
    "colab": {
     "base_uri": "https://localhost:8080/",
     "height": 404
    },
    "id": "NjGfQTaoEdwk",
    "outputId": "95be0684-e6a3-40e8-aed5-898e224327b3"
   },
   "outputs": [
    {
     "data": {
      "image/png": "[encoded data removed]",
      "text/plain": [
       "<Figure size 720x432 with 1 Axes>"
      ]
     },
     "metadata": {
      "needs_background": "light"
     },
     "output_type": "display_data"
    }
   ],
   "source": [
    "plt.figure(figsize=(10, 6))\n",
    "sns.pointplot(x = \"comment_lenght_binned\", y = \"sentiment_rounded\",\n",
    "              data = eksi.groupby('comment_lenght_binned').sentiment_rounded.mean().reset_index())\n",
    "plt.ylabel(\"Sentiment\")\n",
    "plt.xlabel(\"Comment Length\")\n",
    "plt.title(\"Comment Sentiment vs Length\")\n",
    "plt.show()"
   ]
  },
  {
   "cell_type": "code",
   "execution_count": 47,
   "metadata": {
    "colab": {
     "base_uri": "https://localhost:8080/",
     "height": 404
    },
    "id": "kZV4F701fwPN",
    "outputId": "de7472e5-514b-4c50-f864-7865411e0af3"
   },
   "outputs": [
    {
     "data": {
      "image/png": "[encoded data removed]",
      "text/plain": [
       "<Figure size 720x432 with 1 Axes>"
      ]
     },
     "metadata": {
      "needs_background": "light"
     },
     "output_type": "display_data"
    }
   ],
   "source": [
    "plt.figure(figsize=(10, 6))\n",
    "sns.pointplot(x = \"comment_lenght_binned\", y = \"sentiment_rounded\",\n",
    "              data = sikayet.groupby('comment_lenght_binned').sentiment_rounded.mean().reset_index())\n",
    "plt.ylabel(\"Sentiment\")\n",
    "plt.xlabel(\"Comment Length\")\n",
    "plt.title(\"Comment Sentiment vs Length\")\n",
    "plt.show()"
   ]
  },
  {
   "cell_type": "code",
   "execution_count": 48,
   "metadata": {
    "id": "18IXn3jTbttG"
   },
   "outputs": [],
   "source": [
    "sikayet.to_csv('sikayet_en_computed.csv',sep=';')"
   ]
  },
  {
   "cell_type": "code",
   "execution_count": 37,
   "metadata": {
    "colab": {
     "base_uri": "https://localhost:8080/",
     "height": 404
    },
    "id": "zK0H4cDDiqls",
    "outputId": "2ee80deb-dfa1-4878-9deb-51b1804a5df2"
   },
   "outputs": [
    {
     "data": {
      "image/png": "[encoded data removed]",
      "text/plain": [
       "<Figure size 720x432 with 1 Axes>"
      ]
     },
     "metadata": {
      "needs_background": "light"
     },
     "output_type": "display_data"
    }
   ],
   "source": [
    "plt.figure(figsize=(10, 6))\n",
    "sns.pointplot(x = \"comment_lenght_binned\", y = \"sentiment_rounded\",\n",
    "              data = sikayet.groupby('comment_lenght_binned').sentiment_rounded.mean().reset_index())\n",
    "plt.ylabel(\"Sentiment\")\n",
    "plt.xlabel(\"Comment Length\")\n",
    "plt.title(\"Comment Sentiment vs Length\")\n",
    "plt.show()"
   ]
  },
  {
   "cell_type": "code",
   "execution_count": 50,
   "metadata": {
    "colab": {
     "base_uri": "https://localhost:8080/",
     "height": 711
    },
    "id": "jhMxTOE1Ed2k",
    "outputId": "cf94b1f2-bd8f-4c9e-de0c-9901edc5e13a"
   },
   "outputs": [
    {
     "data": {
      "image/png": "[encoded data removed]",
      "text/plain": [
       "<Figure size 3600x2160 with 1 Axes>"
      ]
     },
     "metadata": {
      "needs_background": "light"
     },
     "output_type": "display_data"
    }
   ],
   "source": [
    "word_list_sikayet = list()\n",
    "for sentence in sikayet.comment_cleaned.tolist():\n",
    "  word_list_sikayet.extend(sentence.split())\n",
    "mostcommon_words = FreqDist(word_list_sikayet).most_common(25)\n",
    "\n",
    "mostcommon_words = FreqDist(word_list_sikayet).most_common(25)\n",
    "x, y = zip(*mostcommon_words)\n",
    "\n",
    "plt.figure(figsize=(50,30))\n",
    "plt.margins(0.02)\n",
    "plt.bar(x, y)\n",
    "plt.xlabel('Words', fontsize=50)\n",
    "plt.ylabel('Frequency of Words', fontsize=50)\n",
    "plt.yticks(fontsize=40)\n",
    "plt.xticks(rotation=60, fontsize=40)\n",
    "plt.title('Frequency of 25 Most Common Words', fontsize=60)\n",
    "plt.show()"
   ]
  },
  {
   "cell_type": "code",
   "execution_count": null,
   "metadata": {
    "id": "AhcwpVfWkkEU"
   },
   "outputs": [],
   "source": [
    "# we need to see if the common word is also important, so we can use tfidf scoring."
   ]
  },
  {
   "cell_type": "code",
   "execution_count": 54,
   "metadata": {
    "colab": {
     "base_uri": "https://localhost:8080/",
     "height": 711
    },
    "id": "S3wCWLgxiG4j",
    "outputId": "a89f88f3-5af4-465c-b25f-a10a3a1d302d"
   },
   "outputs": [
    {
     "data": {
      "image/png": "[encoded data removed]",
      "text/plain": [
       "<Figure size 3600x2160 with 1 Axes>"
      ]
     },
     "metadata": {
      "needs_background": "light"
     },
     "output_type": "display_data"
    }
   ],
   "source": [
    "word_list_eksi = list()\n",
    "for sentence in eksi_toyota.comments_cleaned.tolist():\n",
    "  word_list_eksi.extend(sentence.split())\n",
    "\n",
    "mostcommon_words = FreqDist(word_list_eksi).most_common(25)\n",
    "mostcommon_words\n",
    "\n",
    "x, y = zip(*mostcommon_words)\n",
    "plt.figure(figsize=(50,30))\n",
    "plt.margins(0.02)\n",
    "plt.bar(x, y)\n",
    "plt.xlabel('Words', fontsize=50)\n",
    "plt.ylabel('Frequency of Words', fontsize=50)\n",
    "plt.yticks(fontsize=40)\n",
    "plt.xticks(rotation=60, fontsize=40)\n",
    "plt.title('Frequency of 25 Most Common Words', fontsize=60)\n",
    "plt.show()"
   ]
  },
  {
   "cell_type": "markdown",
   "metadata": {},
   "source": [
    "# 2. Data Preparation"
   ]
  },
  {
   "cell_type": "code",
   "execution_count": 25,
   "metadata": {
    "id": "6BXW3m6rfzwg"
   },
   "outputs": [],
   "source": [
    "data_words_eksi = eksi_toyota.comments_cleaned.apply(lambda x: x.split()).tolist()\n",
    "data_words_sikayet = sikayet.comment_cleaned.apply(lambda x: x.split()).tolist()"
   ]
  },
  {
   "cell_type": "code",
   "execution_count": 30,
   "metadata": {},
   "outputs": [],
   "source": [
    "# Create Dictionary\n",
    "id2word_eksi = corpora.Dictionary(data_words_eksi)\n",
    "# Create Corpus\n",
    "texts_eksi = data_words_eksi\n",
    "# T-D  Frequency\n",
    "corpus_eksi = [id2word_eksi.doc2bow(text) for text in texts_eksi]"
   ]
  },
  {
   "cell_type": "code",
   "execution_count": 31,
   "metadata": {},
   "outputs": [],
   "source": [
    "# Create Dictionary\n",
    "id2word_sikayet = corpora.Dictionary(data_words_sikayet)\n",
    "# Create Corpus\n",
    "texts_sikayet = data_words_sikayet\n",
    "# T-D  Frequency\n",
    "corpus_sikayet = [id2word_sikayet.doc2bow(text) for text in texts_sikayet]"
   ]
  },
  {
   "cell_type": "markdown",
   "metadata": {},
   "source": [
    "## 3. Modeling "
   ]
  },
  {
   "cell_type": "code",
   "execution_count": 32,
   "metadata": {
    "colab": {
     "base_uri": "https://localhost:8080/"
    },
    "id": "qanR_jI7f4DI",
    "outputId": "f482d27b-16f5-484b-a958-b4413333c40a"
   },
   "outputs": [
    {
     "name": "stdout",
     "output_type": "stream",
     "text": [
      "[(0,\n",
      "  '0.022*\"car\" + 0.013*\"engine\" + 0.010*\"km\" + 0.008*\"like\" + 0.008*\"do\" + '\n",
      "  '0.008*\"speed\" + 0.007*\"drive\" + 0.007*\"use\" + 0.007*\"city\" + '\n",
      "  '0.006*\"battery\"'),\n",
      " (1,\n",
      "  '0.019*\"car\" + 0.018*\"km\" + 0.015*\"engine\" + 0.011*\"fuel\" + 0.009*\"drive\" + '\n",
      "  '0.008*\"liter\" + 0.008*\"consumption\" + 0.008*\"use\" + 0.007*\"like\" + '\n",
      "  '0.007*\"city\"'),\n",
      " (2,\n",
      "  '0.017*\"car\" + 0.016*\"km\" + 0.008*\"use\" + 0.008*\"engine\" + 0.008*\"fuel\" + '\n",
      "  '0.008*\"buy\" + 0.007*\"liter\" + 0.007*\"like\" + 0.006*\"city\" + 0.006*\"burn\"')]\n"
     ]
    }
   ],
   "source": [
    "num_topics = 3\n",
    "# Build LDA model\n",
    "lda_model_eksi = gensim.models.LdaMulticore(corpus=corpus_eksi,\n",
    "                                       id2word=id2word_eksi,\n",
    "                                       num_topics=num_topics)\n",
    "# Print the Keyword in the 10 topics\n",
    "pprint(lda_model_eksi.print_topics())\n",
    "doc_lda_eksi = lda_model_eksi[corpus_eksi]"
   ]
  },
  {
   "cell_type": "code",
   "execution_count": 33,
   "metadata": {},
   "outputs": [
    {
     "name": "stdout",
     "output_type": "stream",
     "text": [
      "[(0,\n",
      "  '0.038*\"service\" + 0.022*\"say\" + 0.012*\"warranty\" + 0.012*\"problem\" + '\n",
      "  '0.012*\"battery\" + 0.010*\"buy\" + 0.010*\"customer\" + 0.010*\"car\" + '\n",
      "  '0.009*\"tire\" + 0.009*\"time\"'),\n",
      " (1,\n",
      "  '0.021*\"service\" + 0.019*\"say\" + 0.015*\"problem\" + 0.013*\"battery\" + '\n",
      "  '0.010*\"tire\" + 0.009*\"time\" + 0.009*\"buy\" + 0.009*\"model\" + 0.009*\"look\" + '\n",
      "  '0.009*\"car\"'),\n",
      " (2,\n",
      "  '0.040*\"service\" + 0.025*\"say\" + 0.023*\"battery\" + 0.010*\"day\" + 0.009*\"car\" '\n",
      "  '+ 0.009*\"appointment\" + 0.009*\"buy\" + 0.008*\"time\" + 0.008*\"problem\" + '\n",
      "  '0.008*\"charge\"')]\n"
     ]
    }
   ],
   "source": [
    "# number of topics\n",
    "num_topics = 3\n",
    "# Build LDA model\n",
    "lda_model_sikayet = gensim.models.LdaMulticore(corpus=corpus_sikayet,\n",
    "                                       id2word=id2word_sikayet,\n",
    "                                       num_topics=num_topics)\n",
    "# Print the Keyword in the 10 topics\n",
    "pprint(lda_model_sikayet.print_topics())\n",
    "doc_lda = lda_model_sikayet[corpus_sikayet]"
   ]
  },
  {
   "cell_type": "markdown",
   "metadata": {},
   "source": [
    "# 4. Evaluation"
   ]
  },
  {
   "cell_type": "markdown",
   "metadata": {},
   "source": [
    "### Eksisozluk Comments"
   ]
  },
  {
   "cell_type": "code",
   "execution_count": 34,
   "metadata": {
    "colab": {
     "base_uri": "https://localhost:8080/",
     "height": 881
    },
    "id": "UsNiy17Hf76G",
    "outputId": "8c8fd4fd-ae82-435f-e570-1e7ecf8b85f3"
   },
   "outputs": [
    {
     "name": "stderr",
     "output_type": "stream",
     "text": [
      "/opt/anaconda3/lib/python3.9/site-packages/past/builtins/misc.py:45: DeprecationWarning: the imp module is deprecated in favour of importlib; see the module's documentation for alternative uses\n",
      "  from imp import reload\n",
      "/opt/anaconda3/lib/python3.9/site-packages/past/builtins/misc.py:45: DeprecationWarning: the imp module is deprecated in favour of importlib; see the module's documentation for alternative uses\n",
      "  from imp import reload\n",
      "/opt/anaconda3/lib/python3.9/site-packages/past/builtins/misc.py:45: DeprecationWarning: the imp module is deprecated in favour of importlib; see the module's documentation for alternative uses\n",
      "  from imp import reload\n",
      "/opt/anaconda3/lib/python3.9/site-packages/past/builtins/misc.py:45: DeprecationWarning: the imp module is deprecated in favour of importlib; see the module's documentation for alternative uses\n",
      "  from imp import reload\n"
     ]
    },
    {
     "data": {
      "text/html": [
       "\n",
       "<link rel=\"stylesheet\" type=\"text/css\" href=\"https://cdn.jsdelivr.net/gh/bmabey/pyLDAvis@3.3.1/pyLDAvis/js/ldavis.v1.0.0.css\">\n",
       "\n",
       "\n",
       "<div id=\"ldavis_el1197753031060168928115703\"></div>\n",
       "<script type=\"text/javascript\">\n",
       "\n",
       "var ldavis_el1197753031060168928115703_data = {\"mdsDat\": {\"x\": [0.010187389514174775, -0.012101927072670347, 0.0019145375584955695], \"y\": [-0.0073226899057054085, -0.004322026352675806, 0.011644716258381219], \"topics\": [1, 2, 3], \"cluster\": [1, 1, 1], \"Freq\": [52.89319453787985, 27.877387835729344, 19.229417626390802]}, \"tinfo\": {\"Term\": [\"car\", \"buy\", \"km\", \"thousand\", \"tl\", \"use\", \"come\", \"think\", \"price\", \"do\", \"year\", \"traffic\", \"fuel\", \"like\", \"diesel\", \"good\", \"electric\", \"time\", \"speed\", \"liter\", \"want\", \"long\", \"month\", \"city\", \"burn\", \"sell\", \"change\", \"model\", \"motor\", \"turkey\", \"warm\", \"hes\", \"fix\", \"tomorrow\", \"degree\", \"heater\", \"body\", \"mtvsi\", \"mark\", \"torture\", \"taxation\", \"disclose\", \"announcement\", \"build\", \"worldwide\", \"dicklike\", \"privately\", \"comfortless\", \"discomfort\", \"separately\", \"crap\", \"smell\", \"summarya\", \"temperature\", \"variety\", \"excessive\", \"ideal\", \"weve\", \"aggressively\", \"suction\", \"follow\", \"scream\", \"lt\", \"surprise\", \"fuel\", \"eco\", \"route\", \"rev\", \"exceed\", \"let\", \"extremely\", \"buying\", \"km\", \"engine\", \"kmh\", \"average\", \"consumption\", \"road\", \"insulation\", \"drive\", \"liter\", \"drove\", \"slope\", \"start\", \"gasoline\", \"system\", \"burn\", \"mode\", \"battery\", \"car\", \"city\", \"go\", \"low\", \"use\", \"charge\", \"increase\", \"like\", \"know\", \"long\", \"difference\", \"good\", \"speed\", \"do\", \"little\", \"high\", \"traffic\", \"time\", \"think\", \"buy\", \"electric\", \"mild\", \"off\", \"beneficial\", \"electrically\", \"bursa\", \"miyuuuuv\", \"unbeatable\", \"giresun\", \"photon\", \"fos\", \"reveal\", \"philips\", \"milestone\", \"fiat\", \"h\\u0131r\", \"bkz\", \"vs\", \"necvox\", \"symmetrical\", \"lpg\", \"ton\", \"ignition\", \"indoor\", \"dead\", \"watch\", \"lessedit\", \"memorize\", \"apply\", \"tomato\", \"camry\", \"finish\", \"ecvt\", \"oil\", \"car\", \"disgust\", \"motor\", \"do\", \"speed\", \"work\", \"electric\", \"time\", \"change\", \"service\", \"radar\", \"like\", \"come\", \"problem\", \"engine\", \"learn\", \"zero\", \"advantageous\", \"think\", \"maintenance\", \"buy\", \"way\", \"kilometer\", \"drive\", \"battery\", \"cant\", \"city\", \"brake\", \"use\", \"noise\", \"low\", \"im\", \"year\", \"say\", \"km\", \"gasoline\", \"good\", \"control\", \"burn\", \"mode\", \"long\", \"liter\", \"consumption\", \"start\", \"know\", \"road\", \"fuel\", \"consciously\", \"october\", \"mail\", \"worker\", \"unplan\", \"june\", \"flight\", \"esenbo\\u011fa\", \"saturday\", \"declaration\", \"inefficiency\", \"\\u00fcsk\\u00fcdar\", \"american\", \"hydraulics\", \"httpswww\", \"news\", \"anymore\", \"html\", \"bias\", \"deendetail\", \"tuzla\", \"spritmonitor\", \"stateoftheart\", \"opel\", \"jackal\", \"payment\", \"squishy\", \"blast\", \"past\", \"birth\", \"office\", \"image\", \"thousand\", \"tl\", \"buy\", \"diesel\", \"price\", \"today\", \"km\", \"traffic\", \"sell\", \"month\", \"dealer\", \"want\", \"rent\", \"year\", \"turkey\", \"car\", \"use\", \"think\", \"come\", \"good\", \"tool\", \"liter\", \"long\", \"fuel\", \"understand\", \"package\", \"burn\", \"model\", \"city\", \"like\", \"road\", \"consumption\", \"gasoline\", \"average\", \"high\", \"engine\", \"do\", \"battery\", \"drive\", \"speed\", \"time\", \"electric\"], \"Freq\": [284.0, 79.0, 229.0, 53.0, 48.0, 113.0, 68.0, 69.0, 45.0, 96.0, 53.0, 58.0, 124.0, 111.0, 33.0, 77.0, 65.0, 69.0, 90.0, 103.0, 37.0, 72.0, 35.0, 102.0, 89.0, 20.0, 31.0, 49.0, 57.0, 20.0, 5.8560954195352455, 2.4792810424970826, 3.137062328187415, 3.0941106191441397, 4.500055695875222, 2.2605177820224176, 2.943366220231304, 2.221618362671934, 2.1207946412874272, 1.430019456014238, 2.1425789291019885, 1.4293336293706846, 1.429635086604703, 2.116814170692876, 1.4253485843112776, 1.42391002947565, 1.4231384316160443, 1.4209343400867454, 1.4202639522620812, 1.4152512536727475, 1.415428514185922, 1.413777589819349, 1.4132740556003118, 2.8577139402653544, 1.4040479317936294, 1.4029062597271638, 2.072354260586539, 1.3942345610610425, 2.0816781635795207, 1.3974349710360041, 6.974705321428728, 13.48054080360698, 45.52910343672967, 4.052307075758412, 83.52596623281346, 15.780675967239048, 6.0276158942083535, 13.797353601254159, 10.976775166690768, 28.69531429796055, 5.332328342439468, 8.367965178390554, 142.60751465643747, 120.23886457351023, 22.48679753144513, 42.23547410203731, 61.53816047680337, 51.68372751788219, 16.336647276921894, 69.57286033724523, 62.446422303771506, 12.179014062744342, 18.51201391160335, 33.78270474946513, 56.531932010561974, 22.419016770779063, 51.94661286423357, 40.05267487685764, 54.51671556070726, 145.67984236010653, 56.948907290698706, 30.596370402865986, 32.157613300827684, 60.604698837835855, 27.103687804424517, 20.67195911036186, 58.43993032333306, 33.943857656988335, 39.71938668658466, 22.226245162170375, 41.58568417772737, 46.087502872358144, 47.84448895129906, 28.036690167120476, 31.65143961556854, 31.166147447484597, 32.95074133672516, 31.85136202764031, 32.91929463551826, 30.652003214660148, 1.0381672070900962, 1.0378437748921663, 1.0380956011543638, 1.0367331595960323, 1.0367999435832307, 1.0341755980935052, 1.0324049785917557, 1.5534236300835689, 1.0104790361376472, 1.0121519509072228, 1.0117661950244887, 1.0063204671730603, 1.0073513394953104, 1.0106168835913678, 1.002244715174548, 1.006184006029543, 1.0062389159684761, 0.9978107526743031, 0.9822900455555671, 1.9641787844443774, 1.463620504424067, 1.489583201367918, 0.9643735533076259, 1.3873535526897043, 1.4481627840080589, 0.9135597391057649, 1.3674370970128569, 3.6287556817122195, 0.889140909533844, 1.3834453634027546, 2.64549937794476, 4.893386666099602, 7.7458537190282675, 90.20342743218406, 1.7922772835907073, 21.803211809042597, 33.76640054383338, 31.14521246600823, 17.058019051633536, 23.58475398861167, 24.271947233231824, 12.502199643396878, 12.036696447025175, 5.906505056041787, 34.52109335281435, 22.856892430054273, 11.318121961344602, 53.85770489647865, 4.539189472131992, 5.188397817174175, 2.8238172046154317, 21.936957231145332, 7.929043883595297, 23.568023755977492, 8.775217253582092, 6.048217783707541, 30.635065741327708, 26.128522789551504, 10.559293849300726, 27.10757893504827, 13.50459594857847, 28.95028270982483, 15.038833889285545, 16.159149981480706, 12.260475363378632, 15.67271277774273, 15.765006801466274, 41.895013786776595, 22.68607972517962, 19.44296829809292, 11.810808410382869, 19.802159101962523, 16.821708855429463, 17.515641255320983, 20.54779243403748, 20.067217755327356, 14.713046651691593, 15.11767081903991, 16.477194134118477, 17.971001000756193, 1.7849536762762137, 1.352163551998735, 0.7789076392054111, 0.7787774219937397, 0.7786965143647766, 0.7785934049506819, 0.7785669623751317, 0.7776226797086312, 0.777602556742332, 0.7772547287752687, 0.7762216389682414, 0.7761058903356447, 0.7757983083011796, 0.7749630388942584, 0.7744936416018671, 0.7741174585459277, 0.7735389648412039, 0.7733844670255683, 0.7732781978068479, 0.7730846181971603, 0.7717572507961963, 0.7707888538312382, 0.7705069659975435, 0.767898048362685, 0.7644109545002014, 0.7610170748741696, 0.7602014295170277, 0.7585147590690446, 0.7569693651489221, 0.7568783128840562, 1.119490257415285, 1.4136676522842593, 16.87689967260761, 15.071118559906273, 22.643431356819008, 10.524133094950951, 13.39003597694511, 4.649980128250569, 45.11687453789524, 14.996714806695461, 6.627789985260717, 9.992972598294871, 4.382299773985126, 10.425982245841068, 6.3628493479110775, 13.388971621702842, 6.277422200500493, 48.96934558972118, 23.547374959637498, 15.625731459103722, 15.358272291162065, 16.907279032110072, 5.329539352393036, 20.02537290609554, 15.251603939225923, 22.850291459042083, 6.716088230937323, 8.341644731353364, 17.47535868601033, 11.03952849480295, 18.09825396533149, 18.78160994418974, 15.40234191996821, 16.769778969693505, 16.346370471654602, 12.74044001592758, 11.572278206880142, 23.018805502774313, 15.112842615847267, 14.272160297297086, 15.058050938419315, 13.330316334745454, 12.102618484777649, 11.517398720144703], \"Total\": [284.0, 79.0, 229.0, 53.0, 48.0, 113.0, 68.0, 69.0, 45.0, 96.0, 53.0, 58.0, 124.0, 111.0, 33.0, 77.0, 65.0, 69.0, 90.0, 103.0, 37.0, 72.0, 35.0, 102.0, 89.0, 20.0, 31.0, 49.0, 57.0, 20.0, 6.98885220935587, 2.9662214230008717, 3.8907001876289793, 3.8520444496721384, 5.7436152620495555, 2.908635496550779, 3.8320693039677605, 2.893438621785676, 2.79921170781817, 1.8953796436279042, 2.8407343216196863, 1.8951117416252015, 1.8955247113582958, 2.8088137299287474, 1.8940057638593888, 1.8925661788172097, 1.8932514759219885, 1.8920804422257569, 1.891963749471913, 1.8888002367070529, 1.8891036138250383, 1.8886990150529535, 1.8913127176924847, 3.8296005880204813, 1.886214450925389, 1.8855506309508243, 2.791787216716748, 1.878650232880942, 2.8093834304626064, 1.8862101910155131, 9.429512592469504, 18.467323051548235, 63.387282605600795, 5.558546371063578, 124.34725869261173, 22.962258017648224, 8.432507459937664, 20.007274956923226, 15.797926917160632, 43.04842683390973, 7.4579869789699496, 11.946797213863722, 229.61940298110932, 197.1153749727632, 34.026799856233396, 66.17514322308172, 98.37515720182424, 83.56326357196887, 24.5773396070338, 115.26597701699225, 103.01958764390453, 18.054903685243865, 28.359580975013635, 54.37870558787763, 95.56438220739619, 35.29946000612383, 89.22413065220644, 67.17562021762411, 94.91739864755586, 284.8526153820118, 102.15474019107847, 50.622899368334316, 54.588095375157025, 113.10235650729818, 45.080792431218335, 32.95222611845239, 111.74263362033714, 59.84415088511663, 72.48663188113156, 35.866970288697495, 77.93593150793036, 90.56303167311182, 96.72373211097971, 48.682415896607566, 57.38296657815927, 58.457345856180524, 69.32530705473464, 69.41405071788937, 79.13074974831477, 65.75415592341652, 1.602807526729372, 1.6028999512020357, 1.6033137546538039, 1.6031370736536084, 1.6032503445399051, 1.6030122931392123, 1.6041194367486082, 2.4389071373377686, 1.5986406186872948, 1.6025363884544717, 1.6055018032640702, 1.597615841533515, 1.5995334680468394, 1.6051818633588752, 1.5983447256105086, 1.6046908316469268, 1.6056067221267794, 1.596031589823156, 1.6090371421840153, 3.241777158640019, 2.4194045639871966, 2.4824867425102712, 1.6133933035256736, 2.3302534406094044, 2.440750760749619, 1.5740330685469461, 2.3969276535028476, 6.403185519788992, 1.5712102789425038, 2.4530070812321902, 4.753580426643813, 9.414872327444447, 15.758584724648486, 284.8526153820118, 3.268386634517623, 57.90212044191779, 96.72373211097971, 90.56303167311182, 44.72152475068854, 65.75415592341652, 69.32530705473464, 31.750037296931083, 30.419982196287215, 13.226189391907974, 111.74263362033714, 68.2113580158159, 29.402257416195447, 197.1153749727632, 9.85163912001101, 11.691089925769742, 5.5176905862554015, 69.41405071788937, 20.20196779792969, 79.13074974831477, 23.2239587640318, 14.632903217786104, 115.26597701699225, 94.91739864755586, 29.966632081797542, 102.15474019107847, 41.34446911402634, 113.10235650729818, 49.10046782430011, 54.588095375157025, 37.61210582979721, 53.118024737887346, 53.56029448039953, 229.61940298110932, 95.56438220739619, 77.93593150793036, 36.33967705488173, 89.22413065220644, 67.17562021762411, 72.48663188113156, 103.01958764390453, 98.37515720182424, 54.37870558787763, 59.84415088511663, 83.56326357196887, 124.34725869261173, 2.6420310676586163, 2.005465255765985, 1.4092725544466729, 1.4090955267492402, 1.4092928702504457, 1.409405693161121, 1.4094750391746145, 1.4097461011444121, 1.409850979290426, 1.4100469937090037, 1.4106466551061403, 1.4108471926115023, 1.411049481929937, 1.4112383504216126, 1.4119426550525105, 1.4121030160484804, 1.4121386900310509, 1.4122939216012356, 1.412300252035257, 1.4123154610232218, 1.4137146557447604, 1.4142102988944463, 1.4141000325816755, 1.4156536398009085, 1.421779083216002, 1.424501175064539, 1.4251171124355997, 1.4267291211022533, 1.4277602576424995, 1.4281027797639443, 2.2022661696834542, 2.8790062849313562, 53.663375576959155, 48.381911083317355, 79.13074974831477, 33.16478975237415, 45.272091805450444, 12.638251773895618, 229.61940298110932, 58.457345856180524, 20.91334205173508, 35.36285048374369, 12.518433894454601, 37.7589621628241, 20.251055659008184, 53.118024737887346, 20.32862153562512, 284.8526153820118, 113.10235650729818, 69.41405071788937, 68.2113580158159, 77.93593150793036, 17.70581375889447, 103.01958764390453, 72.48663188113156, 124.34725869261173, 24.73508618132287, 33.13232424258191, 89.22413065220644, 49.57142123669249, 102.15474019107847, 111.74263362033714, 83.56326357196887, 98.37515720182424, 95.56438220739619, 66.17514322308172, 57.38296657815927, 197.1153749727632, 96.72373211097971, 94.91739864755586, 115.26597701699225, 90.56303167311182, 69.32530705473464, 65.75415592341652], \"Category\": [\"Default\", \"Default\", \"Default\", \"Default\", \"Default\", \"Default\", \"Default\", \"Default\", \"Default\", \"Default\", \"Default\", \"Default\", \"Default\", \"Default\", \"Default\", \"Default\", \"Default\", \"Default\", \"Default\", \"Default\", \"Default\", \"Default\", \"Default\", \"Default\", \"Default\", \"Default\", \"Default\", \"Default\", \"Default\", \"Default\", \"Topic1\", \"Topic1\", \"Topic1\", \"Topic1\", \"Topic1\", \"Topic1\", \"Topic1\", \"Topic1\", \"Topic1\", \"Topic1\", \"Topic1\", \"Topic1\", \"Topic1\", \"Topic1\", \"Topic1\", \"Topic1\", \"Topic1\", \"Topic1\", \"Topic1\", \"Topic1\", \"Topic1\", \"Topic1\", \"Topic1\", \"Topic1\", \"Topic1\", \"Topic1\", \"Topic1\", \"Topic1\", \"Topic1\", \"Topic1\", \"Topic1\", \"Topic1\", \"Topic1\", \"Topic1\", \"Topic1\", \"Topic1\", \"Topic1\", \"Topic1\", \"Topic1\", \"Topic1\", \"Topic1\", \"Topic1\", \"Topic1\", \"Topic1\", \"Topic1\", \"Topic1\", \"Topic1\", \"Topic1\", \"Topic1\", \"Topic1\", \"Topic1\", \"Topic1\", \"Topic1\", \"Topic1\", \"Topic1\", \"Topic1\", \"Topic1\", \"Topic1\", \"Topic1\", \"Topic1\", \"Topic1\", \"Topic1\", \"Topic1\", \"Topic1\", \"Topic1\", \"Topic1\", \"Topic1\", \"Topic1\", \"Topic1\", \"Topic1\", \"Topic1\", \"Topic1\", \"Topic1\", \"Topic1\", \"Topic1\", \"Topic1\", \"Topic1\", \"Topic1\", \"Topic1\", \"Topic1\", \"Topic2\", \"Topic2\", \"Topic2\", \"Topic2\", \"Topic2\", \"Topic2\", \"Topic2\", \"Topic2\", \"Topic2\", \"Topic2\", \"Topic2\", \"Topic2\", \"Topic2\", \"Topic2\", \"Topic2\", \"Topic2\", \"Topic2\", \"Topic2\", \"Topic2\", \"Topic2\", \"Topic2\", \"Topic2\", \"Topic2\", \"Topic2\", \"Topic2\", \"Topic2\", \"Topic2\", \"Topic2\", \"Topic2\", \"Topic2\", \"Topic2\", \"Topic2\", \"Topic2\", \"Topic2\", \"Topic2\", \"Topic2\", \"Topic2\", \"Topic2\", \"Topic2\", \"Topic2\", \"Topic2\", \"Topic2\", \"Topic2\", \"Topic2\", \"Topic2\", \"Topic2\", \"Topic2\", \"Topic2\", \"Topic2\", \"Topic2\", \"Topic2\", \"Topic2\", \"Topic2\", \"Topic2\", \"Topic2\", \"Topic2\", \"Topic2\", \"Topic2\", \"Topic2\", \"Topic2\", \"Topic2\", \"Topic2\", \"Topic2\", \"Topic2\", \"Topic2\", \"Topic2\", \"Topic2\", \"Topic2\", \"Topic2\", \"Topic2\", \"Topic2\", \"Topic2\", \"Topic2\", \"Topic2\", \"Topic2\", \"Topic2\", \"Topic2\", \"Topic2\", \"Topic2\", \"Topic2\", \"Topic3\", \"Topic3\", \"Topic3\", \"Topic3\", \"Topic3\", \"Topic3\", \"Topic3\", \"Topic3\", \"Topic3\", \"Topic3\", \"Topic3\", \"Topic3\", \"Topic3\", \"Topic3\", \"Topic3\", \"Topic3\", \"Topic3\", \"Topic3\", \"Topic3\", \"Topic3\", \"Topic3\", \"Topic3\", \"Topic3\", \"Topic3\", \"Topic3\", \"Topic3\", \"Topic3\", \"Topic3\", \"Topic3\", \"Topic3\", \"Topic3\", \"Topic3\", \"Topic3\", \"Topic3\", \"Topic3\", \"Topic3\", \"Topic3\", \"Topic3\", \"Topic3\", \"Topic3\", \"Topic3\", \"Topic3\", \"Topic3\", \"Topic3\", \"Topic3\", \"Topic3\", \"Topic3\", \"Topic3\", \"Topic3\", \"Topic3\", \"Topic3\", \"Topic3\", \"Topic3\", \"Topic3\", \"Topic3\", \"Topic3\", \"Topic3\", \"Topic3\", \"Topic3\", \"Topic3\", \"Topic3\", \"Topic3\", \"Topic3\", \"Topic3\", \"Topic3\", \"Topic3\", \"Topic3\", \"Topic3\", \"Topic3\", \"Topic3\", \"Topic3\", \"Topic3\", \"Topic3\", \"Topic3\"], \"logprob\": [30.0, 29.0, 28.0, 27.0, 26.0, 25.0, 24.0, 23.0, 22.0, 21.0, 20.0, 19.0, 18.0, 17.0, 16.0, 15.0, 14.0, 13.0, 12.0, 11.0, 10.0, 9.0, 8.0, 7.0, 6.0, 5.0, 4.0, 3.0, 2.0, 1.0, -7.2019, -8.0614, -7.8261, -7.8399, -7.4653, -8.1538, -7.8898, -8.1712, -8.2176, -8.6117, -8.2074, -8.6122, -8.612, -8.2195, -8.615, -8.616, -8.6165, -8.6181, -8.6186, -8.6221, -8.622, -8.6231, -8.6235, -7.9194, -8.63, -8.6309, -8.2407, -8.6371, -8.2362, -8.6348, -7.0271, -6.3682, -5.151, -7.5701, -4.5442, -6.2106, -7.173, -6.3449, -6.5736, -5.6127, -7.2956, -6.845, -4.0093, -4.1799, -5.8565, -5.2261, -4.8497, -5.0243, -6.176, -4.727, -4.8351, -6.4697, -6.051, -5.4494, -4.9346, -5.8595, -5.0192, -5.2792, -4.9709, -3.988, -4.9272, -5.5485, -5.4987, -4.865, -5.6697, -5.9406, -4.9014, -5.4447, -5.2876, -5.8681, -5.2416, -5.1389, -5.1014, -5.6359, -5.5146, -5.5301, -5.4744, -5.5083, -5.4753, -5.5467, -8.2915, -8.2918, -8.2916, -8.2929, -8.2928, -8.2953, -8.297, -7.8885, -8.3185, -8.3169, -8.3172, -8.3226, -8.3216, -8.3184, -8.3267, -8.3228, -8.3227, -8.3311, -8.3468, -7.6539, -7.948, -7.9304, -8.3652, -8.0015, -7.9586, -8.4193, -8.016, -7.04, -8.4464, -8.0044, -7.3561, -6.7411, -6.2818, -3.8269, -7.7455, -5.2469, -4.8095, -4.8903, -5.4923, -5.1683, -5.1396, -5.803, -5.841, -6.5529, -4.7874, -5.1997, -5.9025, -4.3426, -6.8162, -6.6825, -7.2908, -5.2408, -6.2584, -5.169, -6.157, -6.5292, -4.9068, -5.0659, -5.9719, -5.0291, -5.7259, -4.9634, -5.6183, -5.5465, -5.8226, -5.577, -5.5711, -4.5938, -5.2072, -5.3615, -5.8599, -5.3431, -5.5063, -5.4658, -5.3062, -5.3299, -5.6402, -5.6131, -5.527, -5.4402, -7.3782, -7.6559, -8.2074, -8.2076, -8.2077, -8.2078, -8.2079, -8.2091, -8.2091, -8.2096, -8.2109, -8.211, -8.2114, -8.2125, -8.2131, -8.2136, -8.2143, -8.2145, -8.2147, -8.2149, -8.2167, -8.2179, -8.2183, -8.2217, -8.2262, -8.2307, -8.2317, -8.234, -8.236, -8.2361, -7.8447, -7.6114, -5.1316, -5.2448, -4.8377, -5.6039, -5.3631, -6.4207, -4.1483, -5.2497, -6.0663, -5.6557, -6.48, -5.6133, -6.1071, -5.3631, -6.1206, -4.0664, -4.7986, -5.2086, -5.2259, -5.1298, -6.2843, -4.9606, -5.2329, -4.8286, -6.0531, -5.8363, -5.0968, -5.5561, -5.0617, -5.0247, -5.223, -5.138, -5.1636, -5.4128, -5.509, -4.8213, -5.242, -5.2993, -5.2457, -5.3675, -5.4641, -5.5137], \"loglift\": [30.0, 29.0, 28.0, 27.0, 26.0, 25.0, 24.0, 23.0, 22.0, 21.0, 20.0, 19.0, 18.0, 17.0, 16.0, 15.0, 14.0, 13.0, 12.0, 11.0, 10.0, 9.0, 8.0, 7.0, 6.0, 5.0, 4.0, 3.0, 2.0, 1.0, 0.4601, 0.4576, 0.4216, 0.4178, 0.3929, 0.3848, 0.373, 0.3727, 0.3593, 0.3552, 0.3548, 0.3548, 0.3548, 0.354, 0.3526, 0.3524, 0.3515, 0.3505, 0.3501, 0.3483, 0.3482, 0.3473, 0.3455, 0.3442, 0.3417, 0.3412, 0.3389, 0.3387, 0.3371, 0.337, 0.3353, 0.3221, 0.306, 0.3208, 0.239, 0.2618, 0.3012, 0.2653, 0.2728, 0.2313, 0.3014, 0.2808, 0.1606, 0.1426, 0.2227, 0.1879, 0.1678, 0.1564, 0.2285, 0.132, 0.1363, 0.2432, 0.2104, 0.1609, 0.1119, 0.1829, 0.096, 0.1198, 0.0824, -0.0337, 0.0526, 0.1334, 0.1077, 0.013, 0.1281, 0.1706, -0.0113, 0.0699, 0.0353, 0.1584, 0.0088, -0.0386, -0.067, 0.0851, 0.0419, 0.0079, -0.1069, -0.1421, -0.2401, -0.1263, 0.8431, 0.8427, 0.8427, 0.8415, 0.8415, 0.8391, 0.8367, 0.8263, 0.8186, 0.8178, 0.8156, 0.8151, 0.815, 0.8147, 0.8106, 0.8106, 0.8101, 0.8076, 0.7838, 0.7763, 0.7747, 0.7666, 0.7627, 0.7588, 0.7553, 0.7333, 0.7161, 0.7094, 0.708, 0.7046, 0.6913, 0.6229, 0.5671, 0.1274, 0.6765, 0.3007, 0.225, 0.21, 0.3135, 0.252, 0.2279, 0.3454, 0.3502, 0.4712, 0.1027, 0.184, 0.3227, -0.0201, 0.5025, 0.465, 0.6075, 0.1254, 0.3421, 0.0661, 0.3041, 0.3938, -0.0477, -0.0126, 0.2343, -0.0493, 0.1584, -0.0854, 0.0941, 0.06, 0.1564, 0.0568, 0.0543, -0.4239, -0.1607, -0.111, 0.1535, -0.228, -0.1073, -0.143, -0.3348, -0.3123, -0.0299, -0.0985, -0.3463, -0.657, 1.2566, 1.2546, 1.0558, 1.0558, 1.0555, 1.0553, 1.0552, 1.0538, 1.0537, 1.0531, 1.0514, 1.0511, 1.0505, 1.0493, 1.0482, 1.0476, 1.0468, 1.0465, 1.0464, 1.0461, 1.0434, 1.0418, 1.0415, 1.037, 1.0282, 1.0218, 1.0203, 1.017, 1.0142, 1.0138, 0.9721, 0.9375, 0.4919, 0.4824, 0.3975, 0.5009, 0.4305, 0.6489, 0.0216, 0.2883, 0.4996, 0.3849, 0.5991, 0.3618, 0.491, 0.2706, 0.4737, -0.112, 0.0795, 0.1576, 0.1578, 0.1206, 0.4481, 0.0108, 0.09, -0.0454, 0.345, 0.2695, 0.0184, 0.1468, -0.0819, -0.1346, -0.0424, -0.1205, -0.1171, 0.0012, 0.0476, -0.4987, -0.2076, -0.246, -0.3866, -0.2673, -0.0967, -0.0933]}, \"token.table\": {\"Topic\": [1, 2, 3, 1, 3, 1, 3, 1, 2, 3, 1, 2, 3, 1, 2, 3, 2, 3, 3, 2, 3, 1, 2, 1, 2, 3, 1, 1, 2, 3, 2, 1, 2, 3, 1, 2, 3, 1, 2, 1, 2, 3, 1, 2, 3, 1, 2, 3, 1, 2, 3, 1, 2, 3, 1, 2, 3, 1, 3, 1, 2, 3, 1, 2, 3, 1, 2, 1, 2, 3, 3, 3, 1, 2, 3, 1, 1, 2, 3, 1, 2, 3, 1, 1, 1, 2, 1, 2, 3, 1, 2, 3, 1, 2, 3, 1, 2, 3, 1, 2, 3, 1, 2, 3, 2, 1, 2, 3, 3, 1, 2, 3, 1, 1, 2, 3, 2, 1, 2, 3, 1, 3, 1, 2, 3, 2, 1, 2, 3, 1, 2, 3, 1, 2, 1, 2, 3, 1, 2, 3, 1, 1, 1, 2, 3, 3, 3, 3, 2, 1, 1, 2, 1, 2, 3, 1, 2, 3, 1, 2, 3, 2, 3, 1, 2, 3, 3, 3, 1, 2, 3, 1, 2, 3, 1, 2, 3, 1, 2, 3, 1, 2, 3, 2, 1, 2, 3, 1, 2, 3, 1, 2, 3, 1, 2, 3, 1, 2, 3, 1, 2, 3, 1, 2, 1, 2, 3, 3, 1, 2, 3, 1, 1, 2, 2, 2, 2, 1, 2, 3, 1, 2, 3, 1, 2, 3, 1, 2, 3, 1, 2, 3, 1, 2, 3, 3, 2, 1, 3, 1, 2, 3, 3, 1, 2, 3, 3, 3, 2, 2, 1, 2, 3, 1, 1, 2, 3, 1, 2, 3, 1, 2, 3, 1, 2, 3, 2, 1, 2, 3, 1, 2, 3, 3, 1, 2, 3, 1, 2, 3, 1, 2, 3, 1, 1, 2, 3, 1, 2, 3, 1, 1, 2, 3, 3, 3, 1, 2, 3, 3, 1, 1, 1, 2, 3, 2, 1, 2, 3, 1, 1, 2, 1, 2, 3, 1, 2, 3, 1, 2, 3, 1, 2, 3, 1, 2, 3, 2, 1, 1, 2, 1, 2, 3, 1, 1, 2, 3, 1, 2, 3, 3, 2, 1, 2, 3, 3, 1, 2, 3, 1, 2, 1, 2, 3, 1, 2, 1, 2, 1, 2, 3, 1, 1, 2, 3, 3, 1, 1, 2, 3, 1, 2, 3, 3], \"Freq\": [0.3624704881027601, 0.5437057321541402, 0.18123524405138006, 0.7118999771671147, 0.7086923689113073, 0.5275584085017914, 0.708145741674999, 0.31234453442259585, 0.6246890688451917, 0.15617226721129793, 0.6346793970420983, 0.1662255563681686, 0.1964483847987447, 0.5794511942349387, 0.27392238272924374, 0.14749666762343897, 0.6237082399482847, 0.7080647323817342, 0.7002297132740637, 0.6231730002306299, 0.7009038963383788, 0.7828668434816072, 0.26095561449386906, 0.4837406412171076, 0.3386184488519753, 0.19349625648684302, 0.7120443690122289, 0.5828019799116315, 0.2241546076583198, 0.19053141650957184, 0.6237329082171358, 0.41703130710830644, 0.3032954960787683, 0.29065818374215296, 0.6696355397006621, 0.16740888492516554, 0.16740888492516554, 0.4076629079675064, 0.4076629079675064, 0.43381585106110454, 0.3670749508978577, 0.20022270048974056, 0.5125457591611068, 0.31595286523629873, 0.17201878218420708, 0.3779523119224778, 0.4094483379160176, 0.22047218195477872, 0.5989246981670749, 0.24400635851251204, 0.1552767735988713, 0.5579770443680107, 0.26430491575326825, 0.17620327716884548, 0.43980945215962447, 0.3371872466557121, 0.21990472607981223, 0.52851875516648, 0.7569933694127269, 0.6302404160107435, 0.20330336000346566, 0.17280785600294582, 0.5228444922970941, 0.33021757408237523, 0.13759065586765634, 0.5293515891249659, 0.42913787083111504, 0.3994109840061458, 0.23964659040368747, 0.3195287872049166, 0.7091962214462006, 0.708057107351569, 0.8705318465596174, 0.17410636931192347, 0.17410636931192347, 0.5283831081801147, 0.422134441512562, 0.2713721409723613, 0.3316770611884416, 0.613377707203017, 0.16728482923718643, 0.19516563411005083, 0.5276733704063405, 0.5285513532059591, 0.305961353971694, 0.611922707943388, 0.496258766617125, 0.3515166263537969, 0.15508086456785156, 0.607291082863773, 0.2689431938396709, 0.1301338034708085, 0.6646393804807449, 0.16615984512018622, 0.16615984512018622, 0.6967955846373121, 0.17419889615932801, 0.130649172119496, 0.4248597177828912, 0.531074647228614, 0.1062149294457228, 0.47145309014544295, 0.36499594075776226, 0.18249797037888113, 0.6237769785467959, 0.6087805175856081, 0.27395123291352363, 0.11668293253724156, 0.7093475904549152, 0.6962938908174817, 0.18989833385931318, 0.12659888923954213, 0.5303490575035533, 0.6704221949031304, 0.13408443898062608, 0.13408443898062608, 0.6229823690553542, 0.21036774604569664, 0.6311032381370899, 0.21036774604569664, 0.7710694361747318, 0.709484008021595, 0.7423501407262837, 0.1060500201037548, 0.1060500201037548, 0.6240107913957738, 0.675527557930724, 0.14475590527086943, 0.18496587895722205, 0.5964565320612567, 0.24067544276155975, 0.1674263949645633, 0.41001971116110936, 0.8200394223222187, 0.6123710887130884, 0.1975390608751898, 0.1975390608751898, 0.5389041894716597, 0.24378999047527464, 0.21812788621471943, 0.687607643643114, 0.6742584975253253, 0.5576567735725889, 0.24397483843800763, 0.20912129008972083, 0.7080679061949204, 0.7082440610612545, 0.7085975233745925, 0.6256472611801794, 0.716386975348386, 0.40282188938854424, 0.40282188938854424, 0.47856932237332933, 0.3190462149155529, 0.21269747661036859, 0.3473420691139071, 0.3473420691139071, 0.3473420691139071, 0.6372862314221784, 0.2124287438073928, 0.15173481700528058, 0.6198116713480504, 0.7088947443927819, 0.651006181133655, 0.2034394316042672, 0.12206365896256031, 0.7033441494567805, 0.7095189162725212, 0.41003483114048606, 0.41003483114048606, 0.20501741557024303, 0.6227696707832855, 0.18291137183844747, 0.195976469826908, 0.6465491933697022, 0.17633159819173697, 0.17633159819173697, 0.5681424081907371, 0.25065106243708996, 0.18381077912053262, 0.4060238048991313, 0.5075297561239142, 0.20301190244956566, 0.6353106678521949, 0.6736599251788773, 0.2090668733313757, 0.11614826296187539, 0.5190498748853902, 0.3132197520860114, 0.17003357970383476, 0.6018272972932873, 0.2038447297283715, 0.19413783783654429, 0.5751563369300902, 0.24649557297003866, 0.184871679727529, 0.5518258879181293, 0.24832164956315816, 0.20693470796929847, 0.5862083991038669, 0.29310419955193345, 0.10991407483197504, 0.30847277621621505, 0.6169455524324301, 0.7256976180255993, 0.1262082813957564, 0.1577603517446955, 0.7095859469090655, 0.39600102722764685, 0.39600102722764685, 0.24750064201727928, 0.7144868658608494, 0.4172007438516592, 0.4172007438516592, 0.6239052308673406, 0.6251822921974127, 0.6238255341396536, 0.595454122647693, 0.25306800212526953, 0.14886353066192326, 0.5043228411917136, 0.262247877419691, 0.22190205012435396, 0.5090087409179473, 0.19794784369031285, 0.28278263384330404, 0.5008452156616647, 0.3799515429157457, 0.1381641974239075, 0.6912190861562865, 0.6265540145798757, 0.7081636315729446, 0.5091601181776796, 0.30549607090660774, 0.18329764254396466, 0.4986374095112664, 0.6238692560007173, 0.45407771947190945, 0.45407771947190945, 0.3807448514469206, 0.5076598019292274, 0.12691495048230686, 0.7063874749339363, 0.5130940973392828, 0.2414560458067213, 0.2414560458067213, 0.7003976995768099, 0.7020001229235164, 0.625932701718908, 0.6255314598606524, 0.46386193265034303, 0.24297529805494159, 0.2871526249740219, 0.5281918502205383, 0.4421429217485627, 0.37412093378724537, 0.17005496990329333, 0.3780378347719028, 0.4536454017262833, 0.1512151339087611, 0.49380141797949906, 0.1975205671917996, 0.29628085078769945, 0.6997454690927564, 0.1499454576627335, 0.1499454576627335, 0.6228582228727162, 0.6222830198010995, 0.19147169840033829, 0.17950471725031714, 0.7115321306865887, 0.23717737689552956, 0.11858868844776478, 0.7092948224239254, 0.52277531838901, 0.2987287533651486, 0.18670547085321787, 0.7039460978568914, 0.10829939967029098, 0.16244909950543648, 0.3347145560323891, 0.3347145560323891, 0.3347145560323891, 0.5294366130234115, 0.4602238064987662, 0.39447754842751387, 0.1643656451781308, 0.6699675857954338, 0.1410458075358808, 0.176307259419851, 0.5294649872901867, 0.507933525967168, 0.3423030283691784, 0.14354643125159094, 0.7071084129296373, 0.7016967176058588, 0.62524474667855, 0.2758432705934779, 0.11033730823739117, 0.7071635506395776, 0.530163607832917, 0.5287332923029567, 0.7196125988663177, 0.17990314971657942, 0.17990314971657942, 0.6214896932973574, 0.623238995615893, 0.2549614072974108, 0.11331618102107145, 0.704043311892564, 0.7833715112182753, 0.26112383707275844, 0.46100176648750124, 0.3169387144601571, 0.23050088324375062, 0.5031364447299638, 0.16771214824332129, 0.31678961334849576, 0.47601664387790454, 0.3461939228202942, 0.1730969614101471, 0.5373909260265889, 0.14468217239177394, 0.31003322655380133, 0.47474920640472085, 0.15824973546824028, 0.3956243386706007, 0.6364520480817155, 0.7788072124285432, 0.41332483822052174, 0.41332483822052174, 0.4518289929476537, 0.22591449647382686, 0.28239312059228355, 0.5275987865343548, 0.5303011887721971, 0.20527787952472146, 0.2565973494059018, 0.3443420887015271, 0.3443420887015271, 0.2951503617441661, 0.7073563225339763, 0.6233949773882805, 0.5255692219829873, 0.20214200845499508, 0.28299881183699316, 0.7095757178011479, 0.5393344743976562, 0.25640491405790217, 0.21219717025481558, 0.5301624104880511, 0.6228175220114952, 0.503191796375871, 0.2383540088096231, 0.2648377875662479, 0.8585100700752967, 0.1430850116792161, 0.40971000238175637, 0.40971000238175637, 0.4736487913953884, 0.3875308293234996, 0.1291769431078332, 0.5322970622724609, 0.4919331378490463, 0.38013015197426303, 0.1341635830497399, 0.7096750937156001, 0.5279814977766034, 0.4518240299489447, 0.30121601996596314, 0.24473801622234506, 0.2566056731278183, 0.42767612187969717, 0.2566056731278183, 0.7087939822518857], \"Term\": [\"advantageous\", \"advantageous\", \"advantageous\", \"aggressively\", \"american\", \"announcement\", \"anymore\", \"apply\", \"apply\", \"apply\", \"average\", \"average\", \"average\", \"battery\", \"battery\", \"battery\", \"beneficial\", \"bias\", \"birth\", \"bkz\", \"blast\", \"body\", \"body\", \"brake\", \"brake\", \"brake\", \"build\", \"burn\", \"burn\", \"burn\", \"bursa\", \"buy\", \"buy\", \"buy\", \"buying\", \"buying\", \"buying\", \"camry\", \"camry\", \"cant\", \"cant\", \"cant\", \"car\", \"car\", \"car\", \"change\", \"change\", \"change\", \"charge\", \"charge\", \"charge\", \"city\", \"city\", \"city\", \"come\", \"come\", \"come\", \"comfortless\", \"consciously\", \"consumption\", \"consumption\", \"consumption\", \"control\", \"control\", \"control\", \"crap\", \"dead\", \"dealer\", \"dealer\", \"dealer\", \"declaration\", \"deendetail\", \"degree\", \"degree\", \"degree\", \"dicklike\", \"diesel\", \"diesel\", \"diesel\", \"difference\", \"difference\", \"difference\", \"disclose\", \"discomfort\", \"disgust\", \"disgust\", \"do\", \"do\", \"do\", \"drive\", \"drive\", \"drive\", \"drove\", \"drove\", \"drove\", \"eco\", \"eco\", \"eco\", \"ecvt\", \"ecvt\", \"ecvt\", \"electric\", \"electric\", \"electric\", \"electrically\", \"engine\", \"engine\", \"engine\", \"esenbo\\u011fa\", \"exceed\", \"exceed\", \"exceed\", \"excessive\", \"extremely\", \"extremely\", \"extremely\", \"fiat\", \"finish\", \"finish\", \"finish\", \"fix\", \"flight\", \"follow\", \"follow\", \"follow\", \"fos\", \"fuel\", \"fuel\", \"fuel\", \"gasoline\", \"gasoline\", \"gasoline\", \"giresun\", \"giresun\", \"go\", \"go\", \"go\", \"good\", \"good\", \"good\", \"heater\", \"hes\", \"high\", \"high\", \"high\", \"html\", \"httpswww\", \"hydraulics\", \"h\\u0131r\", \"ideal\", \"ignition\", \"ignition\", \"im\", \"im\", \"im\", \"image\", \"image\", \"image\", \"increase\", \"increase\", \"increase\", \"indoor\", \"inefficiency\", \"insulation\", \"insulation\", \"insulation\", \"jackal\", \"june\", \"kilometer\", \"kilometer\", \"kilometer\", \"km\", \"km\", \"km\", \"kmh\", \"kmh\", \"kmh\", \"know\", \"know\", \"know\", \"learn\", \"learn\", \"learn\", \"lessedit\", \"let\", \"let\", \"let\", \"like\", \"like\", \"like\", \"liter\", \"liter\", \"liter\", \"little\", \"little\", \"little\", \"long\", \"long\", \"long\", \"low\", \"low\", \"low\", \"lpg\", \"lpg\", \"lt\", \"lt\", \"lt\", \"mail\", \"maintenance\", \"maintenance\", \"maintenance\", \"mark\", \"memorize\", \"memorize\", \"mild\", \"milestone\", \"miyuuuuv\", \"mode\", \"mode\", \"mode\", \"model\", \"model\", \"model\", \"month\", \"month\", \"month\", \"motor\", \"motor\", \"motor\", \"mtvsi\", \"necvox\", \"news\", \"noise\", \"noise\", \"noise\", \"october\", \"off\", \"office\", \"office\", \"oil\", \"oil\", \"oil\", \"opel\", \"package\", \"package\", \"package\", \"past\", \"payment\", \"philips\", \"photon\", \"price\", \"price\", \"price\", \"privately\", \"problem\", \"problem\", \"problem\", \"radar\", \"radar\", \"radar\", \"rent\", \"rent\", \"rent\", \"rev\", \"rev\", \"rev\", \"reveal\", \"road\", \"road\", \"road\", \"route\", \"route\", \"route\", \"saturday\", \"say\", \"say\", \"say\", \"scream\", \"scream\", \"scream\", \"sell\", \"sell\", \"sell\", \"separately\", \"service\", \"service\", \"service\", \"slope\", \"slope\", \"slope\", \"smell\", \"speed\", \"speed\", \"speed\", \"spritmonitor\", \"squishy\", \"start\", \"start\", \"start\", \"stateoftheart\", \"suction\", \"summarya\", \"surprise\", \"surprise\", \"surprise\", \"symmetrical\", \"system\", \"system\", \"system\", \"taxation\", \"temperature\", \"temperature\", \"think\", \"think\", \"think\", \"thousand\", \"thousand\", \"thousand\", \"time\", \"time\", \"time\", \"tl\", \"tl\", \"tl\", \"today\", \"today\", \"today\", \"tomato\", \"tomorrow\", \"ton\", \"ton\", \"tool\", \"tool\", \"tool\", \"torture\", \"traffic\", \"traffic\", \"traffic\", \"turkey\", \"turkey\", \"turkey\", \"tuzla\", \"unbeatable\", \"understand\", \"understand\", \"understand\", \"unplan\", \"use\", \"use\", \"use\", \"variety\", \"vs\", \"want\", \"want\", \"want\", \"warm\", \"warm\", \"watch\", \"watch\", \"way\", \"way\", \"way\", \"weve\", \"work\", \"work\", \"work\", \"worker\", \"worldwide\", \"year\", \"year\", \"year\", \"zero\", \"zero\", \"zero\", \"\\u00fcsk\\u00fcdar\"]}, \"R\": 30, \"lambda.step\": 0.01, \"plot.opts\": {\"xlab\": \"PC1\", \"ylab\": \"PC2\"}, \"topic.order\": [2, 1, 3]};\n",
       "\n",
       "function LDAvis_load_lib(url, callback){\n",
       "  var s = document.createElement('script');\n",
       "  s.src = url;\n",
       "  s.async = true;\n",
       "  s.onreadystatechange = s.onload = callback;\n",
       "  s.onerror = function(){console.warn(\"failed to load library \" + url);};\n",
       "  document.getElementsByTagName(\"head\")[0].appendChild(s);\n",
       "}\n",
       "\n",
       "if(typeof(LDAvis) !== \"undefined\"){\n",
       "   // already loaded: just create the visualization\n",
       "   !function(LDAvis){\n",
       "       new LDAvis(\"#\" + \"ldavis_el1197753031060168928115703\", ldavis_el1197753031060168928115703_data);\n",
       "   }(LDAvis);\n",
       "}else if(typeof define === \"function\" && define.amd){\n",
       "   // require.js is available: use it to load d3/LDAvis\n",
       "   require.config({paths: {d3: \"https://d3js.org/d3.v5\"}});\n",
       "   require([\"d3\"], function(d3){\n",
       "      window.d3 = d3;\n",
       "      LDAvis_load_lib(\"https://cdn.jsdelivr.net/gh/bmabey/pyLDAvis@3.3.1/pyLDAvis/js/ldavis.v3.0.0.js\", function(){\n",
       "        new LDAvis(\"#\" + \"ldavis_el1197753031060168928115703\", ldavis_el1197753031060168928115703_data);\n",
       "      });\n",
       "    });\n",
       "}else{\n",
       "    // require.js not available: dynamically load d3 & LDAvis\n",
       "    LDAvis_load_lib(\"https://d3js.org/d3.v5.js\", function(){\n",
       "         LDAvis_load_lib(\"https://cdn.jsdelivr.net/gh/bmabey/pyLDAvis@3.3.1/pyLDAvis/js/ldavis.v3.0.0.js\", function(){\n",
       "                 new LDAvis(\"#\" + \"ldavis_el1197753031060168928115703\", ldavis_el1197753031060168928115703_data);\n",
       "            })\n",
       "         });\n",
       "}\n",
       "</script>"
      ],
      "text/plain": [
       "PreparedData(topic_coordinates=              x         y  topics  cluster       Freq\n",
       "topic                                                \n",
       "1      0.010187 -0.007323       1        1  52.893195\n",
       "0     -0.012102 -0.004322       2        1  27.877388\n",
       "2      0.001915  0.011645       3        1  19.229418, topic_info=         Term        Freq       Total Category  logprob  loglift\n",
       "0         car  284.000000  284.000000  Default  30.0000  30.0000\n",
       "111       buy   79.000000   79.000000  Default  29.0000  29.0000\n",
       "128        km  229.000000  229.000000  Default  28.0000  28.0000\n",
       "142  thousand   53.000000   53.000000  Default  27.0000  27.0000\n",
       "209        tl   48.000000   48.000000  Default  26.0000  26.0000\n",
       "..        ...         ...         ...      ...      ...      ...\n",
       "109   battery   14.272160   94.917399   Topic3  -5.2993  -0.2460\n",
       "188     drive   15.058051  115.265977   Topic3  -5.2457  -0.3866\n",
       "292     speed   13.330316   90.563032   Topic3  -5.3675  -0.2673\n",
       "260      time   12.102618   69.325307   Topic3  -5.4641  -0.0967\n",
       "97   electric   11.517399   65.754156   Topic3  -5.5137  -0.0933\n",
       "\n",
       "[264 rows x 6 columns], token_table=      Topic      Freq          Term\n",
       "term                               \n",
       "961       1  0.362470  advantageous\n",
       "961       2  0.543706  advantageous\n",
       "961       3  0.181235  advantageous\n",
       "1629      1  0.711900  aggressively\n",
       "1760      3  0.708692      american\n",
       "...     ...       ...           ...\n",
       "147       3  0.244738          year\n",
       "699       1  0.256606          zero\n",
       "699       2  0.427676          zero\n",
       "699       3  0.256606          zero\n",
       "2113      3  0.708794       üsküdar\n",
       "\n",
       "[375 rows x 3 columns], R=30, lambda_step=0.01, plot_opts={'xlab': 'PC1', 'ylab': 'PC2'}, topic_order=[2, 1, 3])"
      ]
     },
     "execution_count": 34,
     "metadata": {},
     "output_type": "execute_result"
    }
   ],
   "source": [
    "# Visualize the topics\n",
    "pyLDAvis.enable_notebook()\n",
    "LDAvis_data_filepath = os.path.join('files/ldavis_prepared_eksi'+str(num_topics))\n",
    "# # this is a bit time consuming - make the if statement True\n",
    "# # if you want to execute visualization prep yourself\n",
    "if 1 == 1:\n",
    "    LDAvis_prepared_eksi = gensim_models.prepare(lda_model_eksi, corpus_eksi, id2word_eksi)\n",
    "    with open(LDAvis_data_filepath, 'wb') as f:\n",
    "        pickle.dump(LDAvis_prepared_eksi, f)\n",
    "# load the pre-prepared pyLDAvis data from disk\n",
    "with open(LDAvis_data_filepath, 'rb') as f:\n",
    "    LDAvis_prepared_eksi = pickle.load(f)\n",
    "pyLDAvis.save_html(LDAvis_prepared_eksi, 'ldavis_prepared_'+ str(num_topics) +'.html')\n",
    "LDAvis_prepared_eksi"
   ]
  },
  {
   "cell_type": "markdown",
   "metadata": {},
   "source": [
    "### Compute Perplexity and Coherence Score"
   ]
  },
  {
   "cell_type": "code",
   "execution_count": 40,
   "metadata": {},
   "outputs": [
    {
     "name": "stdout",
     "output_type": "stream",
     "text": [
      "Perplexity:  -7.215\n",
      "Coherence Score:  0.286\n"
     ]
    }
   ],
   "source": [
    "## Perplexity\n",
    "print('Perplexity: ', lda_model_eksi.log_perplexity(corpus_eksi).round(3))  \n",
    "\n",
    "\n",
    "## Coherence Score\n",
    "coherence_model_lda = CoherenceModel(model=lda_model_eksi, texts=data_words_eksi, dictionary=id2word_eksi, coherence='c_v')\n",
    "coherence_lda = coherence_model_lda.get_coherence()\n",
    "print('Coherence Score: ', coherence_lda.round(3))"
   ]
  },
  {
   "cell_type": "markdown",
   "metadata": {},
   "source": [
    "* Lower the perplexity better the model\n",
    "* Higher the topic coherence, the topic is more interpretable"
   ]
  },
  {
   "cell_type": "markdown",
   "metadata": {},
   "source": [
    "## Sikayetvar Complaints"
   ]
  },
  {
   "cell_type": "code",
   "execution_count": 35,
   "metadata": {
    "colab": {
     "base_uri": "https://localhost:8080/",
     "height": 881
    },
    "id": "hEnd8E0ylzZU",
    "outputId": "6230b241-7e63-4c84-b029-c96df8f1a6b0"
   },
   "outputs": [
    {
     "data": {
      "text/html": [
       "\n",
       "<link rel=\"stylesheet\" type=\"text/css\" href=\"https://cdn.jsdelivr.net/gh/bmabey/pyLDAvis@3.3.1/pyLDAvis/js/ldavis.v1.0.0.css\">\n",
       "\n",
       "\n",
       "<div id=\"ldavis_el1197753031066882932982723\"></div>\n",
       "<script type=\"text/javascript\">\n",
       "\n",
       "var ldavis_el1197753031066882932982723_data = {\"mdsDat\": {\"x\": [-0.026617267924454065, -0.004545277147917513, 0.031162545072371567], \"y\": [-0.0074326832792258575, 0.012027030024090517, -0.004594346744864643], \"topics\": [1, 2, 3], \"cluster\": [1, 1, 1], \"Freq\": [41.703773992076826, 29.909173045799054, 28.38705296212412]}, \"tinfo\": {\"Term\": [\"model\", \"brake\", \"look\", \"available\", \"problem\", \"list\", \"want\", \"sensor\", \"do\", \"tire\", \"service\", \"dealership\", \"issue\", \"safety\", \"warranty\", \"authorize\", \"2021\", \"steer\", \"s\", \"branch\", \"dream\", \"stain\", \"error\", \"price\", \"find\", \"scratch\", \"answer\", \"press\", \"pressure\", \"quality\", \"citizen\", \"tool\", \"cross\", \"simple\", \"social\", \"medium\", \"advertising\", \"advertisement\", \"000\", \"charge\", \"decide\", \"sales\", \"happy\", \"120\", \"5\", \"assistance\", \"exclude\", \"playe\", \"experience\", \"chr\", \"doesnt\", \"own\", \"tow\", \"legal\", \"3\", \"shop\", \"make\", \"substitute\", \"manager\", \"road\", \"appointment\", \"battery\", \"replacement\", \"gasoline\", \"start\", \"tl\", \"install\", \"service\", \"say\", \"day\", \"15\", \"wend\", \"4\", \"user\", \"dealer\", \"liter\", \"car\", \"km\", \"sell\", \"buy\", \"time\", \"maintenance\", \"cant\", \"call\", \"customer\", \"situation\", \"problem\", \"warranty\", \"way\", \"tire\", \"state\", \"steer\", \"upholstery\", \"logic\", \"prepay\", \"youre\", \"taking\", \"paint\", \"10\", \"stain\", \"color\", \"station\", \"8\", \"ive\", \"drop\", \"april\", \"understand\", \"completely\", \"surface\", \"water\", \"package\", \"act\", \"ceramic\", \"thin\", \"yes\", \"flame\", \"tozlu\", \"write\", \"area\", \"delivery\", \"glove\", \"comment\", \"door\", \"coating\", \"warranty\", \"state\", \"want\", \"additional\", \"issue\", \"park\", \"service\", \"customer\", \"way\", \"sensor\", \"call\", \"tire\", \"say\", \"buy\", \"problem\", \"car\", \"do\", \"time\", \"pressure\", \"year\", \"day\", \"know\", \"battery\", \"wash\", \"maintenance\", \"appointment\", \"liter\", \"sell\", \"km\", \"situation\", \"start\", \"check\", \"dealer\", \"hard\", \"600\", \"finding\", \"vision\", \"432\", \"whats\", \"word\", \"11000\", \"arrive\", \"spare\", \"available\", \"extremely\", \"repulsive\", \"lead\", \"loud\", \"suffer\", \"list\", \"press\", \"questionable\", \"ab\", \"scratch\", \"lose\", \"quality\", \"dealership\", \"correct\", \"religion\", \"gap\", \"haven\", \"chronic\", \"human\", \"brake\", \"s\", \"safety\", \"look\", \"model\", \"poor\", \"answer\", \"branch\", \"steer\", \"authorize\", \"problem\", \"price\", \"do\", \"tire\", \"sensor\", \"2021\", \"find\", \"wheel\", \"say\", \"want\", \"break\", \"time\", \"service\", \"battery\", \"error\", \"buy\", \"system\", \"pressure\", \"dealer\", \"month\", \"car\", \"warranty\", \"km\", \"sell\", \"customer\", \"situation\", \"day\", \"like\", \"check\"], \"Freq\": [25.0, 15.0, 24.0, 8.0, 57.0, 9.0, 30.0, 25.0, 26.0, 39.0, 176.0, 11.0, 15.0, 8.0, 46.0, 21.0, 18.0, 27.0, 11.0, 10.0, 8.0, 18.0, 13.0, 17.0, 14.0, 5.0, 11.0, 5.0, 21.0, 5.0, 5.6273306043007265, 2.915480733393985, 5.197133380726956, 2.75809912712725, 4.906281058006618, 4.551073497282161, 4.391900494439705, 4.3899979042696105, 4.530221811821681, 16.883083166735894, 2.481866377554295, 4.228657755842907, 2.4494525662896947, 2.437672571320977, 7.594445689306416, 4.041731283647215, 2.326971692581135, 2.2913684072675378, 5.74460646318643, 2.3505685797158, 2.2488279468720047, 2.3418251989789827, 5.5348215498033575, 3.887909127407143, 5.580268354734447, 2.217474114273408, 2.2162836149097194, 2.252685837493951, 3.9045906765766007, 8.847535249564162, 19.98499389167169, 49.743510154673785, 11.856770255111694, 8.485636495072635, 14.354556894766068, 12.804551321375168, 9.843577849804563, 86.6649480903163, 54.59681587350633, 20.844490758021305, 9.415589438037761, 10.68892024849297, 8.051988505053158, 11.921199287510275, 16.55662881370867, 11.114517119476043, 20.42279444788827, 15.099830078545068, 14.496244140140256, 18.916679973112597, 17.985952942009664, 10.716432003554148, 8.685708660537241, 12.729708745312092, 16.127136401902394, 12.004339967929992, 17.847831923698365, 15.620090599542673, 8.909930167089597, 11.140104196249055, 9.543822007491402, 9.06262532730543, 2.3026396999049936, 2.2789331812785303, 2.275372874159745, 2.270239248999794, 3.1628462985344026, 5.884860762825446, 5.739558901278063, 9.293800644997095, 7.871518975620858, 2.895581146460132, 4.151400186662313, 3.9646901783902884, 2.8013437161184225, 2.772651723447326, 3.877199654247996, 3.887455743730536, 3.915961962463591, 2.7245211523600643, 3.866863278741845, 1.5169626529963718, 3.830072478442366, 1.52277942941104, 1.5144889073989227, 1.5096646354487817, 1.5069665030162853, 1.49675667700475, 2.6272751562950125, 2.610123649470726, 1.4829556715581755, 1.4788404728075946, 3.6873181680298313, 3.671847447309706, 18.93162726119431, 9.891222987739958, 12.507645129767017, 4.582317597057243, 6.436948144226964, 4.651925579527975, 58.860326507485574, 15.659528965821908, 7.609036242356618, 9.97270142081373, 11.09844324172615, 13.749850648588971, 33.852760987514756, 15.841807761633824, 18.278111989973244, 15.52770867575496, 9.312302433128794, 13.401857179719823, 7.524982896095106, 7.635669600574765, 11.845423685348814, 6.7770692624580935, 17.946469507867846, 6.190642864706832, 7.27685155957159, 9.262278119959946, 7.213101576608366, 8.899843247597147, 8.254190966311793, 7.377383342158999, 6.875361677032676, 6.649910602138748, 6.756469956956181, 2.7640773961193887, 2.763404921214103, 2.7559074069182024, 2.7347695524258295, 2.722712501087915, 2.7010128840222243, 2.698737301384139, 2.563097267782427, 2.5536780060945916, 2.559437780994744, 6.449118401055572, 2.5058998258700997, 2.496075814931598, 2.451269953286187, 2.4482029824973686, 2.4430668187263556, 5.98791269518028, 3.6007870409326728, 2.0783516940272078, 2.0719578860037027, 3.4796325541728725, 1.9897854163526059, 3.4259063197429374, 6.811992420678663, 1.954550362442029, 1.949760687265508, 1.9461167480429626, 1.9247243235280094, 1.9051410546970178, 1.913306089179644, 8.91667143890687, 6.446202292904296, 4.605478901028494, 13.130149067567618, 13.194340351006339, 3.2375675578292755, 5.888772535540932, 5.753568858877253, 11.905523059561, 9.71702865534805, 21.771003283888753, 8.10267815357832, 11.005172105069189, 14.383538412783256, 10.473914879664907, 8.235863038707228, 6.9339359036560975, 7.508806270351675, 27.79951391783785, 11.295902005407205, 6.353326264344065, 13.581923722941948, 31.3329759012686, 19.70563876146988, 6.193710518481484, 13.328977481230503, 6.396895667430138, 8.07861667343065, 10.624489118416783, 7.697943254510636, 12.47684653117687, 12.232162709795613, 9.975677265565295, 9.677050568956364, 10.566609121309686, 8.321209261874737, 8.74557714781138, 7.465964014927415, 7.104031733535508], \"Total\": [25.0, 15.0, 24.0, 8.0, 57.0, 9.0, 30.0, 25.0, 26.0, 39.0, 176.0, 11.0, 15.0, 8.0, 46.0, 21.0, 18.0, 27.0, 11.0, 10.0, 8.0, 18.0, 13.0, 17.0, 14.0, 5.0, 11.0, 5.0, 21.0, 5.0, 6.930819216256989, 3.8853470018305014, 6.941659679344085, 3.8330794482133377, 6.876692097879997, 6.776853574111811, 6.592944261829287, 6.5916444591482115, 6.897923163938138, 26.391467791956323, 3.897098454931308, 6.688242395352852, 3.894910355983737, 3.8915805605904996, 12.225597097167965, 6.510002820866275, 3.7696220100412132, 3.7196674472246887, 9.377214277146598, 3.874729828204361, 3.7101977071755785, 3.8741049954257383, 9.1848020622465, 6.461485639892032, 9.309831609355017, 3.70015311867852, 3.700293074298202, 3.7660565591496806, 6.539701391889736, 14.8534285197426, 33.960471278026986, 87.39561842401152, 20.306591418361343, 14.801139689347915, 25.594678793113125, 22.912221473936434, 17.438770373941495, 176.8582504990705, 116.24909077885894, 41.4354915911815, 17.200978097567678, 19.958025445969675, 14.518102820852123, 22.885352692848677, 33.937587889081634, 22.300699872589828, 48.4273496548201, 33.32969831042216, 33.07313795669377, 48.08746521597693, 44.96973384467144, 22.21559186707983, 16.92428443561845, 29.60598939912851, 42.35327448903399, 27.70293257196373, 57.89694719756036, 46.7838805705326, 19.17632719783812, 39.27349325762128, 24.040212261547644, 27.402068703924925, 3.065775653440072, 3.076459232077137, 3.0774048572894324, 3.0787004013888084, 5.527857217452937, 10.674113235534968, 10.787145151565865, 18.389910223140458, 15.694575776645664, 5.851304635900659, 8.399844981703335, 8.258786838767534, 5.91008435598025, 5.88190547557828, 8.288773960436904, 8.369695911454274, 8.494933311871069, 5.960831135083695, 8.505961079759107, 3.3725329490264477, 8.520582121485255, 3.3971816342443173, 3.381916397646928, 3.380310627831485, 3.39826941563367, 3.395960290547696, 5.971988646834782, 5.97020042442456, 3.410027349084813, 3.40921304003289, 8.564882877130714, 8.586684218326763, 46.7838805705326, 24.040212261547644, 30.926488812105795, 10.921453299832176, 15.698415548822869, 11.225712469024721, 176.8582504990705, 42.35327448903399, 19.17632719783812, 25.94606523520142, 29.60598939912851, 39.27349325762128, 116.24909077885894, 48.08746521597693, 57.89694719756036, 48.4273496548201, 26.161505644848333, 44.96973384467144, 21.261595509744794, 21.720495467818257, 41.4354915911815, 19.07224870378166, 87.39561842401152, 16.625189429943234, 22.21559186707983, 33.960471278026986, 22.300699872589828, 33.07313795669377, 33.32969831042216, 27.70293257196373, 25.594678793113125, 21.907539697866817, 33.937587889081634, 3.5615171177362184, 3.5627810578485866, 3.5642686087431694, 3.5682170613938458, 3.5708931074674193, 3.57460898644894, 3.574078872267153, 3.5272304372695578, 3.5256613803351247, 3.5358057948688244, 8.996448378421915, 3.5309280129146443, 3.5275361974436525, 3.524380693470785, 3.527373394046531, 3.520533769525068, 9.259345779979181, 5.865937649444102, 3.4044972796755095, 3.399190405964611, 5.796748974979825, 3.359847144144986, 5.811508330931682, 11.634845580245138, 3.356132901617937, 3.3563476866692112, 3.3840289495996836, 3.351644180949135, 3.3461593166958803, 3.3671345175212513, 15.812195094045297, 11.561551583325599, 8.237645669238006, 24.906864162313948, 25.062930563229564, 5.778366538646218, 11.252277113146237, 10.975688591417189, 27.402068703924925, 21.61090016588512, 57.89694719756036, 17.381446696795486, 26.161505644848333, 39.27349325762128, 25.94606523520142, 18.687588686347304, 14.744255273122954, 16.734412088871245, 116.24909077885894, 30.926488812105795, 13.743370878023, 44.96973384467144, 176.8582504990705, 87.39561842401152, 13.45448276270561, 48.08746521597693, 14.264225396708891, 21.261595509744794, 33.937587889081634, 19.704058596491002, 48.4273496548201, 46.7838805705326, 33.32969831042216, 33.07313795669377, 42.35327448903399, 27.70293257196373, 41.4354915911815, 22.16775276592756, 21.907539697866817], \"Category\": [\"Default\", \"Default\", \"Default\", \"Default\", \"Default\", \"Default\", \"Default\", \"Default\", \"Default\", \"Default\", \"Default\", \"Default\", \"Default\", \"Default\", \"Default\", \"Default\", \"Default\", \"Default\", \"Default\", \"Default\", \"Default\", \"Default\", \"Default\", \"Default\", \"Default\", \"Default\", \"Default\", \"Default\", \"Default\", \"Default\", \"Topic1\", \"Topic1\", \"Topic1\", \"Topic1\", \"Topic1\", \"Topic1\", \"Topic1\", \"Topic1\", \"Topic1\", \"Topic1\", \"Topic1\", \"Topic1\", \"Topic1\", \"Topic1\", \"Topic1\", \"Topic1\", \"Topic1\", \"Topic1\", \"Topic1\", \"Topic1\", \"Topic1\", \"Topic1\", \"Topic1\", \"Topic1\", \"Topic1\", \"Topic1\", \"Topic1\", \"Topic1\", \"Topic1\", \"Topic1\", \"Topic1\", \"Topic1\", \"Topic1\", \"Topic1\", \"Topic1\", \"Topic1\", \"Topic1\", \"Topic1\", \"Topic1\", \"Topic1\", \"Topic1\", \"Topic1\", \"Topic1\", \"Topic1\", \"Topic1\", \"Topic1\", \"Topic1\", \"Topic1\", \"Topic1\", \"Topic1\", \"Topic1\", \"Topic1\", \"Topic1\", \"Topic1\", \"Topic1\", \"Topic1\", \"Topic1\", \"Topic1\", \"Topic1\", \"Topic1\", \"Topic1\", \"Topic1\", \"Topic2\", \"Topic2\", \"Topic2\", \"Topic2\", \"Topic2\", \"Topic2\", \"Topic2\", \"Topic2\", \"Topic2\", \"Topic2\", \"Topic2\", \"Topic2\", \"Topic2\", \"Topic2\", \"Topic2\", \"Topic2\", \"Topic2\", \"Topic2\", \"Topic2\", \"Topic2\", \"Topic2\", \"Topic2\", \"Topic2\", \"Topic2\", \"Topic2\", \"Topic2\", \"Topic2\", \"Topic2\", \"Topic2\", \"Topic2\", \"Topic2\", \"Topic2\", \"Topic2\", \"Topic2\", \"Topic2\", \"Topic2\", \"Topic2\", \"Topic2\", \"Topic2\", \"Topic2\", \"Topic2\", \"Topic2\", \"Topic2\", \"Topic2\", \"Topic2\", \"Topic2\", \"Topic2\", \"Topic2\", \"Topic2\", \"Topic2\", \"Topic2\", \"Topic2\", \"Topic2\", \"Topic2\", \"Topic2\", \"Topic2\", \"Topic2\", \"Topic2\", \"Topic2\", \"Topic2\", \"Topic2\", \"Topic2\", \"Topic2\", \"Topic2\", \"Topic2\", \"Topic3\", \"Topic3\", \"Topic3\", \"Topic3\", \"Topic3\", \"Topic3\", \"Topic3\", \"Topic3\", \"Topic3\", \"Topic3\", \"Topic3\", \"Topic3\", \"Topic3\", \"Topic3\", \"Topic3\", \"Topic3\", \"Topic3\", \"Topic3\", \"Topic3\", \"Topic3\", \"Topic3\", \"Topic3\", \"Topic3\", \"Topic3\", \"Topic3\", \"Topic3\", \"Topic3\", \"Topic3\", \"Topic3\", \"Topic3\", \"Topic3\", \"Topic3\", \"Topic3\", \"Topic3\", \"Topic3\", \"Topic3\", \"Topic3\", \"Topic3\", \"Topic3\", \"Topic3\", \"Topic3\", \"Topic3\", \"Topic3\", \"Topic3\", \"Topic3\", \"Topic3\", \"Topic3\", \"Topic3\", \"Topic3\", \"Topic3\", \"Topic3\", \"Topic3\", \"Topic3\", \"Topic3\", \"Topic3\", \"Topic3\", \"Topic3\", \"Topic3\", \"Topic3\", \"Topic3\", \"Topic3\", \"Topic3\", \"Topic3\", \"Topic3\", \"Topic3\", \"Topic3\", \"Topic3\", \"Topic3\", \"Topic3\"], \"logprob\": [30.0, 29.0, 28.0, 27.0, 26.0, 25.0, 24.0, 23.0, 22.0, 21.0, 20.0, 19.0, 18.0, 17.0, 16.0, 15.0, 14.0, 13.0, 12.0, 11.0, 10.0, 9.0, 8.0, 7.0, 6.0, 5.0, 4.0, 3.0, 2.0, 1.0, -5.9484, -6.606, -6.0279, -6.6615, -6.0855, -6.1607, -6.1963, -6.1967, -6.1653, -4.8497, -6.767, -6.2342, -6.7802, -6.785, -5.6486, -6.2794, -6.8315, -6.8469, -5.9278, -6.8214, -6.8656, -6.8251, -5.965, -6.3182, -5.9568, -6.8797, -6.8802, -6.8639, -6.3139, -5.4959, -4.6811, -3.7692, -5.2032, -5.5377, -5.012, -5.1262, -5.3892, -3.214, -3.6761, -4.639, -5.4337, -5.3068, -5.5901, -5.1977, -4.8693, -5.2678, -4.6594, -4.9614, -5.0022, -4.736, -4.7865, -5.3043, -5.5144, -5.1321, -4.8955, -5.1908, -4.7942, -4.9275, -5.4889, -5.2655, -5.4202, -5.4719, -6.5096, -6.5199, -6.5215, -6.5237, -6.1922, -5.5712, -5.5962, -5.1143, -5.2804, -6.2804, -5.9202, -5.9662, -6.3135, -6.3238, -5.9885, -5.9859, -5.9786, -6.3413, -5.9912, -6.9269, -6.0007, -6.9231, -6.9285, -6.9317, -6.9335, -6.9403, -6.3777, -6.3842, -6.9496, -6.9524, -6.0387, -6.0429, -4.4028, -5.052, -4.8173, -5.8214, -5.4816, -5.8063, -3.2685, -4.5925, -5.3143, -5.0438, -4.9368, -4.7226, -3.8216, -4.581, -4.4379, -4.601, -5.1123, -4.7482, -5.3254, -5.3108, -4.8717, -5.4301, -4.4562, -5.5206, -5.3589, -5.1177, -5.3677, -5.1576, -5.2329, -5.3452, -5.4157, -5.449, -5.4331, -6.2747, -6.2749, -6.2776, -6.2853, -6.2898, -6.2978, -6.2986, -6.3502, -6.3539, -6.3516, -5.4274, -6.3727, -6.3767, -6.3948, -6.396, -6.3981, -5.5016, -6.0102, -6.5598, -6.5629, -6.0445, -6.6034, -6.06, -5.3727, -6.6212, -6.6237, -6.6256, -6.6366, -6.6468, -6.6426, -5.1035, -5.4279, -5.7641, -4.7165, -4.7116, -6.1166, -5.5183, -5.5416, -4.8144, -5.0175, -4.2108, -5.1992, -4.893, -4.6253, -4.9425, -5.1829, -5.355, -5.2753, -3.9664, -4.867, -5.4424, -4.6827, -3.8467, -4.3105, -5.4679, -4.7015, -5.4356, -5.2022, -4.9282, -5.2504, -4.7675, -4.7873, -4.9912, -5.0216, -4.9337, -5.1726, -5.1228, -5.281, -5.3307], \"loglift\": [30.0, 29.0, 28.0, 27.0, 26.0, 25.0, 24.0, 23.0, 22.0, 21.0, 20.0, 19.0, 18.0, 17.0, 16.0, 15.0, 14.0, 13.0, 12.0, 11.0, 10.0, 9.0, 8.0, 7.0, 6.0, 5.0, 4.0, 3.0, 2.0, 1.0, 0.6662, 0.5874, 0.5851, 0.5455, 0.537, 0.4764, 0.4683, 0.4681, 0.4541, 0.4278, 0.4234, 0.4161, 0.4108, 0.4068, 0.3985, 0.3979, 0.3922, 0.3901, 0.3846, 0.3748, 0.3739, 0.3712, 0.3681, 0.3666, 0.3627, 0.3626, 0.362, 0.3607, 0.3588, 0.3565, 0.3444, 0.311, 0.3365, 0.3182, 0.2963, 0.2927, 0.3027, 0.1613, 0.1188, 0.1875, 0.272, 0.2502, 0.2851, 0.2224, 0.1568, 0.1782, 0.0112, 0.0828, 0.0497, -0.0584, -0.0418, 0.1456, 0.2075, 0.0305, -0.091, 0.0383, -0.3022, -0.2224, 0.1081, -0.3854, -0.0493, -0.2319, 0.9208, 0.9069, 0.9051, 0.9024, 0.6487, 0.6116, 0.576, 0.5246, 0.5169, 0.5035, 0.5022, 0.4732, 0.4604, 0.4549, 0.4472, 0.4401, 0.4326, 0.4241, 0.4187, 0.4081, 0.4074, 0.4046, 0.4036, 0.4009, 0.3938, 0.3877, 0.3859, 0.3796, 0.3743, 0.3718, 0.3642, 0.3575, 0.3023, 0.3189, 0.3017, 0.3385, 0.3155, 0.3261, 0.1068, 0.212, 0.2827, 0.2508, 0.2258, 0.1575, -0.0267, 0.0966, 0.054, 0.0696, 0.1741, -0.0036, 0.1683, 0.1616, -0.0452, 0.1723, -0.376, 0.2191, 0.0909, -0.0922, 0.0783, -0.1057, -0.1887, -0.1161, -0.1074, 0.0148, -0.407, 1.0058, 1.0052, 1.002, 0.9932, 0.988, 0.979, 0.9783, 0.9399, 0.9367, 0.9361, 0.9264, 0.9163, 0.9134, 0.8961, 0.894, 0.8939, 0.8233, 0.7712, 0.7657, 0.7642, 0.7489, 0.7354, 0.7308, 0.7239, 0.7186, 0.7161, 0.706, 0.7046, 0.696, 0.694, 0.6864, 0.675, 0.6778, 0.619, 0.6176, 0.6799, 0.6117, 0.6134, 0.4256, 0.4599, 0.2812, 0.496, 0.3933, 0.2548, 0.3521, 0.4399, 0.5048, 0.4578, -0.1715, 0.2521, 0.4877, 0.062, -0.4714, -0.2303, 0.4835, -0.0238, 0.4573, 0.2916, 0.0979, 0.3194, -0.097, -0.0822, 0.0529, 0.0303, -0.1291, 0.0565, -0.2964, 0.171, 0.1331]}, \"token.table\": {\"Topic\": [1, 3, 1, 2, 3, 1, 3, 1, 3, 1, 2, 3, 1, 2, 3, 1, 2, 3, 1, 2, 3, 1, 3, 1, 2, 3, 1, 3, 1, 2, 3, 2, 3, 1, 2, 3, 1, 2, 3, 1, 2, 3, 1, 2, 3, 1, 2, 3, 1, 2, 3, 1, 2, 3, 1, 2, 3, 1, 3, 1, 2, 3, 1, 2, 3, 1, 2, 3, 1, 2, 3, 1, 2, 3, 1, 2, 3, 1, 2, 3, 1, 2, 3, 1, 2, 3, 1, 2, 3, 1, 2, 3, 1, 2, 3, 1, 2, 3, 1, 2, 3, 1, 3, 2, 3, 1, 2, 1, 2, 3, 1, 2, 3, 1, 2, 3, 1, 2, 3, 2, 3, 1, 2, 3, 1, 2, 3, 1, 2, 3, 1, 2, 3, 1, 2, 3, 1, 3, 1, 2, 3, 1, 2, 3, 1, 2, 3, 1, 2, 3, 1, 2, 3, 1, 2, 3, 1, 2, 3, 1, 2, 3, 1, 2, 3, 1, 3, 1, 2, 3, 1, 3, 1, 2, 3, 2, 3, 1, 2, 3, 1, 2, 3, 1, 3, 1, 3, 2, 3, 2, 3, 1, 2, 3, 1, 2, 3, 1, 2, 3, 1, 2, 3, 1, 2, 3, 1, 3, 1, 2, 3, 1, 2, 3, 1, 3, 1, 2, 3, 2, 1, 2, 3, 2, 3, 1, 3, 1, 2, 3, 1, 2, 3, 1, 2, 3, 1, 2, 3, 1, 2, 3, 1, 2, 3, 1, 3, 1, 2, 3, 1, 2, 3, 1, 2, 3, 1, 2, 3, 1, 2, 3, 2, 1, 2, 3, 1, 2, 3, 1, 2, 3, 1, 2, 3, 2, 3, 2, 3, 2, 3, 1, 2, 3, 1, 3, 1, 2, 3, 1, 2, 3, 1, 2, 3, 1, 2, 3, 1, 2, 3, 2, 3, 1, 2, 3, 1, 2, 3, 1, 2, 3, 1, 2, 3, 1, 2, 1, 2, 3, 1, 2, 3, 1, 3, 1, 2, 3, 1, 2, 3, 1, 2, 3, 1, 2, 3, 1, 2, 3, 1, 2, 3, 1, 3, 1, 2, 3, 1, 2, 3, 1, 2, 3, 1, 2, 3, 1, 2, 3, 1, 2, 3, 1, 2, 3, 1, 2, 1, 2, 3, 1, 2, 3, 1, 2, 3, 2, 1, 2, 3, 1, 3, 1, 2, 3, 1, 2, 3, 1, 2, 3, 1, 2, 3, 1, 2, 3, 1, 2, 3, 1, 3, 1, 2, 3, 1, 3, 1, 2, 3, 1, 2, 3, 1, 2, 3, 2], \"Freq\": [0.7248558560552909, 0.28994234242211636, 0.37081173413332247, 0.5562176011999838, 0.09270293353333062, 0.2835085537462372, 0.8505256612387114, 0.5139300006413139, 0.25696500032065694, 0.5232260601083292, 0.29068114450462734, 0.1744086867027764, 0.21404580693293523, 0.3210687103994029, 0.42809161386587047, 0.6444799703971958, 0.2148266567990653, 0.2148266567990653, 0.5510361855620506, 0.2755180927810253, 0.13775904639051265, 0.2800419866696119, 0.8401259600088357, 0.6543647673333832, 0.1635911918333458, 0.1635911918333458, 0.2806796106084211, 0.8420388318252634, 0.3571494481784656, 0.47619926423795417, 0.11904981605948854, 0.2941876978251306, 0.5883753956502612, 0.2965130408254932, 0.5930260816509864, 0.2965130408254932, 0.274688717484705, 0.45781452914117504, 0.274688717484705, 0.6068288459412584, 0.1517072114853146, 0.1517072114853146, 0.6067092092918975, 0.15167730232297438, 0.15167730232297438, 0.2666127015744259, 0.2666127015744259, 0.5332254031488518, 0.5889199780610921, 0.26501399012749144, 0.14722999451527302, 0.3400258654791405, 0.5100387982187108, 0.17001293273957024, 0.33489681884442657, 0.5023452282666399, 0.16744840942221328, 0.28363472611908835, 0.850904178357265, 0.6144390578724399, 0.30721952893621995, 0.15360976446810998, 0.2776376714502423, 0.2776376714502423, 0.46272945241707053, 0.2223099512021903, 0.11115497560109515, 0.6669298536065709, 0.5721110611909435, 0.20595998202873966, 0.2288444244763774, 0.12648465239043113, 0.31621163097607785, 0.5691809357569402, 0.18222091337066249, 0.2733313700559937, 0.5466627401119875, 0.21828705829348566, 0.2910494110579809, 0.4365741165869713, 0.39511336092814686, 0.33272704078159737, 0.2703407206350479, 0.43910033962191014, 0.37154644121853936, 0.20266169521011237, 0.5317802376955336, 0.3545201584636891, 0.11817338615456303, 0.41298977008974824, 0.33039181607179857, 0.24779386205384893, 0.3520886199119291, 0.4694514932159054, 0.11736287330397635, 0.6441475758002863, 0.1894551693530254, 0.15156413548242031, 0.36517108312162394, 0.31952469773142095, 0.31952469773142095, 0.5161650201884775, 0.25808251009423877, 0.2988500861302194, 0.5977001722604388, 0.8656985289598016, 0.14428308815996693, 0.46583755711694924, 0.46583755711694924, 0.11645938927923731, 0.318581404885136, 0.5097302478162176, 0.19114884293108161, 0.2933228250207422, 0.2933228250207422, 0.2933228250207422, 0.3584359613226063, 0.4779146150968084, 0.2389573075484042, 0.2979619786564222, 0.5959239573128444, 0.720288840272338, 0.1440577680544676, 0.1440577680544676, 0.3777748047354091, 0.3777748047354091, 0.25972017825559374, 0.5068118946721829, 0.2896067969555331, 0.2172050977166498, 0.5009195130650173, 0.2062609759679483, 0.3241243908067759, 0.2578461380779918, 0.17189742538532785, 0.6016409888486475, 0.5132023281242077, 0.25660116406210387, 0.334997128709087, 0.5024956930636305, 0.1674985643545435, 0.22934459818376343, 0.34401689727564516, 0.42046509667023296, 0.5390548315341713, 0.26952741576708567, 0.26952741576708567, 0.350267486787282, 0.467023315716376, 0.116755828929094, 0.1219518272299398, 0.3658554816898194, 0.4878073089197592, 0.33840464526978464, 0.507606967904677, 0.16920232263489232, 0.22297401192676689, 0.37162335321127815, 0.44594802385353377, 0.5305571738154548, 0.2652785869077274, 0.2652785869077274, 0.639848874374421, 0.213282958124807, 0.213282958124807, 0.28321166456592206, 0.8496349936977662, 0.40693815244350084, 0.1356460508145003, 0.474761177850751, 0.28056246870592044, 0.8416874061177613, 0.29583080080469215, 0.5916616016093843, 0.29583080080469215, 0.29550574622545583, 0.5910114924509117, 0.5404989188607848, 0.2026870945727943, 0.2026870945727943, 0.29325278000142174, 0.29325278000142174, 0.29325278000142174, 0.5134906370636765, 0.25674531853183824, 0.2807792204676031, 0.8423376614028093, 0.29836102700997785, 0.5967220540199557, 0.29698843179456924, 0.5939768635891385, 0.5734349260623821, 0.22937397042495283, 0.1720304778187146, 0.19110208865791886, 0.3822041773158377, 0.445904873535144, 0.24216631801317465, 0.4843326360263493, 0.24216631801317465, 0.45004907816130807, 0.2400261750193643, 0.3000327187742054, 0.36702541523653864, 0.36702541523653864, 0.2621610108832419, 0.28373779309726244, 0.5674755861945249, 0.6190526796662258, 0.3095263398331129, 0.15476316991655645, 0.4059951450664519, 0.27066343004430127, 0.31577400171835146, 0.3239969724952582, 0.6479939449905164, 0.4932580619821842, 0.3138914939886627, 0.17936656799352152, 0.6500980019974643, 0.28104702199289916, 0.16059829828165667, 0.5219444694153842, 0.2976325877630008, 0.5952651755260016, 0.28349706376075495, 0.5669941275215099, 0.49514773523996664, 0.31509401333452425, 0.18005372190544242, 0.5404977281101768, 0.2702488640550884, 0.2702488640550884, 0.6116487222123984, 0.1529121805530996, 0.1529121805530996, 0.7378055236578297, 0.14756110473156595, 0.14756110473156595, 0.23939738351279424, 0.23939738351279424, 0.5186943309443875, 0.40600772479557484, 0.20300386239778742, 0.40600772479557484, 0.5162482695645716, 0.2581241347822858, 0.35269383105206514, 0.4702584414027535, 0.11756461035068838, 0.2810537918983998, 0.5621075837967996, 0.09368459729946661, 0.44540602779525806, 0.44540602779525806, 0.17816241111810324, 0.5376824752148841, 0.26884123760744205, 0.26884123760744205, 0.17305928817632335, 0.3461185763526467, 0.5191778645289701, 0.6498982398310741, 0.17047572950161977, 0.34095145900323953, 0.6819029180064791, 0.28219895337817097, 0.3762652711708946, 0.3762652711708946, 0.40272827239924447, 0.11506522068549842, 0.46026088274199367, 0.3108972212054469, 0.3108972212054469, 0.3799854925844351, 0.34414473594660866, 0.5162171039199129, 0.2937291229368561, 0.5874582458737122, 0.29794291097189185, 0.5958858219437837, 0.590941126099062, 0.2462254692079425, 0.1477352815247655, 0.2834839797603448, 0.5669679595206896, 0.6059207130554101, 0.20197357101847002, 0.20197357101847002, 0.25948074342605415, 0.1729871622840361, 0.5189614868521083, 0.12139390793832255, 0.36418172381496766, 0.6069695396916128, 0.5980644485581584, 0.1495161121395396, 0.1495161121395396, 0.4731219799785505, 0.29247540580492215, 0.24086209889817117, 0.3450209779020077, 0.5175314668530115, 0.4233042542963934, 0.2721241634762529, 0.302360181640281, 0.19270744734027817, 0.38541489468055634, 0.38541489468055634, 0.49191937472239805, 0.33360049550139637, 0.1752816162803947, 0.540518172046427, 0.2702590860232135, 0.2702590860232135, 0.7826605319642801, 0.26088684398809336, 0.4331671374078422, 0.2526808301545746, 0.28877809160522816, 0.7270937725336636, 0.14541875450673272, 0.14541875450673272, 0.2828209630323034, 0.8484628890969103, 0.38064351130935564, 0.48939880025488586, 0.10875528894553019, 0.5469886968758148, 0.2734943484379074, 0.15628248482166135, 0.41596970489295615, 0.41596970489295615, 0.20798485244647807, 0.3418041145437903, 0.5127061718156855, 0.17090205727189514, 0.3284423558397578, 0.2189615705598385, 0.437923141119677, 0.5310594699224512, 0.2655297349612256, 0.2655297349612256, 0.2840478363412783, 0.5680956726825566, 0.3531516834638021, 0.47086891128506947, 0.11771722782126737, 0.3505272709132613, 0.2103163625479568, 0.4206327250959136, 0.18090192287216286, 0.5427057686164887, 0.3618038457443257, 0.29436165258865943, 0.5887233051773189, 0.29436165258865943, 0.4002692135597965, 0.28908332090429745, 0.31132049943539725, 0.2800871297045973, 0.356474528714942, 0.356474528714942, 0.567382783672374, 0.26186897707955725, 0.1745793180530382, 0.7721318066537202, 0.2573772688845734, 0.65325305426696, 0.32662652713348, 0.10887550904449335, 0.2942674278265049, 0.5885348556530098, 0.2942674278265049, 0.2412902088470729, 0.4825804176941458, 0.2412902088470729, 0.6523634558046746, 0.524352854030946, 0.21848035584622752, 0.262176427015473, 0.28025200899896263, 0.8407560269968879, 0.22634318569199927, 0.4203516305708558, 0.3556821489445703, 0.3419981370694118, 0.4061227877699265, 0.25649860280205883, 0.4811975246183595, 0.36089814346376964, 0.18044907173188482, 0.33552368028488333, 0.503285520427325, 0.16776184014244166, 0.4693286627386412, 0.4171810335454589, 0.15644288757954708, 0.5511567278927055, 0.3006309424869303, 0.20042062832462018, 0.2797508773101956, 0.8392526319305867, 0.2987855189322791, 0.2390284151458233, 0.4780568302916466, 0.27979237049283917, 0.8393771114785175, 0.2944675185936056, 0.2944675185936056, 0.2944675185936056, 0.36831572336151547, 0.36831572336151547, 0.27623679252113664, 0.2956903371992816, 0.5913806743985632, 0.2956903371992816, 0.6496247569584217], \"Term\": [\"000\", \"000\", \"10\", \"10\", \"10\", \"11000\", \"11000\", \"120\", \"120\", \"15\", \"15\", \"15\", \"2021\", \"2021\", \"2021\", \"3\", \"3\", \"3\", \"4\", \"4\", \"4\", \"432\", \"432\", \"5\", \"5\", \"5\", \"600\", \"600\", \"8\", \"8\", \"8\", \"ab\", \"ab\", \"act\", \"act\", \"act\", \"additional\", \"additional\", \"additional\", \"advertisement\", \"advertisement\", \"advertisement\", \"advertising\", \"advertising\", \"advertising\", \"answer\", \"answer\", \"answer\", \"appointment\", \"appointment\", \"appointment\", \"april\", \"april\", \"april\", \"area\", \"area\", \"area\", \"arrive\", \"arrive\", \"assistance\", \"assistance\", \"assistance\", \"authorize\", \"authorize\", \"authorize\", \"available\", \"available\", \"available\", \"battery\", \"battery\", \"battery\", \"brake\", \"brake\", \"brake\", \"branch\", \"branch\", \"branch\", \"break\", \"break\", \"break\", \"buy\", \"buy\", \"buy\", \"call\", \"call\", \"call\", \"cant\", \"cant\", \"cant\", \"car\", \"car\", \"car\", \"ceramic\", \"ceramic\", \"ceramic\", \"charge\", \"charge\", \"charge\", \"check\", \"check\", \"check\", \"chr\", \"chr\", \"chronic\", \"chronic\", \"citizen\", \"citizen\", \"coating\", \"coating\", \"coating\", \"color\", \"color\", \"color\", \"comment\", \"comment\", \"comment\", \"completely\", \"completely\", \"completely\", \"correct\", \"correct\", \"cross\", \"cross\", \"cross\", \"customer\", \"customer\", \"customer\", \"day\", \"day\", \"day\", \"dealer\", \"dealer\", \"dealer\", \"dealership\", \"dealership\", \"dealership\", \"decide\", \"decide\", \"delivery\", \"delivery\", \"delivery\", \"do\", \"do\", \"do\", \"doesnt\", \"doesnt\", \"doesnt\", \"door\", \"door\", \"door\", \"dream\", \"dream\", \"dream\", \"drop\", \"drop\", \"drop\", \"error\", \"error\", \"error\", \"exclude\", \"exclude\", \"exclude\", \"experience\", \"experience\", \"experience\", \"extremely\", \"extremely\", \"find\", \"find\", \"find\", \"finding\", \"finding\", \"flame\", \"flame\", \"flame\", \"gap\", \"gap\", \"gasoline\", \"gasoline\", \"gasoline\", \"glove\", \"glove\", \"glove\", \"happy\", \"happy\", \"hard\", \"hard\", \"haven\", \"haven\", \"human\", \"human\", \"install\", \"install\", \"install\", \"issue\", \"issue\", \"issue\", \"ive\", \"ive\", \"ive\", \"km\", \"km\", \"km\", \"know\", \"know\", \"know\", \"lead\", \"lead\", \"legal\", \"legal\", \"legal\", \"like\", \"like\", \"like\", \"list\", \"list\", \"liter\", \"liter\", \"liter\", \"logic\", \"look\", \"look\", \"look\", \"lose\", \"lose\", \"loud\", \"loud\", \"maintenance\", \"maintenance\", \"maintenance\", \"make\", \"make\", \"make\", \"manager\", \"manager\", \"manager\", \"medium\", \"medium\", \"medium\", \"model\", \"model\", \"model\", \"month\", \"month\", \"month\", \"own\", \"own\", \"package\", \"package\", \"package\", \"paint\", \"paint\", \"paint\", \"park\", \"park\", \"park\", \"playe\", \"playe\", \"playe\", \"poor\", \"poor\", \"poor\", \"prepay\", \"press\", \"press\", \"press\", \"pressure\", \"pressure\", \"pressure\", \"price\", \"price\", \"price\", \"problem\", \"problem\", \"problem\", \"quality\", \"quality\", \"questionable\", \"questionable\", \"religion\", \"religion\", \"replacement\", \"replacement\", \"replacement\", \"repulsive\", \"repulsive\", \"road\", \"road\", \"road\", \"s\", \"s\", \"s\", \"safety\", \"safety\", \"safety\", \"sales\", \"sales\", \"sales\", \"say\", \"say\", \"say\", \"scratch\", \"scratch\", \"sell\", \"sell\", \"sell\", \"sensor\", \"sensor\", \"sensor\", \"service\", \"service\", \"service\", \"shop\", \"shop\", \"shop\", \"simple\", \"simple\", \"situation\", \"situation\", \"situation\", \"social\", \"social\", \"social\", \"spare\", \"spare\", \"stain\", \"stain\", \"stain\", \"start\", \"start\", \"start\", \"state\", \"state\", \"state\", \"station\", \"station\", \"station\", \"steer\", \"steer\", \"steer\", \"substitute\", \"substitute\", \"substitute\", \"suffer\", \"suffer\", \"surface\", \"surface\", \"surface\", \"system\", \"system\", \"system\", \"taking\", \"taking\", \"taking\", \"thin\", \"thin\", \"thin\", \"time\", \"time\", \"time\", \"tire\", \"tire\", \"tire\", \"tl\", \"tl\", \"tl\", \"tool\", \"tool\", \"tow\", \"tow\", \"tow\", \"tozlu\", \"tozlu\", \"tozlu\", \"understand\", \"understand\", \"understand\", \"upholstery\", \"user\", \"user\", \"user\", \"vision\", \"vision\", \"want\", \"want\", \"want\", \"warranty\", \"warranty\", \"warranty\", \"wash\", \"wash\", \"wash\", \"water\", \"water\", \"water\", \"way\", \"way\", \"way\", \"wend\", \"wend\", \"wend\", \"whats\", \"whats\", \"wheel\", \"wheel\", \"wheel\", \"word\", \"word\", \"write\", \"write\", \"write\", \"year\", \"year\", \"year\", \"yes\", \"yes\", \"yes\", \"youre\"]}, \"R\": 30, \"lambda.step\": 0.01, \"plot.opts\": {\"xlab\": \"PC1\", \"ylab\": \"PC2\"}, \"topic.order\": [3, 1, 2]};\n",
       "\n",
       "function LDAvis_load_lib(url, callback){\n",
       "  var s = document.createElement('script');\n",
       "  s.src = url;\n",
       "  s.async = true;\n",
       "  s.onreadystatechange = s.onload = callback;\n",
       "  s.onerror = function(){console.warn(\"failed to load library \" + url);};\n",
       "  document.getElementsByTagName(\"head\")[0].appendChild(s);\n",
       "}\n",
       "\n",
       "if(typeof(LDAvis) !== \"undefined\"){\n",
       "   // already loaded: just create the visualization\n",
       "   !function(LDAvis){\n",
       "       new LDAvis(\"#\" + \"ldavis_el1197753031066882932982723\", ldavis_el1197753031066882932982723_data);\n",
       "   }(LDAvis);\n",
       "}else if(typeof define === \"function\" && define.amd){\n",
       "   // require.js is available: use it to load d3/LDAvis\n",
       "   require.config({paths: {d3: \"https://d3js.org/d3.v5\"}});\n",
       "   require([\"d3\"], function(d3){\n",
       "      window.d3 = d3;\n",
       "      LDAvis_load_lib(\"https://cdn.jsdelivr.net/gh/bmabey/pyLDAvis@3.3.1/pyLDAvis/js/ldavis.v3.0.0.js\", function(){\n",
       "        new LDAvis(\"#\" + \"ldavis_el1197753031066882932982723\", ldavis_el1197753031066882932982723_data);\n",
       "      });\n",
       "    });\n",
       "}else{\n",
       "    // require.js not available: dynamically load d3 & LDAvis\n",
       "    LDAvis_load_lib(\"https://d3js.org/d3.v5.js\", function(){\n",
       "         LDAvis_load_lib(\"https://cdn.jsdelivr.net/gh/bmabey/pyLDAvis@3.3.1/pyLDAvis/js/ldavis.v3.0.0.js\", function(){\n",
       "                 new LDAvis(\"#\" + \"ldavis_el1197753031066882932982723\", ldavis_el1197753031066882932982723_data);\n",
       "            })\n",
       "         });\n",
       "}\n",
       "</script>"
      ],
      "text/plain": [
       "PreparedData(topic_coordinates=              x         y  topics  cluster       Freq\n",
       "topic                                                \n",
       "2     -0.026617 -0.007433       1        1  41.703774\n",
       "0     -0.004545  0.012027       2        1  29.909173\n",
       "1      0.031163 -0.004594       3        1  28.387053, topic_info=          Term       Freq      Total Category  logprob  loglift\n",
       "190      model  25.000000  25.000000  Default  30.0000  30.0000\n",
       "331      brake  15.000000  15.000000  Default  29.0000  29.0000\n",
       "41        look  24.000000  24.000000  Default  28.0000  28.0000\n",
       "320  available   8.000000   8.000000  Default  27.0000  27.0000\n",
       "192    problem  57.000000  57.000000  Default  26.0000  26.0000\n",
       "..         ...        ...        ...      ...      ...      ...\n",
       "223   customer  10.566609  42.353274   Topic3  -4.9337  -0.1291\n",
       "198  situation   8.321209  27.702933   Topic3  -5.1726   0.0565\n",
       "224        day   8.745577  41.435492   Topic3  -5.1228  -0.2964\n",
       "40        like   7.465964  22.167753   Topic3  -5.2810   0.1710\n",
       "293      check   7.104032  21.907540   Topic3  -5.3307   0.1331\n",
       "\n",
       "[226 rows x 6 columns], token_table=      Topic      Freq   Term\n",
       "term                        \n",
       "72        1  0.724856    000\n",
       "72        3  0.289942    000\n",
       "201       1  0.370812     10\n",
       "201       2  0.556218     10\n",
       "201       3  0.092703     10\n",
       "...     ...       ...    ...\n",
       "71        3  0.276237   year\n",
       "471       1  0.295690    yes\n",
       "471       2  0.591381    yes\n",
       "471       3  0.295690    yes\n",
       "646       2  0.649625  youre\n",
       "\n",
       "[418 rows x 3 columns], R=30, lambda_step=0.01, plot_opts={'xlab': 'PC1', 'ylab': 'PC2'}, topic_order=[3, 1, 2])"
      ]
     },
     "execution_count": 35,
     "metadata": {},
     "output_type": "execute_result"
    }
   ],
   "source": [
    "# Visualize the topics\n",
    "pyLDAvis.enable_notebook()\n",
    "LDAvis_data_filepath = os.path.join('files/ldavis_prepared_sikayet'+str(num_topics))\n",
    "# # this is a bit time consuming - make the if statement True\n",
    "# # if you want to execute visualization prep yourself\n",
    "if 1 == 1:\n",
    "    LDAvis_prepared_sikayet = gensim_models.prepare(lda_model_sikayet, corpus_sikayet, id2word_sikayet)\n",
    "    with open(LDAvis_data_filepath, 'wb') as f:\n",
    "        pickle.dump(LDAvis_prepared_sikayet, f)\n",
    "# load the pre-prepared pyLDAvis data from disk\n",
    "with open(LDAvis_data_filepath, 'rb') as f:\n",
    "    LDAvis_prepared_sikayet = pickle.load(f)\n",
    "pyLDAvis.save_html(LDAvis_prepared_sikayet, 'ldavis_prepared_'+ str(num_topics) +'.html')\n",
    "LDAvis_prepared_sikayet"
   ]
  },
  {
   "cell_type": "markdown",
   "metadata": {},
   "source": [
    "### Compute Perplexity and Coherence Score"
   ]
  },
  {
   "cell_type": "code",
   "execution_count": 39,
   "metadata": {},
   "outputs": [
    {
     "name": "stdout",
     "output_type": "stream",
     "text": [
      "Perplexity:  -6.282\n",
      "Coherence Score:  0.254\n"
     ]
    }
   ],
   "source": [
    "## Perplexity\n",
    "print('Perplexity: ', lda_model_sikayet.log_perplexity(corpus_sikayet).round(3))  \n",
    "\n",
    "\n",
    "## Coherence Score\n",
    "coherence_model_lda = CoherenceModel(model=lda_model_sikayet, texts=data_words_sikayet, dictionary=id2word_sikayet, coherence='c_v')\n",
    "coherence_lda = coherence_model_lda.get_coherence()\n",
    "print('Coherence Score: ', coherence_lda.round(3))"
   ]
  },
  {
   "cell_type": "markdown",
   "metadata": {},
   "source": [
    "* Lower the perplexity better the model\n",
    "* Higher the topic coherence, the topic is more interpretable."
   ]
  },
  {
   "cell_type": "code",
   "execution_count": 75,
   "metadata": {
    "id": "wYrwGjPIsVoA"
   },
   "outputs": [],
   "source": [
    "eksi_toyota['lda_topic']=eksi_toyota['comments_cleaned'].apply(lambda x:find_lda_topic(x) )\n",
    "sikayet['lda_topic']=sikayet['comment_cleaned'].apply(lambda x:find_lda_topic(x) )"
   ]
  },
  {
   "cell_type": "code",
   "execution_count": 77,
   "metadata": {
    "colab": {
     "base_uri": "https://localhost:8080/"
    },
    "id": "kpJIvzR8mI2q",
    "outputId": "146b6195-d20c-48a9-c7f5-98d092d2646a"
   },
   "outputs": [
    {
     "data": {
      "text/plain": [
       "0.0    0.559322\n",
       "2.0    0.283898\n",
       "1.0    0.156780\n",
       "Name: lda_topic, dtype: float64"
      ]
     },
     "execution_count": 77,
     "metadata": {},
     "output_type": "execute_result"
    }
   ],
   "source": [
    "eksi_toyota.lda_topic.value_counts(normalize=True)"
   ]
  },
  {
   "cell_type": "code",
   "execution_count": 76,
   "metadata": {
    "colab": {
     "base_uri": "https://localhost:8080/"
    },
    "id": "lIp-xxD5t9mY",
    "outputId": "830380c8-d794-489d-9152-b38fa0046f82",
    "scrolled": true
   },
   "outputs": [
    {
     "data": {
      "text/plain": [
       "0.0    0.50\n",
       "1.0    0.25\n",
       "2.0    0.25\n",
       "Name: lda_topic, dtype: float64"
      ]
     },
     "execution_count": 76,
     "metadata": {},
     "output_type": "execute_result"
    }
   ],
   "source": [
    "sikayet.lda_topic.value_counts(normalize=True)"
   ]
  },
  {
   "cell_type": "markdown",
   "metadata": {},
   "source": [
    "# 5. Deployment"
   ]
  },
  {
   "cell_type": "markdown",
   "metadata": {},
   "source": [
    "You can follow the instructions on README.md file and run \"streamlit run run.py\" to access the application."
   ]
  }
 ],
 "metadata": {
  "colab": {
   "provenance": []
  },
  "kernelspec": {
   "display_name": "Python 3 (ipykernel)",
   "language": "python",
   "name": "python3"
  },
  "language_info": {
   "codemirror_mode": {
    "name": "ipython",
    "version": 3
   },
   "file_extension": ".py",
   "mimetype": "text/x-python",
   "name": "python",
   "nbconvert_exporter": "python",
   "pygments_lexer": "ipython3",
   "version": "3.9.13"
  },
  "widgets": {
   "application/vnd.jupyter.widget-state+json": {
    "00186f2551fb4cdbb44e3f6cc2f21dc6": {
     "model_module": "@jupyter-widgets/base",
     "model_module_version": "1.2.0",
     "model_name": "LayoutModel",
     "state": {
      "_model_module": "@jupyter-widgets/base",
      "_model_module_version": "1.2.0",
      "_model_name": "LayoutModel",
      "_view_count": null,
      "_view_module": "@jupyter-widgets/base",
      "_view_module_version": "1.2.0",
      "_view_name": "LayoutView",
      "align_content": null,
      "align_items": null,
      "align_self": null,
      "border": null,
      "bottom": null,
      "display": null,
      "flex": null,
      "flex_flow": null,
      "grid_area": null,
      "grid_auto_columns": null,
      "grid_auto_flow": null,
      "grid_auto_rows": null,
      "grid_column": null,
      "grid_gap": null,
      "grid_row": null,
      "grid_template_areas": null,
      "grid_template_columns": null,
      "grid_template_rows": null,
      "height": null,
      "justify_content": null,
      "justify_items": null,
      "left": null,
      "margin": null,
      "max_height": null,
      "max_width": null,
      "min_height": null,
      "min_width": null,
      "object_fit": null,
      "object_position": null,
      "order": null,
      "overflow": null,
      "overflow_x": null,
      "overflow_y": null,
      "padding": null,
      "right": null,
      "top": null,
      "visibility": null,
      "width": null
     }
    },
    "07ec3307de274a3caf6aa5f9971132ba": {
     "model_module": "@jupyter-widgets/controls",
     "model_module_version": "1.5.0",
     "model_name": "IntProgressModel",
     "state": {
      "_dom_classes": [],
      "_model_module": "@jupyter-widgets/controls",
      "_model_module_version": "1.5.0",
      "_model_name": "IntProgressModel",
      "_view_count": null,
      "_view_module": "@jupyter-widgets/controls",
      "_view_module_version": "1.5.0",
      "_view_name": "ProgressView",
      "bar_style": "success",
      "description": "100.00%",
      "description_tooltip": null,
      "layout": "IPY_MODEL_d65c53f667304ba394535dea9a0ad390",
      "max": 8,
      "min": 0,
      "orientation": "horizontal",
      "style": "IPY_MODEL_5ab9bc970b5b441caf9a1f84432ac95e",
      "value": 8
     }
    },
    "092006c1b56a44c689804f5ae136dd27": {
     "model_module": "@jupyter-widgets/controls",
     "model_module_version": "1.5.0",
     "model_name": "LabelModel",
     "state": {
      "_dom_classes": [],
      "_model_module": "@jupyter-widgets/controls",
      "_model_module_version": "1.5.0",
      "_model_name": "LabelModel",
      "_view_count": null,
      "_view_module": "@jupyter-widgets/controls",
      "_view_module_version": "1.5.0",
      "_view_name": "LabelView",
      "description": "",
      "description_tooltip": null,
      "layout": "IPY_MODEL_c18ca8dfbd704eb9b9c4e2315be8d5f6",
      "placeholder": "​",
      "style": "IPY_MODEL_d6611c318ee048c3aa9d9ef672faca84",
      "value": "8 / 8"
     }
    },
    "0f14a21e04fb49b6bc967943bb8c1620": {
     "model_module": "@jupyter-widgets/base",
     "model_module_version": "1.2.0",
     "model_name": "LayoutModel",
     "state": {
      "_model_module": "@jupyter-widgets/base",
      "_model_module_version": "1.2.0",
      "_model_name": "LayoutModel",
      "_view_count": null,
      "_view_module": "@jupyter-widgets/base",
      "_view_module_version": "1.2.0",
      "_view_name": "LayoutView",
      "align_content": null,
      "align_items": null,
      "align_self": null,
      "border": null,
      "bottom": null,
      "display": null,
      "flex": null,
      "flex_flow": null,
      "grid_area": null,
      "grid_auto_columns": null,
      "grid_auto_flow": null,
      "grid_auto_rows": null,
      "grid_column": null,
      "grid_gap": null,
      "grid_row": null,
      "grid_template_areas": null,
      "grid_template_columns": null,
      "grid_template_rows": null,
      "height": null,
      "justify_content": null,
      "justify_items": null,
      "left": null,
      "margin": null,
      "max_height": null,
      "max_width": null,
      "min_height": null,
      "min_width": null,
      "object_fit": null,
      "object_position": null,
      "order": null,
      "overflow": null,
      "overflow_x": null,
      "overflow_y": null,
      "padding": null,
      "right": null,
      "top": null,
      "visibility": null,
      "width": null
     }
    },
    "0f24443558104e6a8e525c3b1ab68834": {
     "model_module": "@jupyter-widgets/controls",
     "model_module_version": "1.5.0",
     "model_name": "LabelModel",
     "state": {
      "_dom_classes": [],
      "_model_module": "@jupyter-widgets/controls",
      "_model_module_version": "1.5.0",
      "_model_name": "LabelModel",
      "_view_count": null,
      "_view_module": "@jupyter-widgets/controls",
      "_view_module_version": "1.5.0",
      "_view_name": "LabelView",
      "description": "",
      "description_tooltip": null,
      "layout": "IPY_MODEL_740369aca89746f2b0bc6b78a0a2d298",
      "placeholder": "​",
      "style": "IPY_MODEL_dfe31d78ab8646afb2ee5666f8030336",
      "value": "7 / 7"
     }
    },
    "130bcec9f1314c9b96472cccae9cbad4": {
     "model_module": "@jupyter-widgets/controls",
     "model_module_version": "1.5.0",
     "model_name": "ProgressStyleModel",
     "state": {
      "_model_module": "@jupyter-widgets/controls",
      "_model_module_version": "1.5.0",
      "_model_name": "ProgressStyleModel",
      "_view_count": null,
      "_view_module": "@jupyter-widgets/base",
      "_view_module_version": "1.2.0",
      "_view_name": "StyleView",
      "bar_color": null,
      "description_width": ""
     }
    },
    "13a70b1f072549cd8c6781b2017ba9a5": {
     "model_module": "@jupyter-widgets/controls",
     "model_module_version": "1.5.0",
     "model_name": "DescriptionStyleModel",
     "state": {
      "_model_module": "@jupyter-widgets/controls",
      "_model_module_version": "1.5.0",
      "_model_name": "DescriptionStyleModel",
      "_view_count": null,
      "_view_module": "@jupyter-widgets/base",
      "_view_module_version": "1.2.0",
      "_view_name": "StyleView",
      "description_width": ""
     }
    },
    "1e86ec43aaed4e34b4c8f1c52a3e9b5b": {
     "model_module": "@jupyter-widgets/base",
     "model_module_version": "1.2.0",
     "model_name": "LayoutModel",
     "state": {
      "_model_module": "@jupyter-widgets/base",
      "_model_module_version": "1.2.0",
      "_model_name": "LayoutModel",
      "_view_count": null,
      "_view_module": "@jupyter-widgets/base",
      "_view_module_version": "1.2.0",
      "_view_name": "LayoutView",
      "align_content": null,
      "align_items": null,
      "align_self": null,
      "border": null,
      "bottom": null,
      "display": null,
      "flex": null,
      "flex_flow": null,
      "grid_area": null,
      "grid_auto_columns": null,
      "grid_auto_flow": null,
      "grid_auto_rows": null,
      "grid_column": null,
      "grid_gap": null,
      "grid_row": null,
      "grid_template_areas": null,
      "grid_template_columns": null,
      "grid_template_rows": null,
      "height": null,
      "justify_content": null,
      "justify_items": null,
      "left": null,
      "margin": null,
      "max_height": null,
      "max_width": null,
      "min_height": null,
      "min_width": null,
      "object_fit": null,
      "object_position": null,
      "order": null,
      "overflow": null,
      "overflow_x": null,
      "overflow_y": null,
      "padding": null,
      "right": null,
      "top": null,
      "visibility": null,
      "width": null
     }
    },
    "1f780a172d2c47e8aa8de2fda8fb1448": {
     "model_module": "@jupyter-widgets/base",
     "model_module_version": "1.2.0",
     "model_name": "LayoutModel",
     "state": {
      "_model_module": "@jupyter-widgets/base",
      "_model_module_version": "1.2.0",
      "_model_name": "LayoutModel",
      "_view_count": null,
      "_view_module": "@jupyter-widgets/base",
      "_view_module_version": "1.2.0",
      "_view_name": "LayoutView",
      "align_content": null,
      "align_items": null,
      "align_self": null,
      "border": null,
      "bottom": null,
      "display": null,
      "flex": null,
      "flex_flow": null,
      "grid_area": null,
      "grid_auto_columns": null,
      "grid_auto_flow": null,
      "grid_auto_rows": null,
      "grid_column": null,
      "grid_gap": null,
      "grid_row": null,
      "grid_template_areas": null,
      "grid_template_columns": null,
      "grid_template_rows": null,
      "height": null,
      "justify_content": null,
      "justify_items": null,
      "left": null,
      "margin": null,
      "max_height": null,
      "max_width": null,
      "min_height": null,
      "min_width": null,
      "object_fit": null,
      "object_position": null,
      "order": null,
      "overflow": null,
      "overflow_x": null,
      "overflow_y": null,
      "padding": null,
      "right": null,
      "top": null,
      "visibility": null,
      "width": null
     }
    },
    "1ff3d221db0148778f4290384cd44dd0": {
     "model_module": "@jupyter-widgets/controls",
     "model_module_version": "1.5.0",
     "model_name": "VBoxModel",
     "state": {
      "_dom_classes": [],
      "_model_module": "@jupyter-widgets/controls",
      "_model_module_version": "1.5.0",
      "_model_name": "VBoxModel",
      "_view_count": null,
      "_view_module": "@jupyter-widgets/controls",
      "_view_module_version": "1.5.0",
      "_view_name": "VBoxView",
      "box_style": "",
      "children": [
       "IPY_MODEL_da9c30a7f3784a7b84613d9106751531",
       "IPY_MODEL_a77347c6502a4bcb8a2caedc8f4c21da",
       "IPY_MODEL_766dcb9434c944cbac489c30bb8b7f93",
       "IPY_MODEL_807b2f370a3848f6bc1d615ff8efb361",
       "IPY_MODEL_80cbbc0d611c42deaf1ac6470ddf7fd9",
       "IPY_MODEL_fa8015dc3bd545d496daa8b79846c406",
       "IPY_MODEL_942cabfe92d443899710a98415bdfbc7",
       "IPY_MODEL_8ee4444829c14f2381fca3b80c01a1f3"
      ],
      "layout": "IPY_MODEL_462c7efebaa64c1b8b4b1aa9c48b2194"
     }
    },
    "2024e9e4c1194d85915172ac3f6f06fe": {
     "model_module": "@jupyter-widgets/controls",
     "model_module_version": "1.5.0",
     "model_name": "LabelModel",
     "state": {
      "_dom_classes": [],
      "_model_module": "@jupyter-widgets/controls",
      "_model_module_version": "1.5.0",
      "_model_name": "LabelModel",
      "_view_count": null,
      "_view_module": "@jupyter-widgets/controls",
      "_view_module_version": "1.5.0",
      "_view_name": "LabelView",
      "description": "",
      "description_tooltip": null,
      "layout": "IPY_MODEL_1f780a172d2c47e8aa8de2fda8fb1448",
      "placeholder": "​",
      "style": "IPY_MODEL_3cf3b496a02541c79f8556e4786bbf3c",
      "value": "7 / 7"
     }
    },
    "310eae09440d4205b469d0b32291ea8b": {
     "model_module": "@jupyter-widgets/controls",
     "model_module_version": "1.5.0",
     "model_name": "IntProgressModel",
     "state": {
      "_dom_classes": [],
      "_model_module": "@jupyter-widgets/controls",
      "_model_module_version": "1.5.0",
      "_model_name": "IntProgressModel",
      "_view_count": null,
      "_view_module": "@jupyter-widgets/controls",
      "_view_module_version": "1.5.0",
      "_view_name": "ProgressView",
      "bar_style": "success",
      "description": "100.00%",
      "description_tooltip": null,
      "layout": "IPY_MODEL_d7139f7e60754c00a435f3561c9689e9",
      "max": 8,
      "min": 0,
      "orientation": "horizontal",
      "style": "IPY_MODEL_65f303ac13da418ea6055d339da75eb3",
      "value": 8
     }
    },
    "32997dace398450eac710ce9457d0ef5": {
     "model_module": "@jupyter-widgets/base",
     "model_module_version": "1.2.0",
     "model_name": "LayoutModel",
     "state": {
      "_model_module": "@jupyter-widgets/base",
      "_model_module_version": "1.2.0",
      "_model_name": "LayoutModel",
      "_view_count": null,
      "_view_module": "@jupyter-widgets/base",
      "_view_module_version": "1.2.0",
      "_view_name": "LayoutView",
      "align_content": null,
      "align_items": null,
      "align_self": null,
      "border": null,
      "bottom": null,
      "display": null,
      "flex": null,
      "flex_flow": null,
      "grid_area": null,
      "grid_auto_columns": null,
      "grid_auto_flow": null,
      "grid_auto_rows": null,
      "grid_column": null,
      "grid_gap": null,
      "grid_row": null,
      "grid_template_areas": null,
      "grid_template_columns": null,
      "grid_template_rows": null,
      "height": null,
      "justify_content": null,
      "justify_items": null,
      "left": null,
      "margin": null,
      "max_height": null,
      "max_width": null,
      "min_height": null,
      "min_width": null,
      "object_fit": null,
      "object_position": null,
      "order": null,
      "overflow": null,
      "overflow_x": null,
      "overflow_y": null,
      "padding": null,
      "right": null,
      "top": null,
      "visibility": null,
      "width": null
     }
    },
    "37b0bc36869a460ab547763541000381": {
     "model_module": "@jupyter-widgets/controls",
     "model_module_version": "1.5.0",
     "model_name": "IntProgressModel",
     "state": {
      "_dom_classes": [],
      "_model_module": "@jupyter-widgets/controls",
      "_model_module_version": "1.5.0",
      "_model_name": "IntProgressModel",
      "_view_count": null,
      "_view_module": "@jupyter-widgets/controls",
      "_view_module_version": "1.5.0",
      "_view_name": "ProgressView",
      "bar_style": "success",
      "description": "100.00%",
      "description_tooltip": null,
      "layout": "IPY_MODEL_b268a2d4d8d346aaa9411059011a39fe",
      "max": 7,
      "min": 0,
      "orientation": "horizontal",
      "style": "IPY_MODEL_3cf4e3758d954fe5a52c1d1dba7d1621",
      "value": 7
     }
    },
    "3a31c9406aa24f6789993d876ef2ab18": {
     "model_module": "@jupyter-widgets/controls",
     "model_module_version": "1.5.0",
     "model_name": "DescriptionStyleModel",
     "state": {
      "_model_module": "@jupyter-widgets/controls",
      "_model_module_version": "1.5.0",
      "_model_name": "DescriptionStyleModel",
      "_view_count": null,
      "_view_module": "@jupyter-widgets/base",
      "_view_module_version": "1.2.0",
      "_view_name": "StyleView",
      "description_width": ""
     }
    },
    "3cf3b496a02541c79f8556e4786bbf3c": {
     "model_module": "@jupyter-widgets/controls",
     "model_module_version": "1.5.0",
     "model_name": "DescriptionStyleModel",
     "state": {
      "_model_module": "@jupyter-widgets/controls",
      "_model_module_version": "1.5.0",
      "_model_name": "DescriptionStyleModel",
      "_view_count": null,
      "_view_module": "@jupyter-widgets/base",
      "_view_module_version": "1.2.0",
      "_view_name": "StyleView",
      "description_width": ""
     }
    },
    "3cf4e3758d954fe5a52c1d1dba7d1621": {
     "model_module": "@jupyter-widgets/controls",
     "model_module_version": "1.5.0",
     "model_name": "ProgressStyleModel",
     "state": {
      "_model_module": "@jupyter-widgets/controls",
      "_model_module_version": "1.5.0",
      "_model_name": "ProgressStyleModel",
      "_view_count": null,
      "_view_module": "@jupyter-widgets/base",
      "_view_module_version": "1.2.0",
      "_view_name": "StyleView",
      "bar_color": null,
      "description_width": ""
     }
    },
    "3e6dc8d22d9c4318a84eb3f7b3078e11": {
     "model_module": "@jupyter-widgets/base",
     "model_module_version": "1.2.0",
     "model_name": "LayoutModel",
     "state": {
      "_model_module": "@jupyter-widgets/base",
      "_model_module_version": "1.2.0",
      "_model_name": "LayoutModel",
      "_view_count": null,
      "_view_module": "@jupyter-widgets/base",
      "_view_module_version": "1.2.0",
      "_view_name": "LayoutView",
      "align_content": null,
      "align_items": null,
      "align_self": null,
      "border": null,
      "bottom": null,
      "display": null,
      "flex": null,
      "flex_flow": null,
      "grid_area": null,
      "grid_auto_columns": null,
      "grid_auto_flow": null,
      "grid_auto_rows": null,
      "grid_column": null,
      "grid_gap": null,
      "grid_row": null,
      "grid_template_areas": null,
      "grid_template_columns": null,
      "grid_template_rows": null,
      "height": null,
      "justify_content": null,
      "justify_items": null,
      "left": null,
      "margin": null,
      "max_height": null,
      "max_width": null,
      "min_height": null,
      "min_width": null,
      "object_fit": null,
      "object_position": null,
      "order": null,
      "overflow": null,
      "overflow_x": null,
      "overflow_y": null,
      "padding": null,
      "right": null,
      "top": null,
      "visibility": null,
      "width": null
     }
    },
    "462c7efebaa64c1b8b4b1aa9c48b2194": {
     "model_module": "@jupyter-widgets/base",
     "model_module_version": "1.2.0",
     "model_name": "LayoutModel",
     "state": {
      "_model_module": "@jupyter-widgets/base",
      "_model_module_version": "1.2.0",
      "_model_name": "LayoutModel",
      "_view_count": null,
      "_view_module": "@jupyter-widgets/base",
      "_view_module_version": "1.2.0",
      "_view_name": "LayoutView",
      "align_content": null,
      "align_items": null,
      "align_self": null,
      "border": null,
      "bottom": null,
      "display": null,
      "flex": null,
      "flex_flow": null,
      "grid_area": null,
      "grid_auto_columns": null,
      "grid_auto_flow": null,
      "grid_auto_rows": null,
      "grid_column": null,
      "grid_gap": null,
      "grid_row": null,
      "grid_template_areas": null,
      "grid_template_columns": null,
      "grid_template_rows": null,
      "height": null,
      "justify_content": null,
      "justify_items": null,
      "left": null,
      "margin": null,
      "max_height": null,
      "max_width": null,
      "min_height": null,
      "min_width": null,
      "object_fit": null,
      "object_position": null,
      "order": null,
      "overflow": null,
      "overflow_x": null,
      "overflow_y": null,
      "padding": null,
      "right": null,
      "top": null,
      "visibility": null,
      "width": null
     }
    },
    "49c67e3634774d3c9388614a1114554e": {
     "model_module": "@jupyter-widgets/controls",
     "model_module_version": "1.5.0",
     "model_name": "IntProgressModel",
     "state": {
      "_dom_classes": [],
      "_model_module": "@jupyter-widgets/controls",
      "_model_module_version": "1.5.0",
      "_model_name": "IntProgressModel",
      "_view_count": null,
      "_view_module": "@jupyter-widgets/controls",
      "_view_module_version": "1.5.0",
      "_view_name": "ProgressView",
      "bar_style": "success",
      "description": "100.00%",
      "description_tooltip": null,
      "layout": "IPY_MODEL_d2f0eb8f72bf4cde99b2e9bc37d89787",
      "max": 8,
      "min": 0,
      "orientation": "horizontal",
      "style": "IPY_MODEL_7af8b692a5b34ddba8cec6d152f8cb6d",
      "value": 8
     }
    },
    "514077e889c7419cb3c8dac381971081": {
     "model_module": "@jupyter-widgets/controls",
     "model_module_version": "1.5.0",
     "model_name": "IntProgressModel",
     "state": {
      "_dom_classes": [],
      "_model_module": "@jupyter-widgets/controls",
      "_model_module_version": "1.5.0",
      "_model_name": "IntProgressModel",
      "_view_count": null,
      "_view_module": "@jupyter-widgets/controls",
      "_view_module_version": "1.5.0",
      "_view_name": "ProgressView",
      "bar_style": "success",
      "description": "100.00%",
      "description_tooltip": null,
      "layout": "IPY_MODEL_00186f2551fb4cdbb44e3f6cc2f21dc6",
      "max": 7,
      "min": 0,
      "orientation": "horizontal",
      "style": "IPY_MODEL_130bcec9f1314c9b96472cccae9cbad4",
      "value": 7
     }
    },
    "515c78035447491e82e5db9cf6d9344b": {
     "model_module": "@jupyter-widgets/controls",
     "model_module_version": "1.5.0",
     "model_name": "LabelModel",
     "state": {
      "_dom_classes": [],
      "_model_module": "@jupyter-widgets/controls",
      "_model_module_version": "1.5.0",
      "_model_name": "LabelModel",
      "_view_count": null,
      "_view_module": "@jupyter-widgets/controls",
      "_view_module_version": "1.5.0",
      "_view_name": "LabelView",
      "description": "",
      "description_tooltip": null,
      "layout": "IPY_MODEL_32997dace398450eac710ce9457d0ef5",
      "placeholder": "​",
      "style": "IPY_MODEL_13a70b1f072549cd8c6781b2017ba9a5",
      "value": "8 / 8"
     }
    },
    "5376c54925c94ce69b4abe402208c3a5": {
     "model_module": "@jupyter-widgets/controls",
     "model_module_version": "1.5.0",
     "model_name": "ProgressStyleModel",
     "state": {
      "_model_module": "@jupyter-widgets/controls",
      "_model_module_version": "1.5.0",
      "_model_name": "ProgressStyleModel",
      "_view_count": null,
      "_view_module": "@jupyter-widgets/base",
      "_view_module_version": "1.2.0",
      "_view_name": "StyleView",
      "bar_color": null,
      "description_width": ""
     }
    },
    "57426efbf4b143a597ce54d1dc7b878e": {
     "model_module": "@jupyter-widgets/base",
     "model_module_version": "1.2.0",
     "model_name": "LayoutModel",
     "state": {
      "_model_module": "@jupyter-widgets/base",
      "_model_module_version": "1.2.0",
      "_model_name": "LayoutModel",
      "_view_count": null,
      "_view_module": "@jupyter-widgets/base",
      "_view_module_version": "1.2.0",
      "_view_name": "LayoutView",
      "align_content": null,
      "align_items": null,
      "align_self": null,
      "border": null,
      "bottom": null,
      "display": null,
      "flex": null,
      "flex_flow": null,
      "grid_area": null,
      "grid_auto_columns": null,
      "grid_auto_flow": null,
      "grid_auto_rows": null,
      "grid_column": null,
      "grid_gap": null,
      "grid_row": null,
      "grid_template_areas": null,
      "grid_template_columns": null,
      "grid_template_rows": null,
      "height": null,
      "justify_content": null,
      "justify_items": null,
      "left": null,
      "margin": null,
      "max_height": null,
      "max_width": null,
      "min_height": null,
      "min_width": null,
      "object_fit": null,
      "object_position": null,
      "order": null,
      "overflow": null,
      "overflow_x": null,
      "overflow_y": null,
      "padding": null,
      "right": null,
      "top": null,
      "visibility": null,
      "width": null
     }
    },
    "5ab9bc970b5b441caf9a1f84432ac95e": {
     "model_module": "@jupyter-widgets/controls",
     "model_module_version": "1.5.0",
     "model_name": "ProgressStyleModel",
     "state": {
      "_model_module": "@jupyter-widgets/controls",
      "_model_module_version": "1.5.0",
      "_model_name": "ProgressStyleModel",
      "_view_count": null,
      "_view_module": "@jupyter-widgets/base",
      "_view_module_version": "1.2.0",
      "_view_name": "StyleView",
      "bar_color": null,
      "description_width": ""
     }
    },
    "61167a387cbf4531b5ae12fa4849f52c": {
     "model_module": "@jupyter-widgets/base",
     "model_module_version": "1.2.0",
     "model_name": "LayoutModel",
     "state": {
      "_model_module": "@jupyter-widgets/base",
      "_model_module_version": "1.2.0",
      "_model_name": "LayoutModel",
      "_view_count": null,
      "_view_module": "@jupyter-widgets/base",
      "_view_module_version": "1.2.0",
      "_view_name": "LayoutView",
      "align_content": null,
      "align_items": null,
      "align_self": null,
      "border": null,
      "bottom": null,
      "display": null,
      "flex": null,
      "flex_flow": null,
      "grid_area": null,
      "grid_auto_columns": null,
      "grid_auto_flow": null,
      "grid_auto_rows": null,
      "grid_column": null,
      "grid_gap": null,
      "grid_row": null,
      "grid_template_areas": null,
      "grid_template_columns": null,
      "grid_template_rows": null,
      "height": null,
      "justify_content": null,
      "justify_items": null,
      "left": null,
      "margin": null,
      "max_height": null,
      "max_width": null,
      "min_height": null,
      "min_width": null,
      "object_fit": null,
      "object_position": null,
      "order": null,
      "overflow": null,
      "overflow_x": null,
      "overflow_y": null,
      "padding": null,
      "right": null,
      "top": null,
      "visibility": null,
      "width": null
     }
    },
    "65f303ac13da418ea6055d339da75eb3": {
     "model_module": "@jupyter-widgets/controls",
     "model_module_version": "1.5.0",
     "model_name": "ProgressStyleModel",
     "state": {
      "_model_module": "@jupyter-widgets/controls",
      "_model_module_version": "1.5.0",
      "_model_name": "ProgressStyleModel",
      "_view_count": null,
      "_view_module": "@jupyter-widgets/base",
      "_view_module_version": "1.2.0",
      "_view_name": "StyleView",
      "bar_color": null,
      "description_width": ""
     }
    },
    "68e297b8bf064cfaa901d052c41090a9": {
     "model_module": "@jupyter-widgets/controls",
     "model_module_version": "1.5.0",
     "model_name": "IntProgressModel",
     "state": {
      "_dom_classes": [],
      "_model_module": "@jupyter-widgets/controls",
      "_model_module_version": "1.5.0",
      "_model_name": "IntProgressModel",
      "_view_count": null,
      "_view_module": "@jupyter-widgets/controls",
      "_view_module_version": "1.5.0",
      "_view_name": "ProgressView",
      "bar_style": "success",
      "description": "100.00%",
      "description_tooltip": null,
      "layout": "IPY_MODEL_8ddaf99fdcc04fa6a331dcfb5038ea33",
      "max": 7,
      "min": 0,
      "orientation": "horizontal",
      "style": "IPY_MODEL_5376c54925c94ce69b4abe402208c3a5",
      "value": 7
     }
    },
    "6d49bb6b31f7497583ba166fb4498dd6": {
     "model_module": "@jupyter-widgets/base",
     "model_module_version": "1.2.0",
     "model_name": "LayoutModel",
     "state": {
      "_model_module": "@jupyter-widgets/base",
      "_model_module_version": "1.2.0",
      "_model_name": "LayoutModel",
      "_view_count": null,
      "_view_module": "@jupyter-widgets/base",
      "_view_module_version": "1.2.0",
      "_view_name": "LayoutView",
      "align_content": null,
      "align_items": null,
      "align_self": null,
      "border": null,
      "bottom": null,
      "display": null,
      "flex": null,
      "flex_flow": null,
      "grid_area": null,
      "grid_auto_columns": null,
      "grid_auto_flow": null,
      "grid_auto_rows": null,
      "grid_column": null,
      "grid_gap": null,
      "grid_row": null,
      "grid_template_areas": null,
      "grid_template_columns": null,
      "grid_template_rows": null,
      "height": null,
      "justify_content": null,
      "justify_items": null,
      "left": null,
      "margin": null,
      "max_height": null,
      "max_width": null,
      "min_height": null,
      "min_width": null,
      "object_fit": null,
      "object_position": null,
      "order": null,
      "overflow": null,
      "overflow_x": null,
      "overflow_y": null,
      "padding": null,
      "right": null,
      "top": null,
      "visibility": null,
      "width": null
     }
    },
    "73f6006a236c4f098fe715978b22c959": {
     "model_module": "@jupyter-widgets/base",
     "model_module_version": "1.2.0",
     "model_name": "LayoutModel",
     "state": {
      "_model_module": "@jupyter-widgets/base",
      "_model_module_version": "1.2.0",
      "_model_name": "LayoutModel",
      "_view_count": null,
      "_view_module": "@jupyter-widgets/base",
      "_view_module_version": "1.2.0",
      "_view_name": "LayoutView",
      "align_content": null,
      "align_items": null,
      "align_self": null,
      "border": null,
      "bottom": null,
      "display": null,
      "flex": null,
      "flex_flow": null,
      "grid_area": null,
      "grid_auto_columns": null,
      "grid_auto_flow": null,
      "grid_auto_rows": null,
      "grid_column": null,
      "grid_gap": null,
      "grid_row": null,
      "grid_template_areas": null,
      "grid_template_columns": null,
      "grid_template_rows": null,
      "height": null,
      "justify_content": null,
      "justify_items": null,
      "left": null,
      "margin": null,
      "max_height": null,
      "max_width": null,
      "min_height": null,
      "min_width": null,
      "object_fit": null,
      "object_position": null,
      "order": null,
      "overflow": null,
      "overflow_x": null,
      "overflow_y": null,
      "padding": null,
      "right": null,
      "top": null,
      "visibility": null,
      "width": null
     }
    },
    "740369aca89746f2b0bc6b78a0a2d298": {
     "model_module": "@jupyter-widgets/base",
     "model_module_version": "1.2.0",
     "model_name": "LayoutModel",
     "state": {
      "_model_module": "@jupyter-widgets/base",
      "_model_module_version": "1.2.0",
      "_model_name": "LayoutModel",
      "_view_count": null,
      "_view_module": "@jupyter-widgets/base",
      "_view_module_version": "1.2.0",
      "_view_name": "LayoutView",
      "align_content": null,
      "align_items": null,
      "align_self": null,
      "border": null,
      "bottom": null,
      "display": null,
      "flex": null,
      "flex_flow": null,
      "grid_area": null,
      "grid_auto_columns": null,
      "grid_auto_flow": null,
      "grid_auto_rows": null,
      "grid_column": null,
      "grid_gap": null,
      "grid_row": null,
      "grid_template_areas": null,
      "grid_template_columns": null,
      "grid_template_rows": null,
      "height": null,
      "justify_content": null,
      "justify_items": null,
      "left": null,
      "margin": null,
      "max_height": null,
      "max_width": null,
      "min_height": null,
      "min_width": null,
      "object_fit": null,
      "object_position": null,
      "order": null,
      "overflow": null,
      "overflow_x": null,
      "overflow_y": null,
      "padding": null,
      "right": null,
      "top": null,
      "visibility": null,
      "width": null
     }
    },
    "766dcb9434c944cbac489c30bb8b7f93": {
     "model_module": "@jupyter-widgets/controls",
     "model_module_version": "1.5.0",
     "model_name": "HBoxModel",
     "state": {
      "_dom_classes": [],
      "_model_module": "@jupyter-widgets/controls",
      "_model_module_version": "1.5.0",
      "_model_name": "HBoxModel",
      "_view_count": null,
      "_view_module": "@jupyter-widgets/controls",
      "_view_module_version": "1.5.0",
      "_view_name": "HBoxView",
      "box_style": "",
      "children": [
       "IPY_MODEL_07ec3307de274a3caf6aa5f9971132ba",
       "IPY_MODEL_515c78035447491e82e5db9cf6d9344b"
      ],
      "layout": "IPY_MODEL_ed93a11fff0342738d9ef555370accd8"
     }
    },
    "7af8b692a5b34ddba8cec6d152f8cb6d": {
     "model_module": "@jupyter-widgets/controls",
     "model_module_version": "1.5.0",
     "model_name": "ProgressStyleModel",
     "state": {
      "_model_module": "@jupyter-widgets/controls",
      "_model_module_version": "1.5.0",
      "_model_name": "ProgressStyleModel",
      "_view_count": null,
      "_view_module": "@jupyter-widgets/base",
      "_view_module_version": "1.2.0",
      "_view_name": "StyleView",
      "bar_color": null,
      "description_width": ""
     }
    },
    "7cb63d8656a741b48bfe2d5c6ffe4229": {
     "model_module": "@jupyter-widgets/controls",
     "model_module_version": "1.5.0",
     "model_name": "DescriptionStyleModel",
     "state": {
      "_model_module": "@jupyter-widgets/controls",
      "_model_module_version": "1.5.0",
      "_model_name": "DescriptionStyleModel",
      "_view_count": null,
      "_view_module": "@jupyter-widgets/base",
      "_view_module_version": "1.2.0",
      "_view_name": "StyleView",
      "description_width": ""
     }
    },
    "7cee5d0ca5b846f9a33bccf044de0794": {
     "model_module": "@jupyter-widgets/controls",
     "model_module_version": "1.5.0",
     "model_name": "DescriptionStyleModel",
     "state": {
      "_model_module": "@jupyter-widgets/controls",
      "_model_module_version": "1.5.0",
      "_model_name": "DescriptionStyleModel",
      "_view_count": null,
      "_view_module": "@jupyter-widgets/base",
      "_view_module_version": "1.2.0",
      "_view_name": "StyleView",
      "description_width": ""
     }
    },
    "807b2f370a3848f6bc1d615ff8efb361": {
     "model_module": "@jupyter-widgets/controls",
     "model_module_version": "1.5.0",
     "model_name": "HBoxModel",
     "state": {
      "_dom_classes": [],
      "_model_module": "@jupyter-widgets/controls",
      "_model_module_version": "1.5.0",
      "_model_name": "HBoxModel",
      "_view_count": null,
      "_view_module": "@jupyter-widgets/controls",
      "_view_module_version": "1.5.0",
      "_view_name": "HBoxView",
      "box_style": "",
      "children": [
       "IPY_MODEL_49c67e3634774d3c9388614a1114554e",
       "IPY_MODEL_092006c1b56a44c689804f5ae136dd27"
      ],
      "layout": "IPY_MODEL_3e6dc8d22d9c4318a84eb3f7b3078e11"
     }
    },
    "80cbbc0d611c42deaf1ac6470ddf7fd9": {
     "model_module": "@jupyter-widgets/controls",
     "model_module_version": "1.5.0",
     "model_name": "HBoxModel",
     "state": {
      "_dom_classes": [],
      "_model_module": "@jupyter-widgets/controls",
      "_model_module_version": "1.5.0",
      "_model_name": "HBoxModel",
      "_view_count": null,
      "_view_module": "@jupyter-widgets/controls",
      "_view_module_version": "1.5.0",
      "_view_name": "HBoxView",
      "box_style": "",
      "children": [
       "IPY_MODEL_e2ff759020d643fa844091929bf61bd6",
       "IPY_MODEL_2024e9e4c1194d85915172ac3f6f06fe"
      ],
      "layout": "IPY_MODEL_f058c58d2b36443f90d588ce3a63f7bb"
     }
    },
    "832153953e2b4cfa83da09abbb4020c3": {
     "model_module": "@jupyter-widgets/controls",
     "model_module_version": "1.5.0",
     "model_name": "ProgressStyleModel",
     "state": {
      "_model_module": "@jupyter-widgets/controls",
      "_model_module_version": "1.5.0",
      "_model_name": "ProgressStyleModel",
      "_view_count": null,
      "_view_module": "@jupyter-widgets/base",
      "_view_module_version": "1.2.0",
      "_view_name": "StyleView",
      "bar_color": null,
      "description_width": ""
     }
    },
    "8d4e097048684e828584287a03611130": {
     "model_module": "@jupyter-widgets/controls",
     "model_module_version": "1.5.0",
     "model_name": "LabelModel",
     "state": {
      "_dom_classes": [],
      "_model_module": "@jupyter-widgets/controls",
      "_model_module_version": "1.5.0",
      "_model_name": "LabelModel",
      "_view_count": null,
      "_view_module": "@jupyter-widgets/controls",
      "_view_module_version": "1.5.0",
      "_view_name": "LabelView",
      "description": "",
      "description_tooltip": null,
      "layout": "IPY_MODEL_ad5c8bbef90b4236ada7b9e52817b0a0",
      "placeholder": "​",
      "style": "IPY_MODEL_7cee5d0ca5b846f9a33bccf044de0794",
      "value": "7 / 7"
     }
    },
    "8ddaf99fdcc04fa6a331dcfb5038ea33": {
     "model_module": "@jupyter-widgets/base",
     "model_module_version": "1.2.0",
     "model_name": "LayoutModel",
     "state": {
      "_model_module": "@jupyter-widgets/base",
      "_model_module_version": "1.2.0",
      "_model_name": "LayoutModel",
      "_view_count": null,
      "_view_module": "@jupyter-widgets/base",
      "_view_module_version": "1.2.0",
      "_view_name": "LayoutView",
      "align_content": null,
      "align_items": null,
      "align_self": null,
      "border": null,
      "bottom": null,
      "display": null,
      "flex": null,
      "flex_flow": null,
      "grid_area": null,
      "grid_auto_columns": null,
      "grid_auto_flow": null,
      "grid_auto_rows": null,
      "grid_column": null,
      "grid_gap": null,
      "grid_row": null,
      "grid_template_areas": null,
      "grid_template_columns": null,
      "grid_template_rows": null,
      "height": null,
      "justify_content": null,
      "justify_items": null,
      "left": null,
      "margin": null,
      "max_height": null,
      "max_width": null,
      "min_height": null,
      "min_width": null,
      "object_fit": null,
      "object_position": null,
      "order": null,
      "overflow": null,
      "overflow_x": null,
      "overflow_y": null,
      "padding": null,
      "right": null,
      "top": null,
      "visibility": null,
      "width": null
     }
    },
    "8ee4444829c14f2381fca3b80c01a1f3": {
     "model_module": "@jupyter-widgets/controls",
     "model_module_version": "1.5.0",
     "model_name": "HBoxModel",
     "state": {
      "_dom_classes": [],
      "_model_module": "@jupyter-widgets/controls",
      "_model_module_version": "1.5.0",
      "_model_name": "HBoxModel",
      "_view_count": null,
      "_view_module": "@jupyter-widgets/controls",
      "_view_module_version": "1.5.0",
      "_view_name": "HBoxView",
      "box_style": "",
      "children": [
       "IPY_MODEL_68e297b8bf064cfaa901d052c41090a9",
       "IPY_MODEL_0f24443558104e6a8e525c3b1ab68834"
      ],
      "layout": "IPY_MODEL_61167a387cbf4531b5ae12fa4849f52c"
     }
    },
    "942cabfe92d443899710a98415bdfbc7": {
     "model_module": "@jupyter-widgets/controls",
     "model_module_version": "1.5.0",
     "model_name": "HBoxModel",
     "state": {
      "_dom_classes": [],
      "_model_module": "@jupyter-widgets/controls",
      "_model_module_version": "1.5.0",
      "_model_name": "HBoxModel",
      "_view_count": null,
      "_view_module": "@jupyter-widgets/controls",
      "_view_module_version": "1.5.0",
      "_view_name": "HBoxView",
      "box_style": "",
      "children": [
       "IPY_MODEL_37b0bc36869a460ab547763541000381",
       "IPY_MODEL_f909c0b0e2074c9aa30f3ea6559a2738"
      ],
      "layout": "IPY_MODEL_6d49bb6b31f7497583ba166fb4498dd6"
     }
    },
    "99b13f5239de43e38493d38ed8d0fa88": {
     "model_module": "@jupyter-widgets/controls",
     "model_module_version": "1.5.0",
     "model_name": "DescriptionStyleModel",
     "state": {
      "_model_module": "@jupyter-widgets/controls",
      "_model_module_version": "1.5.0",
      "_model_name": "DescriptionStyleModel",
      "_view_count": null,
      "_view_module": "@jupyter-widgets/base",
      "_view_module_version": "1.2.0",
      "_view_name": "StyleView",
      "description_width": ""
     }
    },
    "a77347c6502a4bcb8a2caedc8f4c21da": {
     "model_module": "@jupyter-widgets/controls",
     "model_module_version": "1.5.0",
     "model_name": "HBoxModel",
     "state": {
      "_dom_classes": [],
      "_model_module": "@jupyter-widgets/controls",
      "_model_module_version": "1.5.0",
      "_model_name": "HBoxModel",
      "_view_count": null,
      "_view_module": "@jupyter-widgets/controls",
      "_view_module_version": "1.5.0",
      "_view_name": "HBoxView",
      "box_style": "",
      "children": [
       "IPY_MODEL_310eae09440d4205b469d0b32291ea8b",
       "IPY_MODEL_f5514c5aa228429b86dc5ebec0db663e"
      ],
      "layout": "IPY_MODEL_0f14a21e04fb49b6bc967943bb8c1620"
     }
    },
    "ad5c8bbef90b4236ada7b9e52817b0a0": {
     "model_module": "@jupyter-widgets/base",
     "model_module_version": "1.2.0",
     "model_name": "LayoutModel",
     "state": {
      "_model_module": "@jupyter-widgets/base",
      "_model_module_version": "1.2.0",
      "_model_name": "LayoutModel",
      "_view_count": null,
      "_view_module": "@jupyter-widgets/base",
      "_view_module_version": "1.2.0",
      "_view_name": "LayoutView",
      "align_content": null,
      "align_items": null,
      "align_self": null,
      "border": null,
      "bottom": null,
      "display": null,
      "flex": null,
      "flex_flow": null,
      "grid_area": null,
      "grid_auto_columns": null,
      "grid_auto_flow": null,
      "grid_auto_rows": null,
      "grid_column": null,
      "grid_gap": null,
      "grid_row": null,
      "grid_template_areas": null,
      "grid_template_columns": null,
      "grid_template_rows": null,
      "height": null,
      "justify_content": null,
      "justify_items": null,
      "left": null,
      "margin": null,
      "max_height": null,
      "max_width": null,
      "min_height": null,
      "min_width": null,
      "object_fit": null,
      "object_position": null,
      "order": null,
      "overflow": null,
      "overflow_x": null,
      "overflow_y": null,
      "padding": null,
      "right": null,
      "top": null,
      "visibility": null,
      "width": null
     }
    },
    "b268a2d4d8d346aaa9411059011a39fe": {
     "model_module": "@jupyter-widgets/base",
     "model_module_version": "1.2.0",
     "model_name": "LayoutModel",
     "state": {
      "_model_module": "@jupyter-widgets/base",
      "_model_module_version": "1.2.0",
      "_model_name": "LayoutModel",
      "_view_count": null,
      "_view_module": "@jupyter-widgets/base",
      "_view_module_version": "1.2.0",
      "_view_name": "LayoutView",
      "align_content": null,
      "align_items": null,
      "align_self": null,
      "border": null,
      "bottom": null,
      "display": null,
      "flex": null,
      "flex_flow": null,
      "grid_area": null,
      "grid_auto_columns": null,
      "grid_auto_flow": null,
      "grid_auto_rows": null,
      "grid_column": null,
      "grid_gap": null,
      "grid_row": null,
      "grid_template_areas": null,
      "grid_template_columns": null,
      "grid_template_rows": null,
      "height": null,
      "justify_content": null,
      "justify_items": null,
      "left": null,
      "margin": null,
      "max_height": null,
      "max_width": null,
      "min_height": null,
      "min_width": null,
      "object_fit": null,
      "object_position": null,
      "order": null,
      "overflow": null,
      "overflow_x": null,
      "overflow_y": null,
      "padding": null,
      "right": null,
      "top": null,
      "visibility": null,
      "width": null
     }
    },
    "b51e6bf550574f57a64e4bee543bd259": {
     "model_module": "@jupyter-widgets/base",
     "model_module_version": "1.2.0",
     "model_name": "LayoutModel",
     "state": {
      "_model_module": "@jupyter-widgets/base",
      "_model_module_version": "1.2.0",
      "_model_name": "LayoutModel",
      "_view_count": null,
      "_view_module": "@jupyter-widgets/base",
      "_view_module_version": "1.2.0",
      "_view_name": "LayoutView",
      "align_content": null,
      "align_items": null,
      "align_self": null,
      "border": null,
      "bottom": null,
      "display": null,
      "flex": null,
      "flex_flow": null,
      "grid_area": null,
      "grid_auto_columns": null,
      "grid_auto_flow": null,
      "grid_auto_rows": null,
      "grid_column": null,
      "grid_gap": null,
      "grid_row": null,
      "grid_template_areas": null,
      "grid_template_columns": null,
      "grid_template_rows": null,
      "height": null,
      "justify_content": null,
      "justify_items": null,
      "left": null,
      "margin": null,
      "max_height": null,
      "max_width": null,
      "min_height": null,
      "min_width": null,
      "object_fit": null,
      "object_position": null,
      "order": null,
      "overflow": null,
      "overflow_x": null,
      "overflow_y": null,
      "padding": null,
      "right": null,
      "top": null,
      "visibility": null,
      "width": null
     }
    },
    "c18ca8dfbd704eb9b9c4e2315be8d5f6": {
     "model_module": "@jupyter-widgets/base",
     "model_module_version": "1.2.0",
     "model_name": "LayoutModel",
     "state": {
      "_model_module": "@jupyter-widgets/base",
      "_model_module_version": "1.2.0",
      "_model_name": "LayoutModel",
      "_view_count": null,
      "_view_module": "@jupyter-widgets/base",
      "_view_module_version": "1.2.0",
      "_view_name": "LayoutView",
      "align_content": null,
      "align_items": null,
      "align_self": null,
      "border": null,
      "bottom": null,
      "display": null,
      "flex": null,
      "flex_flow": null,
      "grid_area": null,
      "grid_auto_columns": null,
      "grid_auto_flow": null,
      "grid_auto_rows": null,
      "grid_column": null,
      "grid_gap": null,
      "grid_row": null,
      "grid_template_areas": null,
      "grid_template_columns": null,
      "grid_template_rows": null,
      "height": null,
      "justify_content": null,
      "justify_items": null,
      "left": null,
      "margin": null,
      "max_height": null,
      "max_width": null,
      "min_height": null,
      "min_width": null,
      "object_fit": null,
      "object_position": null,
      "order": null,
      "overflow": null,
      "overflow_x": null,
      "overflow_y": null,
      "padding": null,
      "right": null,
      "top": null,
      "visibility": null,
      "width": null
     }
    },
    "d2f0eb8f72bf4cde99b2e9bc37d89787": {
     "model_module": "@jupyter-widgets/base",
     "model_module_version": "1.2.0",
     "model_name": "LayoutModel",
     "state": {
      "_model_module": "@jupyter-widgets/base",
      "_model_module_version": "1.2.0",
      "_model_name": "LayoutModel",
      "_view_count": null,
      "_view_module": "@jupyter-widgets/base",
      "_view_module_version": "1.2.0",
      "_view_name": "LayoutView",
      "align_content": null,
      "align_items": null,
      "align_self": null,
      "border": null,
      "bottom": null,
      "display": null,
      "flex": null,
      "flex_flow": null,
      "grid_area": null,
      "grid_auto_columns": null,
      "grid_auto_flow": null,
      "grid_auto_rows": null,
      "grid_column": null,
      "grid_gap": null,
      "grid_row": null,
      "grid_template_areas": null,
      "grid_template_columns": null,
      "grid_template_rows": null,
      "height": null,
      "justify_content": null,
      "justify_items": null,
      "left": null,
      "margin": null,
      "max_height": null,
      "max_width": null,
      "min_height": null,
      "min_width": null,
      "object_fit": null,
      "object_position": null,
      "order": null,
      "overflow": null,
      "overflow_x": null,
      "overflow_y": null,
      "padding": null,
      "right": null,
      "top": null,
      "visibility": null,
      "width": null
     }
    },
    "d65c53f667304ba394535dea9a0ad390": {
     "model_module": "@jupyter-widgets/base",
     "model_module_version": "1.2.0",
     "model_name": "LayoutModel",
     "state": {
      "_model_module": "@jupyter-widgets/base",
      "_model_module_version": "1.2.0",
      "_model_name": "LayoutModel",
      "_view_count": null,
      "_view_module": "@jupyter-widgets/base",
      "_view_module_version": "1.2.0",
      "_view_name": "LayoutView",
      "align_content": null,
      "align_items": null,
      "align_self": null,
      "border": null,
      "bottom": null,
      "display": null,
      "flex": null,
      "flex_flow": null,
      "grid_area": null,
      "grid_auto_columns": null,
      "grid_auto_flow": null,
      "grid_auto_rows": null,
      "grid_column": null,
      "grid_gap": null,
      "grid_row": null,
      "grid_template_areas": null,
      "grid_template_columns": null,
      "grid_template_rows": null,
      "height": null,
      "justify_content": null,
      "justify_items": null,
      "left": null,
      "margin": null,
      "max_height": null,
      "max_width": null,
      "min_height": null,
      "min_width": null,
      "object_fit": null,
      "object_position": null,
      "order": null,
      "overflow": null,
      "overflow_x": null,
      "overflow_y": null,
      "padding": null,
      "right": null,
      "top": null,
      "visibility": null,
      "width": null
     }
    },
    "d6611c318ee048c3aa9d9ef672faca84": {
     "model_module": "@jupyter-widgets/controls",
     "model_module_version": "1.5.0",
     "model_name": "DescriptionStyleModel",
     "state": {
      "_model_module": "@jupyter-widgets/controls",
      "_model_module_version": "1.5.0",
      "_model_name": "DescriptionStyleModel",
      "_view_count": null,
      "_view_module": "@jupyter-widgets/base",
      "_view_module_version": "1.2.0",
      "_view_name": "StyleView",
      "description_width": ""
     }
    },
    "d7139f7e60754c00a435f3561c9689e9": {
     "model_module": "@jupyter-widgets/base",
     "model_module_version": "1.2.0",
     "model_name": "LayoutModel",
     "state": {
      "_model_module": "@jupyter-widgets/base",
      "_model_module_version": "1.2.0",
      "_model_name": "LayoutModel",
      "_view_count": null,
      "_view_module": "@jupyter-widgets/base",
      "_view_module_version": "1.2.0",
      "_view_name": "LayoutView",
      "align_content": null,
      "align_items": null,
      "align_self": null,
      "border": null,
      "bottom": null,
      "display": null,
      "flex": null,
      "flex_flow": null,
      "grid_area": null,
      "grid_auto_columns": null,
      "grid_auto_flow": null,
      "grid_auto_rows": null,
      "grid_column": null,
      "grid_gap": null,
      "grid_row": null,
      "grid_template_areas": null,
      "grid_template_columns": null,
      "grid_template_rows": null,
      "height": null,
      "justify_content": null,
      "justify_items": null,
      "left": null,
      "margin": null,
      "max_height": null,
      "max_width": null,
      "min_height": null,
      "min_width": null,
      "object_fit": null,
      "object_position": null,
      "order": null,
      "overflow": null,
      "overflow_x": null,
      "overflow_y": null,
      "padding": null,
      "right": null,
      "top": null,
      "visibility": null,
      "width": null
     }
    },
    "da9c30a7f3784a7b84613d9106751531": {
     "model_module": "@jupyter-widgets/controls",
     "model_module_version": "1.5.0",
     "model_name": "HBoxModel",
     "state": {
      "_dom_classes": [],
      "_model_module": "@jupyter-widgets/controls",
      "_model_module_version": "1.5.0",
      "_model_name": "HBoxModel",
      "_view_count": null,
      "_view_module": "@jupyter-widgets/controls",
      "_view_module_version": "1.5.0",
      "_view_name": "HBoxView",
      "box_style": "",
      "children": [
       "IPY_MODEL_e2aa5c5dfc5d47a48e558d7c5b4ca393",
       "IPY_MODEL_e3753ad211044fe3be53018d9ba7e37b"
      ],
      "layout": "IPY_MODEL_e471409689e543bf8eeae096ff863941"
     }
    },
    "db1efcf67a764b73b71fdccf504d7d7e": {
     "model_module": "@jupyter-widgets/base",
     "model_module_version": "1.2.0",
     "model_name": "LayoutModel",
     "state": {
      "_model_module": "@jupyter-widgets/base",
      "_model_module_version": "1.2.0",
      "_model_name": "LayoutModel",
      "_view_count": null,
      "_view_module": "@jupyter-widgets/base",
      "_view_module_version": "1.2.0",
      "_view_name": "LayoutView",
      "align_content": null,
      "align_items": null,
      "align_self": null,
      "border": null,
      "bottom": null,
      "display": null,
      "flex": null,
      "flex_flow": null,
      "grid_area": null,
      "grid_auto_columns": null,
      "grid_auto_flow": null,
      "grid_auto_rows": null,
      "grid_column": null,
      "grid_gap": null,
      "grid_row": null,
      "grid_template_areas": null,
      "grid_template_columns": null,
      "grid_template_rows": null,
      "height": null,
      "justify_content": null,
      "justify_items": null,
      "left": null,
      "margin": null,
      "max_height": null,
      "max_width": null,
      "min_height": null,
      "min_width": null,
      "object_fit": null,
      "object_position": null,
      "order": null,
      "overflow": null,
      "overflow_x": null,
      "overflow_y": null,
      "padding": null,
      "right": null,
      "top": null,
      "visibility": null,
      "width": null
     }
    },
    "dc5a668b1a8d4068abf94cf95059b9fd": {
     "model_module": "@jupyter-widgets/base",
     "model_module_version": "1.2.0",
     "model_name": "LayoutModel",
     "state": {
      "_model_module": "@jupyter-widgets/base",
      "_model_module_version": "1.2.0",
      "_model_name": "LayoutModel",
      "_view_count": null,
      "_view_module": "@jupyter-widgets/base",
      "_view_module_version": "1.2.0",
      "_view_name": "LayoutView",
      "align_content": null,
      "align_items": null,
      "align_self": null,
      "border": null,
      "bottom": null,
      "display": null,
      "flex": null,
      "flex_flow": null,
      "grid_area": null,
      "grid_auto_columns": null,
      "grid_auto_flow": null,
      "grid_auto_rows": null,
      "grid_column": null,
      "grid_gap": null,
      "grid_row": null,
      "grid_template_areas": null,
      "grid_template_columns": null,
      "grid_template_rows": null,
      "height": null,
      "justify_content": null,
      "justify_items": null,
      "left": null,
      "margin": null,
      "max_height": null,
      "max_width": null,
      "min_height": null,
      "min_width": null,
      "object_fit": null,
      "object_position": null,
      "order": null,
      "overflow": null,
      "overflow_x": null,
      "overflow_y": null,
      "padding": null,
      "right": null,
      "top": null,
      "visibility": null,
      "width": null
     }
    },
    "dfe31d78ab8646afb2ee5666f8030336": {
     "model_module": "@jupyter-widgets/controls",
     "model_module_version": "1.5.0",
     "model_name": "DescriptionStyleModel",
     "state": {
      "_model_module": "@jupyter-widgets/controls",
      "_model_module_version": "1.5.0",
      "_model_name": "DescriptionStyleModel",
      "_view_count": null,
      "_view_module": "@jupyter-widgets/base",
      "_view_module_version": "1.2.0",
      "_view_name": "StyleView",
      "description_width": ""
     }
    },
    "e2aa5c5dfc5d47a48e558d7c5b4ca393": {
     "model_module": "@jupyter-widgets/controls",
     "model_module_version": "1.5.0",
     "model_name": "IntProgressModel",
     "state": {
      "_dom_classes": [],
      "_model_module": "@jupyter-widgets/controls",
      "_model_module_version": "1.5.0",
      "_model_name": "IntProgressModel",
      "_view_count": null,
      "_view_module": "@jupyter-widgets/controls",
      "_view_module_version": "1.5.0",
      "_view_name": "ProgressView",
      "bar_style": "success",
      "description": "100.00%",
      "description_tooltip": null,
      "layout": "IPY_MODEL_db1efcf67a764b73b71fdccf504d7d7e",
      "max": 8,
      "min": 0,
      "orientation": "horizontal",
      "style": "IPY_MODEL_f521d9140e99472982db98c20b60f9b5",
      "value": 8
     }
    },
    "e2ff759020d643fa844091929bf61bd6": {
     "model_module": "@jupyter-widgets/controls",
     "model_module_version": "1.5.0",
     "model_name": "IntProgressModel",
     "state": {
      "_dom_classes": [],
      "_model_module": "@jupyter-widgets/controls",
      "_model_module_version": "1.5.0",
      "_model_name": "IntProgressModel",
      "_view_count": null,
      "_view_module": "@jupyter-widgets/controls",
      "_view_module_version": "1.5.0",
      "_view_name": "ProgressView",
      "bar_style": "success",
      "description": "100.00%",
      "description_tooltip": null,
      "layout": "IPY_MODEL_dc5a668b1a8d4068abf94cf95059b9fd",
      "max": 7,
      "min": 0,
      "orientation": "horizontal",
      "style": "IPY_MODEL_832153953e2b4cfa83da09abbb4020c3",
      "value": 7
     }
    },
    "e3753ad211044fe3be53018d9ba7e37b": {
     "model_module": "@jupyter-widgets/controls",
     "model_module_version": "1.5.0",
     "model_name": "LabelModel",
     "state": {
      "_dom_classes": [],
      "_model_module": "@jupyter-widgets/controls",
      "_model_module_version": "1.5.0",
      "_model_name": "LabelModel",
      "_view_count": null,
      "_view_module": "@jupyter-widgets/controls",
      "_view_module_version": "1.5.0",
      "_view_name": "LabelView",
      "description": "",
      "description_tooltip": null,
      "layout": "IPY_MODEL_57426efbf4b143a597ce54d1dc7b878e",
      "placeholder": "​",
      "style": "IPY_MODEL_7cb63d8656a741b48bfe2d5c6ffe4229",
      "value": "8 / 8"
     }
    },
    "e471409689e543bf8eeae096ff863941": {
     "model_module": "@jupyter-widgets/base",
     "model_module_version": "1.2.0",
     "model_name": "LayoutModel",
     "state": {
      "_model_module": "@jupyter-widgets/base",
      "_model_module_version": "1.2.0",
      "_model_name": "LayoutModel",
      "_view_count": null,
      "_view_module": "@jupyter-widgets/base",
      "_view_module_version": "1.2.0",
      "_view_name": "LayoutView",
      "align_content": null,
      "align_items": null,
      "align_self": null,
      "border": null,
      "bottom": null,
      "display": null,
      "flex": null,
      "flex_flow": null,
      "grid_area": null,
      "grid_auto_columns": null,
      "grid_auto_flow": null,
      "grid_auto_rows": null,
      "grid_column": null,
      "grid_gap": null,
      "grid_row": null,
      "grid_template_areas": null,
      "grid_template_columns": null,
      "grid_template_rows": null,
      "height": null,
      "justify_content": null,
      "justify_items": null,
      "left": null,
      "margin": null,
      "max_height": null,
      "max_width": null,
      "min_height": null,
      "min_width": null,
      "object_fit": null,
      "object_position": null,
      "order": null,
      "overflow": null,
      "overflow_x": null,
      "overflow_y": null,
      "padding": null,
      "right": null,
      "top": null,
      "visibility": null,
      "width": null
     }
    },
    "ed93a11fff0342738d9ef555370accd8": {
     "model_module": "@jupyter-widgets/base",
     "model_module_version": "1.2.0",
     "model_name": "LayoutModel",
     "state": {
      "_model_module": "@jupyter-widgets/base",
      "_model_module_version": "1.2.0",
      "_model_name": "LayoutModel",
      "_view_count": null,
      "_view_module": "@jupyter-widgets/base",
      "_view_module_version": "1.2.0",
      "_view_name": "LayoutView",
      "align_content": null,
      "align_items": null,
      "align_self": null,
      "border": null,
      "bottom": null,
      "display": null,
      "flex": null,
      "flex_flow": null,
      "grid_area": null,
      "grid_auto_columns": null,
      "grid_auto_flow": null,
      "grid_auto_rows": null,
      "grid_column": null,
      "grid_gap": null,
      "grid_row": null,
      "grid_template_areas": null,
      "grid_template_columns": null,
      "grid_template_rows": null,
      "height": null,
      "justify_content": null,
      "justify_items": null,
      "left": null,
      "margin": null,
      "max_height": null,
      "max_width": null,
      "min_height": null,
      "min_width": null,
      "object_fit": null,
      "object_position": null,
      "order": null,
      "overflow": null,
      "overflow_x": null,
      "overflow_y": null,
      "padding": null,
      "right": null,
      "top": null,
      "visibility": null,
      "width": null
     }
    },
    "f058c58d2b36443f90d588ce3a63f7bb": {
     "model_module": "@jupyter-widgets/base",
     "model_module_version": "1.2.0",
     "model_name": "LayoutModel",
     "state": {
      "_model_module": "@jupyter-widgets/base",
      "_model_module_version": "1.2.0",
      "_model_name": "LayoutModel",
      "_view_count": null,
      "_view_module": "@jupyter-widgets/base",
      "_view_module_version": "1.2.0",
      "_view_name": "LayoutView",
      "align_content": null,
      "align_items": null,
      "align_self": null,
      "border": null,
      "bottom": null,
      "display": null,
      "flex": null,
      "flex_flow": null,
      "grid_area": null,
      "grid_auto_columns": null,
      "grid_auto_flow": null,
      "grid_auto_rows": null,
      "grid_column": null,
      "grid_gap": null,
      "grid_row": null,
      "grid_template_areas": null,
      "grid_template_columns": null,
      "grid_template_rows": null,
      "height": null,
      "justify_content": null,
      "justify_items": null,
      "left": null,
      "margin": null,
      "max_height": null,
      "max_width": null,
      "min_height": null,
      "min_width": null,
      "object_fit": null,
      "object_position": null,
      "order": null,
      "overflow": null,
      "overflow_x": null,
      "overflow_y": null,
      "padding": null,
      "right": null,
      "top": null,
      "visibility": null,
      "width": null
     }
    },
    "f521d9140e99472982db98c20b60f9b5": {
     "model_module": "@jupyter-widgets/controls",
     "model_module_version": "1.5.0",
     "model_name": "ProgressStyleModel",
     "state": {
      "_model_module": "@jupyter-widgets/controls",
      "_model_module_version": "1.5.0",
      "_model_name": "ProgressStyleModel",
      "_view_count": null,
      "_view_module": "@jupyter-widgets/base",
      "_view_module_version": "1.2.0",
      "_view_name": "StyleView",
      "bar_color": null,
      "description_width": ""
     }
    },
    "f5514c5aa228429b86dc5ebec0db663e": {
     "model_module": "@jupyter-widgets/controls",
     "model_module_version": "1.5.0",
     "model_name": "LabelModel",
     "state": {
      "_dom_classes": [],
      "_model_module": "@jupyter-widgets/controls",
      "_model_module_version": "1.5.0",
      "_model_name": "LabelModel",
      "_view_count": null,
      "_view_module": "@jupyter-widgets/controls",
      "_view_module_version": "1.5.0",
      "_view_name": "LabelView",
      "description": "",
      "description_tooltip": null,
      "layout": "IPY_MODEL_1e86ec43aaed4e34b4c8f1c52a3e9b5b",
      "placeholder": "​",
      "style": "IPY_MODEL_3a31c9406aa24f6789993d876ef2ab18",
      "value": "8 / 8"
     }
    },
    "f909c0b0e2074c9aa30f3ea6559a2738": {
     "model_module": "@jupyter-widgets/controls",
     "model_module_version": "1.5.0",
     "model_name": "LabelModel",
     "state": {
      "_dom_classes": [],
      "_model_module": "@jupyter-widgets/controls",
      "_model_module_version": "1.5.0",
      "_model_name": "LabelModel",
      "_view_count": null,
      "_view_module": "@jupyter-widgets/controls",
      "_view_module_version": "1.5.0",
      "_view_name": "LabelView",
      "description": "",
      "description_tooltip": null,
      "layout": "IPY_MODEL_b51e6bf550574f57a64e4bee543bd259",
      "placeholder": "​",
      "style": "IPY_MODEL_99b13f5239de43e38493d38ed8d0fa88",
      "value": "7 / 7"
     }
    },
    "fa8015dc3bd545d496daa8b79846c406": {
     "model_module": "@jupyter-widgets/controls",
     "model_module_version": "1.5.0",
     "model_name": "HBoxModel",
     "state": {
      "_dom_classes": [],
      "_model_module": "@jupyter-widgets/controls",
      "_model_module_version": "1.5.0",
      "_model_name": "HBoxModel",
      "_view_count": null,
      "_view_module": "@jupyter-widgets/controls",
      "_view_module_version": "1.5.0",
      "_view_name": "HBoxView",
      "box_style": "",
      "children": [
       "IPY_MODEL_514077e889c7419cb3c8dac381971081",
       "IPY_MODEL_8d4e097048684e828584287a03611130"
      ],
      "layout": "IPY_MODEL_73f6006a236c4f098fe715978b22c959"
     }
    }
   }
  }
 },
 "nbformat": 4,
 "nbformat_minor": 1
}
